{
 "cells": [
  {
   "cell_type": "code",
   "execution_count": 1,
   "metadata": {},
   "outputs": [],
   "source": [
    "import numpy as np\n",
    "import hashlib"
   ]
  },
  {
   "cell_type": "code",
   "execution_count": null,
   "metadata": {},
   "outputs": [],
   "source": [
    "def shazam_hash(peaks, fan_value = 35 ):\n",
    "  IDX_FREQ_I = 0\n",
    "  IDX_TIME_J = 1\n",
    "  FINGERPRINT_REDUCTION = 20\n",
    "  # для каждого пика\n",
    "  for i in range(peaks.shape[0]):\n",
    "    for j in range(1,fan_value):\n",
    "      if i+j < peaks.shape[0]:\n",
    "        # получим текущее и следующее пиковое значение частоты\n",
    "        freq1 = peaks[i][IDX_FREQ_I]\n",
    "        freq2 = peaks[i + j][IDX_FREQ_I]\n",
    "\n",
    "        # получим текущее и следующее смещение времени пика\n",
    "        t1 = peaks[i][IDX_TIME_J]\n",
    "        t2 = peaks[i + j][IDX_TIME_J]\n",
    "\n",
    "        # получим разницу по времени\n",
    "        t_delta = t2 - t1\n",
    "\n",
    "        # если разница между минимум и максимом считаем хэш\n",
    "        if t_delta >= 0 and t_delta <= 100:\n",
    "          seq = str(freq1)+\"|\"+str(freq2)+\"|\"+str(t_delta)\n",
    "          h = hashlib.sha1(seq.encode('utf-8'))\n",
    "          # обрезаем хэш\n",
    "          yield (h.hexdigest()[0:FINGERPRINT_REDUCTION], t1)"
   ]
  }
 ],
 "metadata": {
  "kernelspec": {
   "display_name": "Python 3",
   "language": "python",
   "name": "python3"
  },
  "language_info": {
   "codemirror_mode": {
    "name": "ipython",
    "version": 3
   },
   "file_extension": ".py",
   "mimetype": "text/x-python",
   "name": "python",
   "nbconvert_exporter": "python",
   "pygments_lexer": "ipython3",
   "version": "3.10.11"
  }
 },
 "nbformat": 4,
 "nbformat_minor": 2
}
