{
 "cells": [
  {
   "cell_type": "code",
   "execution_count": 1,
   "metadata": {},
   "outputs": [],
   "source": [
    "import sys\n",
    "sys.path.append(\"../\")"
   ]
  },
  {
   "cell_type": "code",
   "execution_count": 2,
   "metadata": {},
   "outputs": [],
   "source": [
    "from db import get_connection\n",
    "from typing import List, Tuple\n",
    "class AudioHashh:\n",
    "  def __init__(self):\n",
    "    pass\n",
    "\n",
    "  @classmethod\n",
    "  def create_table(cls):\n",
    "    conn = get_connection()\n",
    "    sql = \"\"\"\n",
    "    CREATE TABLE IF NOT EXISTS audio_hash (\n",
    "        id serial PRIMARY KEY,\n",
    "        key TEXT NOT NULL,\n",
    "        minhash TEXT NOT NULL,\n",
    "        name TEXT NOT NULL,\n",
    "        frame INTEGER NOT NULL  \n",
    "      )\n",
    "    \"\"\"\n",
    "    conn.cursor().execute(sql)\n",
    "    conn.commit()\n",
    "  \n",
    "  def insertMany(self, data):\n",
    "    conn = get_connection()\n",
    "    sql = \"INSERT INTO audio_hash (id, key, minhash, name, frame) VALUES (DEFAULT, %s, %s, %s, %s)\"\n",
    "    conn.cursor().executemany(sql, data)\n",
    "    conn.commit()\n",
    "    \n",
    "  def getMinHash(self, band)->List[Tuple[str,str,str,int]]:\n",
    "    conn = get_connection()\n",
    "    sql = \"\"\"\n",
    "    SELECT key, minhash, name, frame FROM audio_hash WHERE key in %s\n",
    "    \"\"\"\n",
    "    cur = conn.cursor()\n",
    "    cur.execute(sql, (band,))\n",
    "    minhash = cur.fetchall()\n",
    "    cur.close()\n",
    "    conn.close()\n",
    "    return minhash"
   ]
  },
  {
   "cell_type": "code",
   "execution_count": 3,
   "metadata": {},
   "outputs": [],
   "source": [
    "import numpy as np\n",
    "import random\n",
    "from models.audio.AudioHashModel import AudioHash\n",
    "\n",
    "class MinHash:\n",
    "  def __init__(self, num_perm):\n",
    "    self.permutations = self._permutations_generate(num_perm)\n",
    "  \n",
    "  def _permutations_generate(self, num_perm, seed=5421)->list:\n",
    "    np.random.seed(seed)\n",
    "    permutations = [np.random.choice( 255, 100,replace=False) for _ in range(num_perm)]\n",
    "    return permutations\n",
    "      \n",
    "  def hash(self,array)->list:\n",
    "    signature = []\n",
    "    for permutation in self.permutations:\n",
    "      for j in permutation:\n",
    "        if(array[j] > 0):\n",
    "          signature.append(j)\n",
    "          break\n",
    "    return signature\n",
    "  \n",
    "  def jaccard_similarity(self,signature1, signature2):\n",
    "    intersection = np.sum(np.bitwise_and(signature1, signature2))\n",
    "    union = np.sum(np.bitwise_or(signature1, signature2))\n",
    "    return intersection / union \n",
    "\n",
    "class LsH:\n",
    "    def __init__(self, threshold:float,num_hash_functions:int = 100,bands:int = 25, rows:int = 4):\n",
    "      assert threshold > 0 and threshold < 1\n",
    "      assert bands*rows == num_hash_functions\n",
    "      self._threshold = threshold\n",
    "      self._num_hash_functions = num_hash_functions\n",
    "      self._bands = bands\n",
    "      self._rows = rows\n",
    "      self._min_hash = MinHash(num_hash_functions)\n",
    "      self._buckets = {}\n",
    "    \n",
    "    def clear(self):\n",
    "      self._buckets.clear()\n",
    "    \n",
    "    def searchInDb(self, fingerprints,audioHashes:AudioHash,name,time):\n",
    "        min_hashes = self._min_hash.hash(fingerprints)\n",
    "        band_hashes = []\n",
    "        compared_sketches = set()\n",
    "        \n",
    "        if(len(min_hashes) != self._num_hash_functions):\n",
    "          return None\n",
    "        \n",
    "        \n",
    "        for i in range(self._bands):\n",
    "          band_hashes.append(self._compute_band_hash(min_hashes, i))\n",
    "        dbHashes = audioHashes.getMinHash(tuple(band_hashes))\n",
    "        \n",
    "        for dbHashTuple in dbHashes:\n",
    "          if dbHashTuple[0] in compared_sketches:\n",
    "            continue\n",
    "          dbHash = list(map(int, dbHashTuple[1].split(\",\")))\n",
    "          jac = self._min_hash.jaccard_similarity(dbHash, min_hashes)\n",
    "          if jac >= self._threshold:\n",
    "            return (time, dbHashTuple[0], dbHashTuple[2], dbHashTuple[3], jac)\n",
    "          compared_sketches.add(dbHashTuple[0])\n",
    "          \n",
    "        \n",
    "        # for i in range(self._bands):\n",
    "        #   band_hashes.append(self._compute_band_hash(min_hashes, i))\n",
    "        #   hashes = audioHashes.getMinHash(band_hashes[i])\n",
    "        #   for hash in hashes:\n",
    "        #     if(band_hashes[i] not in compared_sketches):\n",
    "        #       hash_to_check = list(map(int, hash[0].split(\",\")))\n",
    "        #       jac = self._min_hash.jaccard_similarity(hash_to_check, min_hashes)\n",
    "        #       if jac >= self._threshold:\n",
    "        #         return (time, hash[1], hash[2], jac)\n",
    "        #       compared_sketches.add(band_hashes[i])\n",
    "            \n",
    "          # if band_hashes[i] in self._buckets:\n",
    "          #   for sketch_to_check in self._buckets[band_hashes[i]]:\n",
    "          #     check_key = ''.join(str(x) for x in sketch_to_check)\n",
    "          #     if check_key not in compared_sketches:\n",
    "          #       jac = self._min_hash.jaccard_similarity(sketch_to_check[0], min_hashes)\n",
    "          #       if jac >= self._threshold:\n",
    "          #         return (sketch_to_check[0],sketch_to_check[1],sketch_to_check[2], jac)\n",
    "          #       compared_sketches.add(check_key)\n",
    "    \n",
    "    def search(self, fingerprints,name,time, add_to_bucket = True)->tuple :\n",
    "        min_hashes = self._min_hash.hash(fingerprints)\n",
    "        band_hashes = []\n",
    "        compared_sketches = set()\n",
    "        \n",
    "        if(len(min_hashes) != self._num_hash_functions):\n",
    "          return None\n",
    "        \n",
    "        \n",
    "        for i in range(self._bands):\n",
    "          band_hashes.append(self._compute_band_hash(min_hashes, i))\n",
    "          if band_hashes[i] in self._buckets:\n",
    "            for sketch_to_check in self._buckets[band_hashes[i]]:\n",
    "              check_key = ''.join(str(x) for x in sketch_to_check)\n",
    "              if check_key not in compared_sketches:\n",
    "                jac = self._min_hash.jaccard_similarity(sketch_to_check[0], min_hashes)\n",
    "                if jac >= self._threshold:\n",
    "                  return (sketch_to_check[0],sketch_to_check[1],sketch_to_check[2], jac)\n",
    "                compared_sketches.add(check_key)\n",
    "        if add_to_bucket and len(min_hashes) == self._num_hash_functions:\n",
    "          for i in range(self._bands):\n",
    "            if band_hashes[i] not in self._buckets:\n",
    "              self._buckets[band_hashes[i]] = []\n",
    "            self._buckets[band_hashes[i]].append((min_hashes, name, time))\n",
    "            \n",
    "    def add(self, fingerprints, name, time):\n",
    "        min_hashes = self._min_hash.hash(fingerprints)\n",
    "        band_hashes = []\n",
    "        \n",
    "        if(len(min_hashes) != self._num_hash_functions):\n",
    "          return None\n",
    "        \n",
    "        for i in range(self._bands):\n",
    "          band_hashes.append(self._compute_band_hash(min_hashes, i))\n",
    "          if band_hashes[i] not in self._buckets:\n",
    "            self._buckets[band_hashes[i]] = []\n",
    "          self._buckets[band_hashes[i]].append((min_hashes, name, time))\n",
    "          \n",
    "    def _compute_band_hash(self, min_hashes: list, i: int) -> str:\n",
    "        \"\"\"Compute a hash for quick bucket match search.\"\"\"\n",
    "        band_hash_list = []\n",
    "        for j in range(self._rows):\n",
    "            # Adding the rows corresponding to ith band\n",
    "            band_hash_list.append('%02d' % min_hashes[i * self._rows + j])\n",
    "\n",
    "        # Adding the number i to distinguish between bands\n",
    "        band_hash_list.append('%02d' % i)\n",
    "        return ''.join(band_hash_list)\n",
    "      \n",
    "    def get_min_hash(self):\n",
    "      return self._min_hash\n",
    "      "
   ]
  },
  {
   "cell_type": "code",
   "execution_count": 4,
   "metadata": {},
   "outputs": [],
   "source": [
    "from libs.ContentDataSet import ContentDataset"
   ]
  },
  {
   "cell_type": "code",
   "execution_count": 5,
   "metadata": {},
   "outputs": [],
   "source": [
    "valDataset = ContentDataset(\"../data/compressed_val/\")"
   ]
  },
  {
   "cell_type": "code",
   "execution_count": 6,
   "metadata": {},
   "outputs": [],
   "source": [
    "licDataset = ContentDataset(\"../data/test/\")"
   ]
  },
  {
   "cell_type": "code",
   "execution_count": 7,
   "metadata": {},
   "outputs": [],
   "source": [
    "audioLSH = LsH(threshold=0.81)"
   ]
  },
  {
   "cell_type": "code",
   "execution_count": 8,
   "metadata": {},
   "outputs": [],
   "source": [
    "videoLSH = LsH(threshold=0.65)"
   ]
  },
  {
   "cell_type": "code",
   "execution_count": 9,
   "metadata": {},
   "outputs": [],
   "source": [
    "audio1 = valDataset.content_list[0][1]\n",
    "audio2 = licDataset.content_list[0][1]"
   ]
  },
  {
   "cell_type": "code",
   "execution_count": 10,
   "metadata": {},
   "outputs": [],
   "source": [
    "audio1Spec = valDataset.content_list[0][3]"
   ]
  },
  {
   "cell_type": "code",
   "execution_count": 11,
   "metadata": {},
   "outputs": [
    {
     "data": {
      "text/plain": [
       "535"
      ]
     },
     "execution_count": 11,
     "metadata": {},
     "output_type": "execute_result"
    }
   ],
   "source": [
    "audio1.__len__()"
   ]
  },
  {
   "cell_type": "code",
   "execution_count": 12,
   "metadata": {},
   "outputs": [],
   "source": [
    "video1 = valDataset.content_list[0][2]\n",
    "video2 = licDataset.content_list[0][2]"
   ]
  },
  {
   "cell_type": "code",
   "execution_count": 13,
   "metadata": {},
   "outputs": [],
   "source": [
    "for k,f in enumerate(audio2):\n",
    "  audioLSH.search(f,\"Licence\",k)"
   ]
  },
  {
   "cell_type": "code",
   "execution_count": 14,
   "metadata": {},
   "outputs": [],
   "source": [
    "def getSpecificFingerprint(mel_spec,start,end):\n",
    "  def get_energy_spec(spec):\n",
    "    # Transpose 'spec' upfront and get the shifted versions for calculations\n",
    "    specT = spec.T\n",
    "    specT_shifted_vertically = np.roll(specT, shift=-1, axis=0)\n",
    "    specT_shifted_horizontally = np.roll(specT, shift=-1, axis=1)\n",
    "\n",
    "    # Calculate the differences for current and previous rows\n",
    "    diff_current = specT - specT_shifted_horizontally\n",
    "    diff_previous = specT_shifted_vertically - np.roll(specT_shifted_horizontally, shift=-1, axis=0)\n",
    "\n",
    "    # Compute the energy_spec matrix using NumPy's greater function for element-wise comparison\n",
    "    energy_spec = np.greater(diff_current - diff_previous, 0).astype(int)\n",
    "    return energy_spec.T\n",
    "  def get_audio_fingerprint(spec):\n",
    "    fingerprint = []\n",
    "    energy_spec = get_energy_spec(spec)\n",
    "    for i in range(0,energy_spec.shape[1],128):\n",
    "      fingerprint.append(energy_spec[:,i:i+128].flatten())\n",
    "    return fingerprint \n",
    "  return get_audio_fingerprint(mel_spec[:,start:end])\n",
    "  \n",
    "   "
   ]
  },
  {
   "cell_type": "code",
   "execution_count": null,
   "metadata": {},
   "outputs": [],
   "source": []
  },
  {
   "cell_type": "code",
   "execution_count": 15,
   "metadata": {},
   "outputs": [
    {
     "name": "stdout",
     "output_type": "stream",
     "text": [
      "4.045333333333334 Licence 12.382666666666667 0.8110370265285857\n",
      "6.487333333333334 Licence 1.2826666666666666 0.8257506227874656\n",
      "8.288 Licence 8.164666666666667 0.8255813953488372\n",
      "9.842 Licence 14.06 0.8214086859688196\n"
     ]
    }
   ],
   "source": [
    "fragments =[]\n",
    "for k,f in enumerate(audio1):\n",
    "  res = audioLSH.search(f,\"Pirate\",k,add_to_bucket = False)\n",
    "  if res != None:\n",
    "    fragments.append((k,res[0],res[1],res[2],res[3]))\n",
    "    print(k*1.48/60,res[1],res[2]*1.48/60,res[3])"
   ]
  },
  {
   "cell_type": "code",
   "execution_count": 21,
   "metadata": {},
   "outputs": [
    {
     "name": "stdout",
     "output_type": "stream",
     "text": [
      "134 194\n",
      "233 293\n",
      "306 366\n",
      "369 429\n"
     ]
    }
   ],
   "source": [
    "minHash = audioLSH.get_min_hash()\n",
    "#10 sec interval in our frames\n",
    "interval = 30\n",
    "for i, v in enumerate(fragments):\n",
    "  start = int(v[0]) - interval\n",
    "  end = int(v[0]) + interval\n",
    "  if start < 0:\n",
    "    start = 0\n",
    "  #audio1 is fingerprint of the original audio\n",
    "  if end > len(audio1):\n",
    "    end = len(audio1)\n",
    "  \n",
    "  print(start,end)\n",
    "  for j in range(start,end):\n",
    "    newFingerprint = getSpecificFingerprint(audio1Spec,j,end)\n",
    "    for k,f in enumerate(newFingerprint[:-1]):\n",
    "      res = audioLSH.search(f,\"Pirate\",k,add_to_bucket = False)\n",
    "      if res != None:\n",
    "        fragments.append((k,res[0],res[1],res[2],res[3]))\n",
    "        print(k*1.48/60,res[1],res[2]*1.48/60,res[3])\n",
    "  "
   ]
  },
  {
   "cell_type": "code",
   "execution_count": 17,
   "metadata": {},
   "outputs": [],
   "source": [
    "for k,f in enumerate(video2):\n",
    "  videoLSH.search(f,\"Licence\",k)"
   ]
  },
  {
   "cell_type": "code",
   "execution_count": null,
   "metadata": {},
   "outputs": [],
   "source": []
  },
  {
   "cell_type": "code",
   "execution_count": 18,
   "metadata": {},
   "outputs": [
    {
     "name": "stdout",
     "output_type": "stream",
     "text": [
      "0.5666666666666667 Licence 15.133333333333333 0.7108605825638933\n",
      "0.6 Licence 15.133333333333333 0.7151924863246981\n",
      "0.9666666666666667 Licence 0.7 0.6741239238510973\n",
      "1.9666666666666666 Licence 4.466666666666667 0.671400449943757\n",
      "2.2333333333333334 Licence 25.0 0.7140940317732932\n",
      "2.3333333333333335 Licence 2.5 0.6628329297820823\n",
      "3.2333333333333334 Licence 0.0 1.0\n",
      "4.4 Licence 4.233333333333333 0.6679185232336091\n",
      "5.766666666666667 Licence 14.033333333333333 0.7032667876588021\n",
      "6.533333333333333 Licence 7.1 0.6870778083562672\n",
      "6.666666666666667 Licence 0.13333333333333333 0.6673517322372284\n",
      "7.233333333333333 Licence 10.4 0.6508113790158334\n",
      "8.9 Licence 0.0 1.0\n",
      "9.1 Licence 20.866666666666667 0.6877225866916589\n",
      "10.966666666666667 Licence 22.8 0.7039084738340267\n",
      "11.366666666666667 Licence 22.633333333333333 0.6517304877472968\n",
      "12.933333333333334 Licence 2.5 0.6807165437302424\n"
     ]
    }
   ],
   "source": [
    "for k,f in enumerate(video1):\n",
    "  res = videoLSH.search(f,\"Pirate\",k,add_to_bucket = False)\n",
    "  if res != None:\n",
    "    print(k*2/60,res[1],res[2]*2/60,res[3])"
   ]
  },
  {
   "cell_type": "code",
   "execution_count": null,
   "metadata": {},
   "outputs": [],
   "source": []
  }
 ],
 "metadata": {
  "kernelspec": {
   "display_name": "Python 3",
   "language": "python",
   "name": "python3"
  },
  "language_info": {
   "codemirror_mode": {
    "name": "ipython",
    "version": 3
   },
   "file_extension": ".py",
   "mimetype": "text/x-python",
   "name": "python",
   "nbconvert_exporter": "python",
   "pygments_lexer": "ipython3",
   "version": "3.10.11"
  }
 },
 "nbformat": 4,
 "nbformat_minor": 2
}
