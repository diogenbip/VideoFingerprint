{
 "cells": [
  {
   "cell_type": "code",
   "execution_count": 14,
   "metadata": {},
   "outputs": [],
   "source": [
    "import sys\n",
    "sys.path.append(\"../\")"
   ]
  },
  {
   "cell_type": "code",
   "execution_count": 15,
   "metadata": {},
   "outputs": [],
   "source": [
    "from libs.Lsh import LSH "
   ]
  },
  {
   "cell_type": "code",
   "execution_count": 16,
   "metadata": {},
   "outputs": [],
   "source": [
    "import numpy\n",
    "from matplotlib import pyplot, mlab\n",
    "import scipy.io.wavfile\n",
    "from collections import defaultdict\n",
    "import librosa\n",
    "\n",
    "SAMPLE_RATE = 8000 # Hz\n",
    "WINDOW_SIZE = 2048 # размер окна, в котором делается fft\n",
    "WINDOW_STEP = 512 # шаг окна\n",
    "\n",
    "def get_wave_data(wave_filename):\n",
    "    sample_rate, wave_data = scipy.io.wavfile.read(wave_filename)\n",
    "\n",
    "    wave_data, sample_rate = librosa.load(wave_filename, mono=True, sr=8000)\n",
    "\n",
    "    # less_rate = librosa.resample(wave_data[0], orig_sr=sample_rate, target_sr=8000)\n",
    "    # assert less_rate == SAMPLE_RATE, sample_rate\n",
    "    if isinstance(wave_data[0], numpy.ndarray): # стерео\n",
    "        wave_data = wave_data.mean(1)\n",
    "    return wave_data\n",
    "\n",
    "def show_specgram(wave_data):\n",
    "    fig = pyplot.figure()\n",
    "    ax = fig.add_axes((0.1, 0.1, 0.8, 0.8))\n",
    "    ax.specgram(wave_data,\n",
    "        NFFT=WINDOW_SIZE, noverlap=WINDOW_SIZE - WINDOW_STEP, Fs=SAMPLE_RATE)\n",
    "    pyplot.show()\n",
    "\n",
    "wave_data1 = get_wave_data('test_1.wav')\n",
    "wave_data2 = get_wave_data('test_2.wav')"
   ]
  },
  {
   "cell_type": "code",
   "execution_count": 19,
   "metadata": {},
   "outputs": [
    {
     "name": "stdout",
     "output_type": "stream",
     "text": [
      "(8758528,)\n",
      "The needle starts at sample: 16\n",
      "Gain (dB): -50.42\n",
      "SNR (dB), treating gain change as noise: -53.89\n",
      "SNR (dB), treating gain change as signal: -51.31\n"
     ]
    }
   ],
   "source": [
    "\n",
    "import sys\n",
    "\n",
    "import numpy\n",
    "from scipy.io import wavfile\n",
    "from scipy.signal import fftconvolve\n",
    "\n",
    "\n",
    "needle, needle_rate = librosa.load(\"val.wav\",mono=True,sr = 11025)\n",
    "haystack, haystack_rate = librosa.load(\"lic.wav\",mono=True,sr = 11025)\n",
    "\n",
    "print(needle.shape)\n",
    "\n",
    "if needle_rate != haystack_rate:\n",
    "    print >> sys.stderr, \"Sample rates are not the same\"\n",
    "    sys.exit(2)\n",
    "\n",
    "if len(needle.shape) != 1:\n",
    "    print >> sys.stderr, \"Needle file is not mono\"\n",
    "    sys.exit(2)\n",
    "\n",
    "if len(haystack.shape) != 1:\n",
    "    print >> sys.stderr, \"Haystack file is not mono\"\n",
    "    sys.exit(2)\n",
    "\n",
    "if len(needle) == 0:\n",
    "    print >> sys.stderr, \"Needle is empty\"\n",
    "    sys.exit(2)\n",
    "\n",
    "if len(needle) > len(haystack):\n",
    "    print >> sys.stderr, \"Needle is longer than haystack\"\n",
    "    sys.exit(2)\n",
    "\n",
    "needle = numpy.array(needle, dtype=numpy.float64)\n",
    "needle_len = len(needle)\n",
    "haystack = numpy.array(haystack, dtype=numpy.float64)\n",
    "haystack_len = len(haystack)\n",
    "\n",
    "needle_norm = needle.dot(needle)\n",
    "\n",
    "if needle_norm < 1000.0:\n",
    "    print >> sys.stderr, \"The needle is almost silent\"\n",
    "    sys.exit(2)\n",
    "\n",
    "haystack_squared = numpy.hstack(([0.0], haystack * haystack))\n",
    "haystack_cum_norm = numpy.cumsum(haystack_squared)\n",
    "haystack_norm_at = haystack_cum_norm[needle_len:haystack_len + 1] - haystack_cum_norm[0:haystack_len + 1 - needle_len]\n",
    "\n",
    "correlation_at = fftconvolve(haystack, needle[::-1], mode='valid')\n",
    "\n",
    "difference_norm_at = haystack_norm_at + needle_norm - 2 * correlation_at\n",
    "\n",
    "cos2phi_at = correlation_at * correlation_at / (haystack_norm_at + 0.000001) / needle_norm\n",
    "\n",
    "gain_at = correlation_at / needle_norm\n",
    "descaled_difference_norm_at = haystack_norm_at + needle_norm * gain_at * gain_at - 2 * gain_at * correlation_at\n",
    "\n",
    "at = 0\n",
    "\n",
    "mode = \"this\"\n",
    "\n",
    "if mode == 'like':\n",
    "    at = numpy.argmax(correlation_at)\n",
    "if mode == 'similar':\n",
    "    at = numpy.argmax(cos2phi_at)\n",
    "if mode == 'this':\n",
    "    at = numpy.argmin(difference_norm_at)\n",
    "\n",
    "\n",
    "print (\"The needle starts at sample: %d\" % ((at/11025)/60,))\n",
    "print (\"Gain (dB): %3.2f\" % (20.0 * numpy.log10(numpy.abs(gain_at[at]) + 0.000001),))\n",
    "print (\"SNR (dB), treating gain change as noise: %3.2f\" % (\n",
    "    10.0 * numpy.log10(gain_at[at] * gain_at[at] * needle_norm / (difference_norm_at[at] + 0.000001)),))\n",
    "print (\"SNR (dB), treating gain change as signal: %3.2f\" % (\n",
    "    10.0 * numpy.log10(gain_at[at] * gain_at[at] * needle_norm / (descaled_difference_norm_at[at] + 0.000001)),))"
   ]
  },
  {
   "cell_type": "code",
   "execution_count": null,
   "metadata": {},
   "outputs": [],
   "source": [
    "import hashlib"
   ]
  },
  {
   "cell_type": "code",
   "execution_count": null,
   "metadata": {},
   "outputs": [
    {
     "data": {
      "image/png": "[encoded data removed]",
      "text/plain": [
       "<Figure size 640x480 with 1 Axes>"
      ]
     },
     "metadata": {},
     "output_type": "display_data"
    },
    {
     "name": "stdout",
     "output_type": "stream",
     "text": [
      "336.256\n",
      "Наибольший пик в гистограмме: 5254\n",
      "Временной отрезок с максимальным совпадением: 336.256 секунд\n"
     ]
    }
   ],
   "source": [
    "def get_fingerprint(wave_data):\n",
    "    # pxx[freq_idx][t] - мощность сигнала\n",
    "    S_db = librosa.stft(wave_data,n_fft=WINDOW_SIZE,hop_length=WINDOW_STEP)\n",
    "    S_db = numpy.abs(S_db)**2\n",
    "    # pxx, _, _ = mlab.specgram(wave_data,\n",
    "    #     NFFT=WINDOW_SIZE, noverlap=WINDOW_SIZE-WINDOW_STEP, Fs=SAMPLE_RATE)\n",
    "    band = S_db[15:250]  # наиболее интересные частоты от 60 до 1000 Hz\n",
    "    return numpy.argmax(band.transpose(), 1)  # max в каждый момент времени\n",
    "\n",
    "fp1 = get_fingerprint(wave_data2)\n",
    "fp2 = get_fingerprint(wave_data1)\n",
    "\n",
    "def compare_fingerprints(base_fp, fp):\n",
    "    base_fp_hash = defaultdict(list)\n",
    "    for time_index, freq_index in enumerate(base_fp):\n",
    "        base_fp_hash[freq_index].append(time_index)\n",
    "    matches = [t - time_index  # разницы времен совпавших частот\n",
    "        for time_index, freq_index in enumerate(fp)\n",
    "        for t in base_fp_hash[freq_index]]\n",
    "    pyplot.clf()\n",
    "    pyplot.hist(matches, 10048)\n",
    "    pyplot.show()\n",
    "\n",
    "    return matches\n",
    "\n",
    "res = compare_fingerprints(fp1, fp2)\n",
    "\n",
    "max_match_index = numpy.argmax(numpy.histogram(res, bins=10048)[0])\n",
    "time_offset = max_match_index * WINDOW_STEP / SAMPLE_RATE\n",
    "print(time_offset)\n",
    "print(f\"Наибольший пик в гистограмме: {max_match_index}\")\n",
    "print(f\"Временной отрезок с максимальным совпадением: {time_offset} секунд\")"
   ]
  }
 ],
 "metadata": {
  "kernelspec": {
   "display_name": "Python 3",
   "language": "python",
   "name": "python3"
  },
  "language_info": {
   "codemirror_mode": {
    "name": "ipython",
    "version": 3
   },
   "file_extension": ".py",
   "mimetype": "text/x-python",
   "name": "python",
   "nbconvert_exporter": "python",
   "pygments_lexer": "ipython3",
   "version": "3.10.11"
  }
 },
 "nbformat": 4,
 "nbformat_minor": 2
}
