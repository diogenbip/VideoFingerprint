{
 "cells": [
  {
   "cell_type": "code",
   "execution_count": 1,
   "metadata": {},
   "outputs": [],
   "source": [
    "import random "
   ]
  },
  {
   "cell_type": "code",
   "execution_count": 2,
   "metadata": {},
   "outputs": [],
   "source": [
    "def minHASH(arrays, num_perm):\n",
    "  permutations = []\n",
    "  count = 0\n",
    "  while count < num_perm:\n",
    "    perm = random.sample(range(0, len(arrays[0])), len(arrays[0]))\n",
    "      # print(skm.mutual_info_score(arrays[0], perm))\n",
    "    permutations.append(perm)\n",
    "    count += 1\n",
    "    \n",
    "  signatures = []\n",
    "  for i in range(len(arrays)):\n",
    "    signature = []\n",
    "    for permutation in permutations:\n",
    "      for j in permutation:\n",
    "        if(arrays[i][j] == 1):\n",
    "          signature.append(j)\n",
    "          break\n",
    "    signatures.append(signature)\n",
    "  return signatures\n",
    "      "
   ]
  }
 ],
 "metadata": {
  "kernelspec": {
   "display_name": "Python 3",
   "language": "python",
   "name": "python3"
  },
  "language_info": {
   "codemirror_mode": {
    "name": "ipython",
    "version": 3
   },
   "file_extension": ".py",
   "mimetype": "text/x-python",
   "name": "python",
   "nbconvert_exporter": "python",
   "pygments_lexer": "ipython3",
   "version": "3.10.11"
  }
 },
 "nbformat": 4,
 "nbformat_minor": 2
}
