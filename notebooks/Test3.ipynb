{
 "cells": [
  {
   "cell_type": "code",
   "execution_count": 195,
   "metadata": {},
   "outputs": [
    {
     "data": {
      "text/plain": [
       "['d:\\\\projects\\\\moshack\\\\notebooks',\n",
       " 'c:\\\\Users\\\\diogenbip\\\\AppData\\\\Local\\\\Programs\\\\Python\\\\Python310\\\\python310.zip',\n",
       " 'c:\\\\Users\\\\diogenbip\\\\AppData\\\\Local\\\\Programs\\\\Python\\\\Python310\\\\DLLs',\n",
       " 'c:\\\\Users\\\\diogenbip\\\\AppData\\\\Local\\\\Programs\\\\Python\\\\Python310\\\\lib',\n",
       " 'c:\\\\Users\\\\diogenbip\\\\AppData\\\\Local\\\\Programs\\\\Python\\\\Python310',\n",
       " '',\n",
       " 'c:\\\\Users\\\\diogenbip\\\\AppData\\\\Local\\\\Programs\\\\Python\\\\Python310\\\\lib\\\\site-packages',\n",
       " 'c:\\\\Users\\\\diogenbip\\\\AppData\\\\Local\\\\Programs\\\\Python\\\\Python310\\\\lib\\\\site-packages\\\\win32',\n",
       " 'c:\\\\Users\\\\diogenbip\\\\AppData\\\\Local\\\\Programs\\\\Python\\\\Python310\\\\lib\\\\site-packages\\\\win32\\\\lib',\n",
       " 'c:\\\\Users\\\\diogenbip\\\\AppData\\\\Local\\\\Programs\\\\Python\\\\Python310\\\\lib\\\\site-packages\\\\Pythonwin',\n",
       " '../',\n",
       " '../',\n",
       " '../',\n",
       " '../',\n",
       " '../']"
      ]
     },
     "execution_count": 195,
     "metadata": {},
     "output_type": "execute_result"
    }
   ],
   "source": [
    "import sys\n",
    "sys.path.append(\"../\")\n",
    "sys.path"
   ]
  },
  {
   "cell_type": "code",
   "execution_count": 196,
   "metadata": {},
   "outputs": [],
   "source": [
    "import random \n",
    "import librosa\n",
    "import numpy as np\n",
    "import matplotlib.pyplot as plt\n",
    "import libs.AudioDataSet"
   ]
  },
  {
   "cell_type": "code",
   "execution_count": 197,
   "metadata": {},
   "outputs": [],
   "source": [
    "def jaccard_similarity(signature1, signature2):\n",
    "    \"\"\"\n",
    "    Compute the Jaccard similarity between two MinHash signatures.\n",
    "\n",
    "    Parameters:\n",
    "    signature1 (numpy array): MinHash signature of shape (num_hashes,)\n",
    "    signature2 (numpy array): MinHash signature of shape (num_hashes,)\n",
    "\n",
    "    Returns:\n",
    "    similarity (float): Jaccard similarity between the two signatures\n",
    "    \"\"\"\n",
    "    intersection = np.sum(np.bitwise_and(signature1, signature2))\n",
    "    union = np.sum(np.bitwise_or(signature1, signature2))\n",
    "    return intersection / union\n",
    "\n",
    "def minHASH(arrays, num_perm):\n",
    "  permutations = []\n",
    "  count = 0\n",
    "  while count < num_perm:\n",
    "    perm = random.sample(range(0, len(arrays[0])), len(arrays[0]))\n",
    "      # print(skm.mutual_info_score(arrays[0], perm))\n",
    "    permutations.append(perm)\n",
    "    count += 1\n",
    "    \n",
    "  signatures = []\n",
    "  for i in range(len(arrays)):\n",
    "    signature = []\n",
    "    for permutation in permutations:\n",
    "      for j in permutation:\n",
    "        if(arrays[i][j] == 1):\n",
    "          signature.append(j)\n",
    "          break\n",
    "    signatures.append(signature)\n",
    "  return signatures\n",
    "      "
   ]
  },
  {
   "cell_type": "code",
   "execution_count": 198,
   "metadata": {},
   "outputs": [],
   "source": [
    "class MinHash:\n",
    "  def __init__(self, num_perm):\n",
    "    self.permutations = self._permutations_generate(num_perm)\n",
    "  \n",
    "  def _permutations_generate(self, num_perm)->list:\n",
    "    permutations = []\n",
    "    count = 0\n",
    "    while count < num_perm:\n",
    "      perm = random.sample(range(0, 255), 100)\n",
    "      permutations.append(perm)\n",
    "      count += 1\n",
    "    return permutations\n",
    "      \n",
    "  def hash(self,array)->list:\n",
    "    signature = []\n",
    "    for permutation in self.permutations:\n",
    "      for j in permutation:\n",
    "        if(array[j] == 1):\n",
    "          signature.append(j)\n",
    "          break\n",
    "    return signature\n",
    "  \n",
    "  def jaccard_similarity(self,signature1, signature2):\n",
    "    intersection = np.sum(np.bitwise_and(signature1, signature2))\n",
    "    union = np.sum(np.bitwise_or(signature1, signature2))\n",
    "    return intersection / union "
   ]
  },
  {
   "cell_type": "code",
   "execution_count": 199,
   "metadata": {},
   "outputs": [],
   "source": [
    "class LSH:\n",
    "    \n",
    "    def __init__(self, threshold:float,num_hash_functions:int = 100,bands:int = 25, rows:int = 4):\n",
    "      assert threshold > 0 and threshold < 1\n",
    "      assert bands*rows == num_hash_functions\n",
    "      self._threshold = threshold\n",
    "      self._num_hash_functions = num_hash_functions\n",
    "      self._bands = bands\n",
    "      self._rows = rows\n",
    "      self._min_hash = MinHash(num_hash_functions)\n",
    "      self._buckets = {}\n",
    "    \n",
    "    def clear(self):\n",
    "      self._buckets.clear()\n",
    "\n",
    "    def search(self, fingerprints,name,time, add_to_bucket = True)->tuple :\n",
    "        min_hashes = self._min_hash.hash(fingerprints)\n",
    "        band_hashes = []\n",
    "        compared_sketches = set()\n",
    "        \n",
    "        if(len(min_hashes) != self._num_hash_functions):\n",
    "          return None\n",
    "        \n",
    "        for i in range(self._bands):\n",
    "          band_hashes.append(self._compute_band_hash(min_hashes, i))\n",
    "          if band_hashes[i] in self._buckets:\n",
    "            for sketch_to_check in self._buckets[band_hashes[i]]:\n",
    "              check_key = ''.join(str(x) for x in sketch_to_check)\n",
    "              if check_key not in compared_sketches:\n",
    "                jac = self._min_hash.jaccard_similarity(sketch_to_check[0], min_hashes)\n",
    "                if jac >= self._threshold:\n",
    "                  return (sketch_to_check[0],sketch_to_check[1],sketch_to_check[2], jac)\n",
    "                compared_sketches.add(check_key)\n",
    "        if add_to_bucket:\n",
    "          for i in range(self._bands):\n",
    "            if band_hashes[i] not in self._buckets:\n",
    "              self._buckets[band_hashes[i]] = []\n",
    "            self._buckets[band_hashes[i]].append((min_hashes, name, time))\n",
    "          \n",
    "    def _compute_band_hash(self, min_hashes: list, i: int) -> str:\n",
    "        \"\"\"Compute a hash for quick bucket match search.\"\"\"\n",
    "        band_hash_list = []\n",
    "        for j in range(self._rows):\n",
    "            # Adding the rows corresponding to ith band\n",
    "            band_hash_list.append('%02d' % min_hashes[i * self._rows + j])\n",
    "\n",
    "        # Adding the number i to distinguish between bands\n",
    "        band_hash_list.append('%02d' % i)\n",
    "        return ''.join(band_hash_list)\n",
    "      \n",
    "    def get_min_hash(self):\n",
    "      return self._min_hash\n",
    "      "
   ]
  },
  {
   "cell_type": "code",
   "execution_count": 200,
   "metadata": {},
   "outputs": [],
   "source": [
    "def get_32bin_mel(samples):\n",
    "  return librosa.feature.melspectrogram(y=samples, sr=5512,n_fft=2048, hop_length=64, n_mels=32)"
   ]
  },
  {
   "cell_type": "code",
   "execution_count": 201,
   "metadata": {},
   "outputs": [],
   "source": [
    "def get_energy_spec(spec):\n",
    "  # Transpose 'spec' upfront and get the shifted versions for calculations\n",
    "  specT = spec.T\n",
    "  specT_shifted_vertically = np.roll(specT, shift=-1, axis=0)\n",
    "  specT_shifted_horizontally = np.roll(specT, shift=-1, axis=1)\n",
    "\n",
    "  # Calculate the differences for current and previous rows\n",
    "  diff_current = specT - specT_shifted_horizontally\n",
    "  diff_previous = specT_shifted_vertically - np.roll(specT_shifted_horizontally, shift=-1, axis=0)\n",
    "\n",
    "  # Compute the energy_spec matrix using NumPy's greater function for element-wise comparison\n",
    "  energy_spec = np.greater(diff_current - diff_previous, 0).astype(int)\n",
    "  return energy_spec.T"
   ]
  },
  {
   "cell_type": "code",
   "execution_count": 202,
   "metadata": {},
   "outputs": [],
   "source": [
    "dataSet = libs.AudioDataSet.AudioDataset(\"../data/compressed_index/\")\n",
    "\n",
    "\n"
   ]
  },
  {
   "cell_type": "code",
   "execution_count": 203,
   "metadata": {},
   "outputs": [],
   "source": [
    "audio_1 = dataSet[0]\n"
   ]
  },
  {
   "cell_type": "code",
   "execution_count": 204,
   "metadata": {},
   "outputs": [],
   "source": [
    "audio_2 = dataSet[198]"
   ]
  },
  {
   "cell_type": "code",
   "execution_count": 205,
   "metadata": {},
   "outputs": [],
   "source": [
    "audio_3 = dataSet[1]"
   ]
  },
  {
   "cell_type": "code",
   "execution_count": 206,
   "metadata": {},
   "outputs": [
    {
     "name": "stdout",
     "output_type": "stream",
     "text": [
      "MoviePy - Writing audio in test_2.wav\n"
     ]
    },
    {
     "name": "stderr",
     "output_type": "stream",
     "text": [
      "                                                                      "
     ]
    },
    {
     "name": "stdout",
     "output_type": "stream",
     "text": [
      "MoviePy - Done.\n"
     ]
    },
    {
     "name": "stderr",
     "output_type": "stream",
     "text": [
      "\r"
     ]
    }
   ],
   "source": [
    "from moviepy.audio.AudioClip import AudioArrayClip\n",
    "audio2 = AudioArrayClip(audio_2.T, fps=5512*2)\n",
    "audio2.write_audiofile('test_2.wav')"
   ]
  },
  {
   "cell_type": "code",
   "execution_count": 207,
   "metadata": {},
   "outputs": [],
   "source": [
    "energy_spec1 = get_energy_spec(get_32bin_mel(audio_1[0]))\n",
    "energy_spec2 = get_energy_spec(get_32bin_mel(audio_2[0]))"
   ]
  },
  {
   "cell_type": "code",
   "execution_count": 208,
   "metadata": {},
   "outputs": [],
   "source": [
    "fingerprint1 = []\n",
    "for i in range(0,energy_spec1.shape[1],128):\n",
    "  fingerprint1.append(energy_spec1[:,i:i+128].flatten())\n",
    "fingerprint2 = []\n",
    "for i in range(0,energy_spec2.shape[1],128):\n",
    "  fingerprint2.append(energy_spec2[:,i:i+128].flatten())\n"
   ]
  },
  {
   "cell_type": "code",
   "execution_count": 209,
   "metadata": {},
   "outputs": [],
   "source": [
    "lsh = LSH(0.81)"
   ]
  },
  {
   "cell_type": "code",
   "execution_count": 210,
   "metadata": {},
   "outputs": [],
   "source": [
    "for i,f in enumerate(fingerprint1):\n",
    "  lsh.search(f,\"First video\",i)"
   ]
  },
  {
   "cell_type": "code",
   "execution_count": 211,
   "metadata": {},
   "outputs": [],
   "source": [
    "sims = {}\n",
    "for i,f in enumerate(fingerprint2):\n",
    "  s = lsh.search(f,\"Second video\",i,add_to_bucket=False)\n",
    "  if(s is not None):\n",
    "    # print(\"This time: \", i*1.48)\n",
    "    # print(s[1:])\n",
    "    if i in sims:\n",
    "      sims[i].append(s)\n",
    "    else:\n",
    "      sims[i] = [s]"
   ]
  },
  {
   "cell_type": "code",
   "execution_count": 212,
   "metadata": {},
   "outputs": [],
   "source": [
    "sotred = dict(sorted(sims.items(), key=lambda x: x[1][0][3]))"
   ]
  },
  {
   "cell_type": "code",
   "execution_count": 213,
   "metadata": {},
   "outputs": [],
   "source": [
    "def get_sync_frame(key, minhash):\n",
    "  sec_30 = 30 * 5512 // 64\n",
    "  check_frame = key*128\n",
    "  minHash = lsh.get_min_hash()\n",
    "  for i in range(check_frame - sec_30, check_frame + sec_30):\n",
    "    fingerprint = energy_spec2[:,i:i+128].flatten()\n",
    "    if len(fingerprint) != 128:\n",
    "      continue\n",
    "    fingerprint = minHash.hash(fingerprint)\n",
    "    jac = minHash.jaccard_similarity(fingerprint, minhash)\n",
    "    if(jac > 0.98):\n",
    "      return i\n",
    "  return -1\n",
    "\n",
    "\n",
    "\n"
   ]
  },
  {
   "cell_type": "code",
   "execution_count": 214,
   "metadata": {},
   "outputs": [
    {
     "ename": "IndexError",
     "evalue": "index 156 is out of bounds for axis 0 with size 128",
     "output_type": "error",
     "traceback": [
      "\u001b[1;31m---------------------------------------------------------------------------\u001b[0m",
      "\u001b[1;31mIndexError\u001b[0m                                Traceback (most recent call last)",
      "Cell \u001b[1;32mIn[214], line 3\u001b[0m\n\u001b[0;32m      1\u001b[0m sync_frames \u001b[38;5;241m=\u001b[39m []\n\u001b[0;32m      2\u001b[0m \u001b[38;5;28;01mfor\u001b[39;00m key,value \u001b[38;5;129;01min\u001b[39;00m sotred\u001b[38;5;241m.\u001b[39mitems():\n\u001b[1;32m----> 3\u001b[0m   frame \u001b[38;5;241m=\u001b[39m \u001b[43mget_sync_frame\u001b[49m\u001b[43m(\u001b[49m\u001b[43mkey\u001b[49m\u001b[43m,\u001b[49m\u001b[43m \u001b[49m\u001b[43mvalue\u001b[49m\u001b[43m[\u001b[49m\u001b[38;5;241;43m0\u001b[39;49m\u001b[43m]\u001b[49m\u001b[43m[\u001b[49m\u001b[38;5;241;43m0\u001b[39;49m\u001b[43m]\u001b[49m\u001b[43m)\u001b[49m\n\u001b[0;32m      4\u001b[0m   \u001b[38;5;28;01mif\u001b[39;00m(frame \u001b[38;5;241m!=\u001b[39m \u001b[38;5;241m-\u001b[39m\u001b[38;5;241m1\u001b[39m):\n\u001b[0;32m      5\u001b[0m     sync_frames\u001b[38;5;241m.\u001b[39mappend(frame)\n",
      "Cell \u001b[1;32mIn[213], line 9\u001b[0m, in \u001b[0;36mget_sync_frame\u001b[1;34m(key, minhash)\u001b[0m\n\u001b[0;32m      7\u001b[0m \u001b[38;5;28;01mif\u001b[39;00m \u001b[38;5;28mlen\u001b[39m(fingerprint) \u001b[38;5;241m!=\u001b[39m \u001b[38;5;241m128\u001b[39m:\n\u001b[0;32m      8\u001b[0m   \u001b[38;5;28;01mcontinue\u001b[39;00m\n\u001b[1;32m----> 9\u001b[0m fingerprint \u001b[38;5;241m=\u001b[39m \u001b[43mminHash\u001b[49m\u001b[38;5;241;43m.\u001b[39;49m\u001b[43mhash\u001b[49m\u001b[43m(\u001b[49m\u001b[43mfingerprint\u001b[49m\u001b[43m)\u001b[49m\n\u001b[0;32m     10\u001b[0m jac \u001b[38;5;241m=\u001b[39m minHash\u001b[38;5;241m.\u001b[39mjaccard_similarity(fingerprint, minhash)\n\u001b[0;32m     11\u001b[0m \u001b[38;5;28;01mif\u001b[39;00m(jac \u001b[38;5;241m>\u001b[39m \u001b[38;5;241m0.98\u001b[39m):\n",
      "Cell \u001b[1;32mIn[198], line 18\u001b[0m, in \u001b[0;36mMinHash.hash\u001b[1;34m(self, array)\u001b[0m\n\u001b[0;32m     16\u001b[0m \u001b[38;5;28;01mfor\u001b[39;00m permutation \u001b[38;5;129;01min\u001b[39;00m \u001b[38;5;28mself\u001b[39m\u001b[38;5;241m.\u001b[39mpermutations:\n\u001b[0;32m     17\u001b[0m   \u001b[38;5;28;01mfor\u001b[39;00m j \u001b[38;5;129;01min\u001b[39;00m permutation:\n\u001b[1;32m---> 18\u001b[0m     \u001b[38;5;28;01mif\u001b[39;00m(\u001b[43marray\u001b[49m\u001b[43m[\u001b[49m\u001b[43mj\u001b[49m\u001b[43m]\u001b[49m \u001b[38;5;241m==\u001b[39m \u001b[38;5;241m1\u001b[39m):\n\u001b[0;32m     19\u001b[0m       signature\u001b[38;5;241m.\u001b[39mappend(j)\n\u001b[0;32m     20\u001b[0m       \u001b[38;5;28;01mbreak\u001b[39;00m\n",
      "\u001b[1;31mIndexError\u001b[0m: index 156 is out of bounds for axis 0 with size 128"
     ]
    }
   ],
   "source": [
    "sync_frames = []\n",
    "for key,value in sotred.items():\n",
    "  frame = get_sync_frame(key, value[0][0])\n",
    "  if(frame != -1):\n",
    "    sync_frames.append(frame)"
   ]
  },
  {
   "cell_type": "code",
   "execution_count": null,
   "metadata": {},
   "outputs": [
    {
     "data": {
      "text/plain": [
       "[]"
      ]
     },
     "execution_count": 194,
     "metadata": {},
     "output_type": "execute_result"
    }
   ],
   "source": [
    "sync_frames"
   ]
  },
  {
   "cell_type": "code",
   "execution_count": null,
   "metadata": {},
   "outputs": [],
   "source": [
    "\n",
    "\n",
    "sync_frame = get_sync_frame(sotred)\n",
    "sync_fingerprint = []\n",
    "if(sync_frame != -1):\n",
    "  for i in range(sync_frame,energy_spec2.shape[1],128):\n",
    "    sync_fingerprint.append(energy_spec2[:,i:i+128].flatten())"
   ]
  },
  {
   "cell_type": "code",
   "execution_count": null,
   "metadata": {},
   "outputs": [
    {
     "name": "stdout",
     "output_type": "stream",
     "text": [
      "[[1022, 1086]]\n"
     ]
    }
   ],
   "source": [
    "ranges = []\n",
    "range_i = []\n",
    "for i,f in enumerate(sync_fingerprint):\n",
    "  s = lsh.search(f,\"Second video\",i,add_to_bucket=False)\n",
    "  if(s is not None):\n",
    "    # this_min, this_sec = divmod((i+sync_frame//128)*1.48, 60)\n",
    "    # this_time_str = '{:02d}:{:02d}'.format(int(this_min), int(this_sec)) \n",
    "    # target_min, target_sec = divmod(s[2]*1.48, 60)\n",
    "    # target_time_str = '{:02d}:{:02d}'.format(int(target_min), int(target_sec))\n",
    "    if(len(range_i) == 0):\n",
    "      range_i = [i+sync_frame//128, s[2]]\n",
    "    else:\n",
    "      #430 - 5 sec\n",
    "      if(s[2] - range_i[1]< 430):\n",
    "        range_i[1] = s[2]\n",
    "      else:\n",
    "        ranges.append(range_i)\n",
    "        range_i = [i+sync_frame/128, s[2]]\n",
    "\n",
    "if(len(range_i) > 0):\n",
    "  ranges.append(range_i)\n",
    "    \n",
    "    # print(s[1:])\n",
    "print(ranges)\n"
   ]
  }
 ],
 "metadata": {
  "kernelspec": {
   "display_name": "Python 3",
   "language": "python",
   "name": "python3"
  },
  "language_info": {
   "codemirror_mode": {
    "name": "ipython",
    "version": 3
   },
   "file_extension": ".py",
   "mimetype": "text/x-python",
   "name": "python",
   "nbconvert_exporter": "python",
   "pygments_lexer": "ipython3",
   "version": "3.10.11"
  }
 },
 "nbformat": 4,
 "nbformat_minor": 2
}
