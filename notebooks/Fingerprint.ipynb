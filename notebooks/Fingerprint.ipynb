{
 "cells": [
  {
   "cell_type": "code",
   "execution_count": null,
   "metadata": {},
   "outputs": [],
   "source": [
    "from libs.AudioHelper import *\n",
    "from libs.AudioHash import *\n",
    "\n",
    "def fingerprint(samples):\n",
    "  spec = get_spectrogram(samples)\n",
    "  peaks_map = compute_constellation_map(spec)\n",
    "  peaks = get_peaks(peaks_map)\n",
    "  return shazam_hash(peaks, fan_value=35)"
   ]
  }
 ],
 "metadata": {
  "language_info": {
   "name": "python"
  }
 },
 "nbformat": 4,
 "nbformat_minor": 2
}
