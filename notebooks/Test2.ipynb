{
 "cells": [
  {
   "cell_type": "code",
   "execution_count": 2,
   "metadata": {},
   "outputs": [],
   "source": [
    "import sys\n",
    "sys.path.append(\"../\")"
   ]
  },
  {
   "cell_type": "code",
   "execution_count": 3,
   "metadata": {},
   "outputs": [],
   "source": [
    "import libs.AudioDataSet\n",
    "import torchaudio.transforms as transforms\n",
    "import torch\n",
    "import matplotlib.pyplot as plt\n",
    "import librosa\n",
    "import hashlib\n",
    "from scipy.ndimage.filters import maximum_filter, gaussian_filter\n",
    "from scipy.ndimage.morphology import (generate_binary_structure, iterate_structure, binary_erosion)"
   ]
  },
  {
   "cell_type": "code",
   "execution_count": 4,
   "metadata": {},
   "outputs": [],
   "source": [
    "def plot_spectrogram(specgram, title=None, ylabel=\"freq_bin\"):\n",
    "    fig, axs = plt.subplots(1,figsize=(12,8))\n",
    "    axs.set_title(None)\n",
    "    axs.set_ylabel(ylabel)\n",
    "    axs.set_xlabel(\"frame\")\n",
    "    im = axs.imshow(librosa.power_to_db(specgram),cmap=\"gray\", origin=\"lower\", aspect=\"auto\")\n",
    "    plt.show(block=False)\n",
    "    axs.axes.get_xaxis().set_visible(False)\n",
    "    axs.axes.get_yaxis().set_visible(False)\n",
    "    axs.set_frame_on(False)\n",
    "    axs.set_xlabel(None)\n",
    "    axs.set_ylabel(None)"
   ]
  },
  {
   "cell_type": "code",
   "execution_count": 5,
   "metadata": {},
   "outputs": [],
   "source": [
    "dataSet = libs.AudioDataSet.AudioDataset(\"../data/compressed_index/\")"
   ]
  },
  {
   "cell_type": "code",
   "execution_count": 6,
   "metadata": {},
   "outputs": [],
   "source": [
    "audio = dataSet[0]\n"
   ]
  },
  {
   "cell_type": "code",
   "execution_count": 7,
   "metadata": {},
   "outputs": [],
   "source": [
    "audio_2 = dataSet[1]"
   ]
  },
  {
   "cell_type": "code",
   "execution_count": 8,
   "metadata": {},
   "outputs": [],
   "source": [
    "audio_slice = audio[:,300000:600000]"
   ]
  },
  {
   "cell_type": "code",
   "execution_count": 9,
   "metadata": {},
   "outputs": [
    {
     "name": "stdout",
     "output_type": "stream",
     "text": [
      "MoviePy - Writing audio in test_1.wav\n"
     ]
    },
    {
     "name": "stderr",
     "output_type": "stream",
     "text": [
      "chunk:   0%|          | 0/4509 [00:00<?, ?it/s, now=None]"
     ]
    },
    {
     "name": "stderr",
     "output_type": "stream",
     "text": [
      "                                                                       \r"
     ]
    },
    {
     "name": "stdout",
     "output_type": "stream",
     "text": [
      "MoviePy - Done.\n",
      "MoviePy - Writing audio in test_2.wav\n"
     ]
    },
    {
     "name": "stderr",
     "output_type": "stream",
     "text": [
      "                                                        "
     ]
    },
    {
     "name": "stdout",
     "output_type": "stream",
     "text": [
      "MoviePy - Done.\n"
     ]
    },
    {
     "name": "stderr",
     "output_type": "stream",
     "text": [
      "\r"
     ]
    }
   ],
   "source": [
    "from moviepy.audio.AudioClip import AudioArrayClip\n",
    "audio1 = AudioArrayClip(audio.T, fps=5512*2)\n",
    "audio2 = AudioArrayClip(audio_slice.T, fps=5512*2)\n",
    "\n",
    "audio1.write_audiofile('test_1.wav')\n",
    "audio2.write_audiofile('test_2.wav')"
   ]
  },
  {
   "cell_type": "code",
   "execution_count": 10,
   "metadata": {},
   "outputs": [
    {
     "name": "stdout",
     "output_type": "stream",
     "text": [
      "MoviePy - Writing audio in test_3.wav\n"
     ]
    },
    {
     "name": "stderr",
     "output_type": "stream",
     "text": [
      "                                                                       "
     ]
    },
    {
     "name": "stdout",
     "output_type": "stream",
     "text": [
      "MoviePy - Done.\n"
     ]
    },
    {
     "name": "stderr",
     "output_type": "stream",
     "text": [
      "\r"
     ]
    }
   ],
   "source": [
    "audio3 = AudioArrayClip(audio_2.T, fps=5512*2)\n",
    "audio3.write_audiofile('test_3.wav')"
   ]
  },
  {
   "cell_type": "code",
   "execution_count": 11,
   "metadata": {},
   "outputs": [],
   "source": [
    "#Получает карту созвездий (как шазам)\n",
    "def constellation_hash(peaks, neighbor_size=7):\n",
    "    # peaks are fq x time\n",
    "    peak_indices = torch.nonzero(peaks)\n",
    "    \n",
    "    for i in range(peak_indices.shape[0]):\n",
    "        anchor = peak_indices[i]\n",
    "        for j in range(1, min(neighbor_size, peak_indices.shape[0] - i)):\n",
    "            # hash is: fq of anchor | fq of neighbor | neighbor.time - anchor.time\n",
    "            neighbor = peak_indices[i+j]\n",
    "            delta = neighbor[1] - anchor[1]\n",
    "            if delta < 20:\n",
    "                continue\n",
    "            seq = f\"{anchor[0]}|{neighbor[0]}|{delta}\"\n",
    "            h = hashlib.md5(seq.encode('utf-8'))\n",
    "            # return (hash(seq), anchor.time)\n",
    "            yield (h.hexdigest()[0:20], int(anchor[1]))"
   ]
  },
  {
   "cell_type": "code",
   "execution_count": 12,
   "metadata": {},
   "outputs": [],
   "source": [
    "from datasketch import MinHash, MinHashLSH, MinHashLSHEnsemble, MinHashLSHForest"
   ]
  },
  {
   "cell_type": "code",
   "execution_count": 13,
   "metadata": {},
   "outputs": [],
   "source": [
    "lsh = MinHashLSH(threshold=0.5, num_perm=128)\n",
    "def minhash(peaks,name=\"\"):\n",
    "  minhashes = []\n",
    "  nonzero = peaks.nonzero()\n",
    "  \n",
    "  # delta_time = nonzero[0][1]\n",
    "  # m = MinHash(num_perm=128)\n",
    "  # for peak in nonzero:\n",
    "  #   if peak[1] - delta_time > 10:\n",
    "  #     minhashes.append(m)\n",
    "  #     lsh.insert(name+\"_\"+str(delta_time), m)\n",
    "  #     m.clear()\n",
    "  #     delta_time = peak[1]\n",
    "  #   m.update(str(peak).encode('utf-8'))\n",
    "  return minhashes"
   ]
  },
  {
   "cell_type": "code",
   "execution_count": 14,
   "metadata": {},
   "outputs": [],
   "source": [
    "# Получает пики\n",
    "def get_peaks(samples):\n",
    "  spec = transforms.Spectrogram(n_fft=1024, hop_length=256)(torch.from_numpy(samples))\n",
    "  struct = generate_binary_structure(2, 1)\n",
    "  neighborhood = iterate_structure(struct, 7)\n",
    "  dilated = maximum_filter(spec[0],footprint=neighborhood, size=10)\n",
    "  peaks = torch.abs(torch.from_numpy(dilated) - spec[0])\n",
    "  peaks = torch.where(peaks == 0, 1, 0)\n",
    "  background = binary_erosion(gaussian_filter(torch.abs(spec[0]), sigma=10), structure=neighborhood)\n",
    "  erosed_peaks = peaks * background\n",
    "  return erosed_peaks"
   ]
  },
  {
   "cell_type": "code",
   "execution_count": 15,
   "metadata": {},
   "outputs": [],
   "source": [
    "def fingerprint(samples,name=\"\"):\n",
    "    spec = transforms.Spectrogram(n_fft=1024, hop_length=256)(torch.from_numpy(samples))\n",
    "    struct = generate_binary_structure(2, 1)\n",
    "    neighborhood = iterate_structure(struct, 7)\n",
    "    dilated = maximum_filter(spec[0],footprint=neighborhood, size=10)\n",
    "    peaks = torch.abs(torch.from_numpy(dilated) - spec[0])\n",
    "    peaks = torch.where(peaks == 0, 1, 0)\n",
    "    background = binary_erosion(gaussian_filter(torch.abs(spec[0]), sigma=10), structure=neighborhood)\n",
    "    erosed_peaks = peaks * background\n",
    "    return minhash(erosed_peaks,name=name)\n",
    "    # return  constellation_hash(erosed_peaks,neighbor_size=7)"
   ]
  },
  {
   "cell_type": "code",
   "execution_count": null,
   "metadata": {},
   "outputs": [],
   "source": [
    "def hanna_spectrogram(samples):\n",
    "  spec = librosa.stft(samples, n_fft=2048, hop_length=64, window=\"hann\",)"
   ]
  },
  {
   "cell_type": "code",
   "execution_count": 33,
   "metadata": {},
   "outputs": [],
   "source": [
    "from scipy import signal \n",
    "import numpy as np\n",
    "\n",
    "def create_log_spectrogram(samples):\n",
    "  S_scale = transforms.Spectrogram(n_fft=2048, hop_length=64)(torch.from_numpy(samples))\n",
    "  Y_scale = torch.abs(S_scale)**2\n",
    "  Y_log_scale = transforms.AmplitudeToDB(stype=\"power\")(Y_scale)\n",
    "  return Y_log_scale\n",
    "\n",
    "def plot_spectrogram(specgram, title=None, ylabel=\"freq_bin\"):\n",
    "    fig, ax = plt.subplots(5,4, figsize=(8, 2))\n",
    "    print(ax)\n",
    "    for i in range(5):\n",
    "      for j in range(4):\n",
    "        ax[i][j].axis(\"off\")\n",
    "        librosa.display.specshow(specgram[:,i*3*128+j*128:(j+1)*128+i*3*128],sr=5512,hop_length=64,cmap=\"gray\", y_axis=\"log\",bins_per_octave=32,x_axis=\"time\",ax=ax[i][j])"
   ]
  },
  {
   "cell_type": "code",
   "execution_count": 17,
   "metadata": {},
   "outputs": [],
   "source": [
    "def test(samples):\n",
    "  C = np.abs(librosa.cqt(sr=5512, y=samples,fmin=20, hop_length=64, n_bins=32, bins_per_octave=32))\n",
    "  return C"
   ]
  },
  {
   "cell_type": "code",
   "execution_count": null,
   "metadata": {},
   "outputs": [],
   "source": []
  },
  {
   "cell_type": "code",
   "execution_count": 18,
   "metadata": {},
   "outputs": [
    {
     "data": {
      "text/plain": [
       "(1, 300000)"
      ]
     },
     "execution_count": 18,
     "metadata": {},
     "output_type": "execute_result"
    }
   ],
   "source": [
    "audio_slice.shape"
   ]
  },
  {
   "cell_type": "code",
   "execution_count": 19,
   "metadata": {},
   "outputs": [],
   "source": [
    "#32 log-bins in 318-2000 Hz range\n",
    "def filter(S_db,minFreq=318,maxFreq=2000):\n",
    "  return S_db[:,minFreq:maxFreq,:]"
   ]
  },
  {
   "cell_type": "code",
   "execution_count": 34,
   "metadata": {},
   "outputs": [],
   "source": [
    "specc1 = create_log_spectrogram(audio)\n",
    "\n",
    "\n",
    "\n",
    "# plt.imshow(librosa.display.specshow(specc[0].numpy(),y_axis='log',x_axis='time'))"
   ]
  },
  {
   "cell_type": "code",
   "execution_count": 42,
   "metadata": {},
   "outputs": [],
   "source": [
    "from scipy import interpolate"
   ]
  },
  {
   "cell_type": "code",
   "execution_count": 60,
   "metadata": {},
   "outputs": [
    {
     "name": "stdout",
     "output_type": "stream",
     "text": [
      "(1025, 140901)\n"
     ]
    },
    {
     "ename": "ValueError",
     "evalue": "cannot reshape array of size 144423525 into shape (32,140901)",
     "output_type": "error",
     "traceback": [
      "\u001b[1;31m---------------------------------------------------------------------------\u001b[0m",
      "\u001b[1;31mValueError\u001b[0m                                Traceback (most recent call last)",
      "Cell \u001b[1;32mIn[60], line 6\u001b[0m\n\u001b[0;32m      3\u001b[0m flatten \u001b[38;5;241m=\u001b[39m arr\u001b[38;5;241m.\u001b[39mflatten()\n\u001b[0;32m      5\u001b[0m log_array \u001b[38;5;241m=\u001b[39m np\u001b[38;5;241m.\u001b[39mlogspace(np\u001b[38;5;241m.\u001b[39mlog10(\u001b[38;5;28mmin\u001b[39m(flatten)), np\u001b[38;5;241m.\u001b[39mlog10(\u001b[38;5;28mmax\u001b[39m(flatten)), \u001b[38;5;28mlen\u001b[39m(flatten))\n\u001b[1;32m----> 6\u001b[0m reshaped_array \u001b[38;5;241m=\u001b[39m \u001b[43mlog_array\u001b[49m\u001b[38;5;241;43m.\u001b[39;49m\u001b[43mreshape\u001b[49m\u001b[43m(\u001b[49m\u001b[38;5;241;43m32\u001b[39;49m\u001b[43m,\u001b[49m\u001b[43marr\u001b[49m\u001b[38;5;241;43m.\u001b[39;49m\u001b[43mshape\u001b[49m\u001b[43m[\u001b[49m\u001b[38;5;241;43m1\u001b[39;49m\u001b[43m]\u001b[49m\u001b[43m)\u001b[49m\n",
      "\u001b[1;31mValueError\u001b[0m: cannot reshape array of size 144423525 into shape (32,140901)"
     ]
    }
   ],
   "source": [
    "arr = specc1[0].numpy()\n",
    "\n",
    "old_indices = np.arange(arr.shape[0])"
   ]
  },
  {
   "cell_type": "code",
   "execution_count": 58,
   "metadata": {},
   "outputs": [
    {
     "name": "stdout",
     "output_type": "stream",
     "text": [
      "(1025,) (1025,) (1025, 1025) (1025, 1025)\n"
     ]
    },
    {
     "data": {
      "image/png": "[encoded data removed]",
      "text/plain": [
       "<Figure size 640x480 with 1 Axes>"
      ]
     },
     "metadata": {},
     "output_type": "display_data"
    }
   ],
   "source": [
    "# Interpolation of the transformed data on a regular new y axis\n",
    "ylog_interpolation = interpolate.interp1d(np.log(y), z_grid.T)\n",
    "new_y = np.linspace(min(np.log(y)), max(np.log(y)), len(y))\n",
    "new_z_grid = ylog_interpolation(new_y).T\n",
    "\n",
    "print(x.shape, y.shape, z_grid.shape, new_z_grid.shape)\n",
    "\n",
    "# axis\n",
    "plt.pcolormesh(x, new_y, new_z_grid);\n",
    "plt.xlabel('x'); plt.ylabel('new y (regular spacing)');"
   ]
  },
  {
   "cell_type": "code",
   "execution_count": 55,
   "metadata": {},
   "outputs": [
    {
     "ename": "ValueError",
     "evalue": "x and y arguments to pcolormesh cannot have non-finite values or be of type numpy.ma.core.MaskedArray with masked values",
     "output_type": "error",
     "traceback": [
      "\u001b[1;31m---------------------------------------------------------------------------\u001b[0m",
      "\u001b[1;31mValueError\u001b[0m                                Traceback (most recent call last)",
      "Cell \u001b[1;32mIn[55], line 1\u001b[0m\n\u001b[1;32m----> 1\u001b[0m \u001b[43mplt\u001b[49m\u001b[38;5;241;43m.\u001b[39;49m\u001b[43mpcolormesh\u001b[49m\u001b[43m(\u001b[49m\u001b[43mx\u001b[49m\u001b[43m,\u001b[49m\u001b[43m \u001b[49m\u001b[43mnp\u001b[49m\u001b[38;5;241;43m.\u001b[39;49m\u001b[43mlog\u001b[49m\u001b[43m(\u001b[49m\u001b[43my\u001b[49m\u001b[43m)\u001b[49m\u001b[43m,\u001b[49m\u001b[43m \u001b[49m\u001b[43mz_grid\u001b[49m\u001b[43m)\u001b[49m\n\u001b[0;32m      2\u001b[0m plt\u001b[38;5;241m.\u001b[39mxlabel(\u001b[38;5;124m'\u001b[39m\u001b[38;5;124mx\u001b[39m\u001b[38;5;124m'\u001b[39m); plt\u001b[38;5;241m.\u001b[39mylabel(\u001b[38;5;124m'\u001b[39m\u001b[38;5;124mlog(y) (non regular spacing)\u001b[39m\u001b[38;5;124m'\u001b[39m)\n",
      "File \u001b[1;32mc:\\Users\\diogenbip\\AppData\\Local\\Programs\\Python\\Python310\\lib\\site-packages\\matplotlib\\pyplot.py:2773\u001b[0m, in \u001b[0;36mpcolormesh\u001b[1;34m(alpha, norm, cmap, vmin, vmax, shading, antialiased, data, *args, **kwargs)\u001b[0m\n\u001b[0;32m   2768\u001b[0m \u001b[38;5;129m@_copy_docstring_and_deprecators\u001b[39m(Axes\u001b[38;5;241m.\u001b[39mpcolormesh)\n\u001b[0;32m   2769\u001b[0m \u001b[38;5;28;01mdef\u001b[39;00m \u001b[38;5;21mpcolormesh\u001b[39m(\n\u001b[0;32m   2770\u001b[0m         \u001b[38;5;241m*\u001b[39margs, alpha\u001b[38;5;241m=\u001b[39m\u001b[38;5;28;01mNone\u001b[39;00m, norm\u001b[38;5;241m=\u001b[39m\u001b[38;5;28;01mNone\u001b[39;00m, cmap\u001b[38;5;241m=\u001b[39m\u001b[38;5;28;01mNone\u001b[39;00m, vmin\u001b[38;5;241m=\u001b[39m\u001b[38;5;28;01mNone\u001b[39;00m,\n\u001b[0;32m   2771\u001b[0m         vmax\u001b[38;5;241m=\u001b[39m\u001b[38;5;28;01mNone\u001b[39;00m, shading\u001b[38;5;241m=\u001b[39m\u001b[38;5;28;01mNone\u001b[39;00m, antialiased\u001b[38;5;241m=\u001b[39m\u001b[38;5;28;01mFalse\u001b[39;00m, data\u001b[38;5;241m=\u001b[39m\u001b[38;5;28;01mNone\u001b[39;00m,\n\u001b[0;32m   2772\u001b[0m         \u001b[38;5;241m*\u001b[39m\u001b[38;5;241m*\u001b[39mkwargs):\n\u001b[1;32m-> 2773\u001b[0m     __ret \u001b[38;5;241m=\u001b[39m gca()\u001b[38;5;241m.\u001b[39mpcolormesh(\n\u001b[0;32m   2774\u001b[0m         \u001b[38;5;241m*\u001b[39margs, alpha\u001b[38;5;241m=\u001b[39malpha, norm\u001b[38;5;241m=\u001b[39mnorm, cmap\u001b[38;5;241m=\u001b[39mcmap, vmin\u001b[38;5;241m=\u001b[39mvmin,\n\u001b[0;32m   2775\u001b[0m         vmax\u001b[38;5;241m=\u001b[39mvmax, shading\u001b[38;5;241m=\u001b[39mshading, antialiased\u001b[38;5;241m=\u001b[39mantialiased,\n\u001b[0;32m   2776\u001b[0m         \u001b[38;5;241m*\u001b[39m\u001b[38;5;241m*\u001b[39m({\u001b[38;5;124m\"\u001b[39m\u001b[38;5;124mdata\u001b[39m\u001b[38;5;124m\"\u001b[39m: data} \u001b[38;5;28;01mif\u001b[39;00m data \u001b[38;5;129;01mis\u001b[39;00m \u001b[38;5;129;01mnot\u001b[39;00m \u001b[38;5;28;01mNone\u001b[39;00m \u001b[38;5;28;01melse\u001b[39;00m {}), \u001b[38;5;241m*\u001b[39m\u001b[38;5;241m*\u001b[39mkwargs)\n\u001b[0;32m   2777\u001b[0m     sci(__ret)\n\u001b[0;32m   2778\u001b[0m     \u001b[38;5;28;01mreturn\u001b[39;00m __ret\n",
      "File \u001b[1;32mc:\\Users\\diogenbip\\AppData\\Local\\Programs\\Python\\Python310\\lib\\site-packages\\matplotlib\\__init__.py:1459\u001b[0m, in \u001b[0;36m_preprocess_data.<locals>.inner\u001b[1;34m(ax, data, *args, **kwargs)\u001b[0m\n\u001b[0;32m   1456\u001b[0m \u001b[38;5;129m@functools\u001b[39m\u001b[38;5;241m.\u001b[39mwraps(func)\n\u001b[0;32m   1457\u001b[0m \u001b[38;5;28;01mdef\u001b[39;00m \u001b[38;5;21minner\u001b[39m(ax, \u001b[38;5;241m*\u001b[39margs, data\u001b[38;5;241m=\u001b[39m\u001b[38;5;28;01mNone\u001b[39;00m, \u001b[38;5;241m*\u001b[39m\u001b[38;5;241m*\u001b[39mkwargs):\n\u001b[0;32m   1458\u001b[0m     \u001b[38;5;28;01mif\u001b[39;00m data \u001b[38;5;129;01mis\u001b[39;00m \u001b[38;5;28;01mNone\u001b[39;00m:\n\u001b[1;32m-> 1459\u001b[0m         \u001b[38;5;28;01mreturn\u001b[39;00m func(ax, \u001b[38;5;241m*\u001b[39m\u001b[38;5;28mmap\u001b[39m(sanitize_sequence, args), \u001b[38;5;241m*\u001b[39m\u001b[38;5;241m*\u001b[39mkwargs)\n\u001b[0;32m   1461\u001b[0m     bound \u001b[38;5;241m=\u001b[39m new_sig\u001b[38;5;241m.\u001b[39mbind(ax, \u001b[38;5;241m*\u001b[39margs, \u001b[38;5;241m*\u001b[39m\u001b[38;5;241m*\u001b[39mkwargs)\n\u001b[0;32m   1462\u001b[0m     auto_label \u001b[38;5;241m=\u001b[39m (bound\u001b[38;5;241m.\u001b[39marguments\u001b[38;5;241m.\u001b[39mget(label_namer)\n\u001b[0;32m   1463\u001b[0m                   \u001b[38;5;129;01mor\u001b[39;00m bound\u001b[38;5;241m.\u001b[39mkwargs\u001b[38;5;241m.\u001b[39mget(label_namer))\n",
      "File \u001b[1;32mc:\\Users\\diogenbip\\AppData\\Local\\Programs\\Python\\Python310\\lib\\site-packages\\matplotlib\\axes\\_axes.py:6220\u001b[0m, in \u001b[0;36mAxes.pcolormesh\u001b[1;34m(self, alpha, norm, cmap, vmin, vmax, shading, antialiased, *args, **kwargs)\u001b[0m\n\u001b[0;32m   6217\u001b[0m shading \u001b[38;5;241m=\u001b[39m shading\u001b[38;5;241m.\u001b[39mlower()\n\u001b[0;32m   6218\u001b[0m kwargs\u001b[38;5;241m.\u001b[39msetdefault(\u001b[38;5;124m'\u001b[39m\u001b[38;5;124medgecolors\u001b[39m\u001b[38;5;124m'\u001b[39m, \u001b[38;5;124m'\u001b[39m\u001b[38;5;124mnone\u001b[39m\u001b[38;5;124m'\u001b[39m)\n\u001b[1;32m-> 6220\u001b[0m X, Y, C, shading \u001b[38;5;241m=\u001b[39m \u001b[38;5;28;43mself\u001b[39;49m\u001b[38;5;241;43m.\u001b[39;49m\u001b[43m_pcolorargs\u001b[49m\u001b[43m(\u001b[49m\u001b[38;5;124;43m'\u001b[39;49m\u001b[38;5;124;43mpcolormesh\u001b[39;49m\u001b[38;5;124;43m'\u001b[39;49m\u001b[43m,\u001b[49m\u001b[43m \u001b[49m\u001b[38;5;241;43m*\u001b[39;49m\u001b[43margs\u001b[49m\u001b[43m,\u001b[49m\n\u001b[0;32m   6221\u001b[0m \u001b[43m                                    \u001b[49m\u001b[43mshading\u001b[49m\u001b[38;5;241;43m=\u001b[39;49m\u001b[43mshading\u001b[49m\u001b[43m,\u001b[49m\u001b[43m \u001b[49m\u001b[43mkwargs\u001b[49m\u001b[38;5;241;43m=\u001b[39;49m\u001b[43mkwargs\u001b[49m\u001b[43m)\u001b[49m\n\u001b[0;32m   6222\u001b[0m coords \u001b[38;5;241m=\u001b[39m np\u001b[38;5;241m.\u001b[39mstack([X, Y], axis\u001b[38;5;241m=\u001b[39m\u001b[38;5;241m-\u001b[39m\u001b[38;5;241m1\u001b[39m)\n\u001b[0;32m   6223\u001b[0m \u001b[38;5;66;03m# convert to one dimensional array, except for 3D RGB(A) arrays\u001b[39;00m\n",
      "File \u001b[1;32mc:\\Users\\diogenbip\\AppData\\Local\\Programs\\Python\\Python310\\lib\\site-packages\\matplotlib\\axes\\_axes.py:5717\u001b[0m, in \u001b[0;36mAxes._pcolorargs\u001b[1;34m(self, funcname, shading, *args, **kwargs)\u001b[0m\n\u001b[0;32m   5715\u001b[0m \u001b[38;5;28;01mif\u001b[39;00m funcname \u001b[38;5;241m==\u001b[39m \u001b[38;5;124m'\u001b[39m\u001b[38;5;124mpcolormesh\u001b[39m\u001b[38;5;124m'\u001b[39m:\n\u001b[0;32m   5716\u001b[0m     \u001b[38;5;28;01mif\u001b[39;00m np\u001b[38;5;241m.\u001b[39mma\u001b[38;5;241m.\u001b[39mis_masked(X) \u001b[38;5;129;01mor\u001b[39;00m np\u001b[38;5;241m.\u001b[39mma\u001b[38;5;241m.\u001b[39mis_masked(Y):\n\u001b[1;32m-> 5717\u001b[0m         \u001b[38;5;28;01mraise\u001b[39;00m \u001b[38;5;167;01mValueError\u001b[39;00m(\n\u001b[0;32m   5718\u001b[0m             \u001b[38;5;124m'\u001b[39m\u001b[38;5;124mx and y arguments to pcolormesh cannot have \u001b[39m\u001b[38;5;124m'\u001b[39m\n\u001b[0;32m   5719\u001b[0m             \u001b[38;5;124m'\u001b[39m\u001b[38;5;124mnon-finite values or be of type \u001b[39m\u001b[38;5;124m'\u001b[39m\n\u001b[0;32m   5720\u001b[0m             \u001b[38;5;124m'\u001b[39m\u001b[38;5;124mnumpy.ma.core.MaskedArray with masked values\u001b[39m\u001b[38;5;124m'\u001b[39m)\n\u001b[0;32m   5721\u001b[0m     \u001b[38;5;66;03m# safe_masked_invalid() returns an ndarray for dtypes other\u001b[39;00m\n\u001b[0;32m   5722\u001b[0m     \u001b[38;5;66;03m# than floating point.\u001b[39;00m\n\u001b[0;32m   5723\u001b[0m     \u001b[38;5;28;01mif\u001b[39;00m \u001b[38;5;28misinstance\u001b[39m(X, np\u001b[38;5;241m.\u001b[39mma\u001b[38;5;241m.\u001b[39mcore\u001b[38;5;241m.\u001b[39mMaskedArray):\n",
      "\u001b[1;31mValueError\u001b[0m: x and y arguments to pcolormesh cannot have non-finite values or be of type numpy.ma.core.MaskedArray with masked values"
     ]
    },
    {
     "data": {
      "image/png": "[encoded data removed]",
      "text/plain": [
       "<Figure size 640x480 with 1 Axes>"
      ]
     },
     "metadata": {},
     "output_type": "display_data"
    }
   ],
   "source": [
    "plt.pcolormesh(x, np.log(y), z_grid)\n",
    "plt.xlabel('x'); plt.ylabel('log(y) (non regular spacing)')"
   ]
  },
  {
   "cell_type": "code",
   "execution_count": 41,
   "metadata": {},
   "outputs": [
    {
     "ename": "RuntimeError",
     "evalue": "shape '[32, 140901]' is invalid for input of size 144423525",
     "output_type": "error",
     "traceback": [
      "\u001b[1;31m---------------------------------------------------------------------------\u001b[0m",
      "\u001b[1;31mRuntimeError\u001b[0m                              Traceback (most recent call last)",
      "Cell \u001b[1;32mIn[41], line 2\u001b[0m\n\u001b[0;32m      1\u001b[0m bin_size \u001b[38;5;241m=\u001b[39m specc1\u001b[38;5;241m.\u001b[39mshape[\u001b[38;5;241m1\u001b[39m] \u001b[38;5;241m/\u001b[39m\u001b[38;5;241m/\u001b[39m \u001b[38;5;241m32\u001b[39m\n\u001b[1;32m----> 2\u001b[0m binned_arr \u001b[38;5;241m=\u001b[39m \u001b[43mspecc1\u001b[49m\u001b[43m[\u001b[49m\u001b[38;5;241;43m0\u001b[39;49m\u001b[43m]\u001b[49m\u001b[38;5;241;43m.\u001b[39;49m\u001b[43mreshape\u001b[49m\u001b[43m(\u001b[49m\u001b[43mbin_size\u001b[49m\u001b[43m,\u001b[49m\u001b[43mspecc1\u001b[49m\u001b[38;5;241;43m.\u001b[39;49m\u001b[43mshape\u001b[49m\u001b[43m[\u001b[49m\u001b[38;5;241;43m2\u001b[39;49m\u001b[43m]\u001b[49m\u001b[43m)\u001b[49m\u001b[38;5;241m.\u001b[39mmean(axis\u001b[38;5;241m=\u001b[39m\u001b[38;5;241m1\u001b[39m)\n",
      "\u001b[1;31mRuntimeError\u001b[0m: shape '[32, 140901]' is invalid for input of size 144423525"
     ]
    }
   ],
   "source": [
    "arr = specc1[0].numpy()\n",
    "ylog_interpolation =  interpolate.interp1d(np.arange(arr.shape[0]), arr,)"
   ]
  },
  {
   "cell_type": "code",
   "execution_count": null,
   "metadata": {},
   "outputs": [],
   "source": [
    "specc = create_log_spectrogram(audio_slice)\n",
    "specc= filter(specc)\n"
   ]
  },
  {
   "cell_type": "code",
   "execution_count": null,
   "metadata": {},
   "outputs": [],
   "source": [
    "specc1 = test(audio)\n",
    "specc = test(audio_slice)\n"
   ]
  },
  {
   "cell_type": "code",
   "execution_count": null,
   "metadata": {},
   "outputs": [],
   "source": [
    "specc2 = test(audio_2)"
   ]
  },
  {
   "cell_type": "code",
   "execution_count": null,
   "metadata": {},
   "outputs": [],
   "source": [
    "import pywt\n",
    "\n",
    "def getTopWavelet(img):\n",
    "  coeffs2 = pywt.dwt2(img, 'haar')\n",
    "  LL, (LH, HL, HH) = coeffs2\n",
    "  # plt.imshow(img, cmap='gray'), plt.show()\n",
    "  LL = np.where(LL >= np.sort(LL.flatten())[-200], 1, 0)\n",
    "  LH = np.where(LH >= np.sort(LH.flatten())[-200], 1, 0)\n",
    "  HL = np.where(HL >= np.sort(HL.flatten())[-200], 1, 0)\n",
    "  HH = np.where(HH >= np.sort(HH.flatten())[-200], 1, 0)\n",
    "  img = pywt.idwt2((LL, (LH, HL, HH)), 'haar')\n",
    "  img = np.where(img >= np.sort(img.flatten())[-200], 1, 0)\n",
    "  # plt.imshow(img, cmap='gray'), plt.show()\n",
    "  return img\n",
    "\n",
    "\n"
   ]
  },
  {
   "cell_type": "code",
   "execution_count": null,
   "metadata": {},
   "outputs": [],
   "source": [
    "p = getTopWavelet(specc1[0,:,256:384])"
   ]
  },
  {
   "cell_type": "code",
   "execution_count": null,
   "metadata": {},
   "outputs": [
    {
     "data": {
      "image/png": "[encoded data removed]",
      "text/plain": [
       "<Figure size 640x480 with 1 Axes>"
      ]
     },
     "metadata": {},
     "output_type": "display_data"
    },
    {
     "data": {
      "text/plain": [
       "<matplotlib.image.AxesImage at 0x1f1a20a2080>"
      ]
     },
     "execution_count": 823,
     "metadata": {},
     "output_type": "execute_result"
    },
    {
     "data": {
      "image/png": "[encoded data removed]",
      "text/plain": [
       "<Figure size 640x480 with 1 Axes>"
      ]
     },
     "metadata": {},
     "output_type": "display_data"
    }
   ],
   "source": [
    "\n",
    "j = getTopWavelet(specc[0,:,259:384])\n",
    "plt.imshow(p, cmap='gray')\n",
    "plt.show()\n",
    "plt.imshow(j, cmap='gray')\n",
    "#1.48sec"
   ]
  },
  {
   "cell_type": "code",
   "execution_count": null,
   "metadata": {},
   "outputs": [
    {
     "data": {
      "text/plain": [
       "1101"
      ]
     },
     "execution_count": 864,
     "metadata": {},
     "output_type": "execute_result"
    }
   ],
   "source": [
    "fingerprints = []\n",
    "for i in range(0,specc1.shape[2],128):\n",
    "  fingerprints.append(getTopWavelet(specc1[0,:,i:i+128]).flatten())\n",
    "len(fingerprints)"
   ]
  },
  {
   "cell_type": "code",
   "execution_count": null,
   "metadata": {},
   "outputs": [
    {
     "data": {
      "text/plain": [
       "37"
      ]
     },
     "execution_count": 923,
     "metadata": {},
     "output_type": "execute_result"
    }
   ],
   "source": [
    "fingerprints2 = []\n",
    "for i in range(0,specc.shape[2],128):\n",
    "  fingerprints2.append(getTopWavelet(specc[0,:,i:i+128]).flatten())\n",
    "len(fingerprints2)"
   ]
  },
  {
   "cell_type": "code",
   "execution_count": null,
   "metadata": {},
   "outputs": [
    {
     "data": {
      "text/plain": [
       "1029"
      ]
     },
     "execution_count": 924,
     "metadata": {},
     "output_type": "execute_result"
    }
   ],
   "source": [
    "fingerprints3 = []\n",
    "for i in range(0,specc2.shape[2],128):\n",
    "  fingerprints3.append(getTopWavelet(specc2[0,:,i:i+128]).flatten())\n",
    "len(fingerprints3)"
   ]
  },
  {
   "cell_type": "code",
   "execution_count": null,
   "metadata": {},
   "outputs": [],
   "source": [
    "m = MinHash(num_perm=25)\n"
   ]
  },
  {
   "cell_type": "code",
   "execution_count": null,
   "metadata": {},
   "outputs": [
    {
     "data": {
      "image/png": "[encoded data removed]",
      "text/plain": [
       "<Figure size 640x480 with 1 Axes>"
      ]
     },
     "metadata": {},
     "output_type": "display_data"
    },
    {
     "data": {
      "text/plain": [
       "<matplotlib.image.AxesImage at 0x1f18a01dd50>"
      ]
     },
     "execution_count": 828,
     "metadata": {},
     "output_type": "execute_result"
    },
    {
     "data": {
      "image/png": "[encoded data removed]",
      "text/plain": [
       "<Figure size 640x480 with 1 Axes>"
      ]
     },
     "metadata": {},
     "output_type": "display_data"
    }
   ],
   "source": [
    "plt.imshow(fingerprints[1].reshape(32,128), cmap='gray')\n",
    "plt.show()\n",
    "plt.imshow(fingerprints2[1].reshape(32,128), cmap='gray')"
   ]
  },
  {
   "cell_type": "code",
   "execution_count": null,
   "metadata": {},
   "outputs": [
    {
     "data": {
      "text/plain": [
       "array([0, 0, 0, ..., 0, 0, 0])"
      ]
     },
     "execution_count": 28,
     "metadata": {},
     "output_type": "execute_result"
    }
   ],
   "source": [
    "fingerprints[0]"
   ]
  },
  {
   "cell_type": "code",
   "execution_count": null,
   "metadata": {},
   "outputs": [],
   "source": [
    "from scipy import stats\n",
    "import random\n",
    "import sklearn.metrics as skm"
   ]
  },
  {
   "cell_type": "code",
   "execution_count": null,
   "metadata": {},
   "outputs": [],
   "source": [
    "class MinHash3:\n",
    "  def __init__(self, min_hashes):\n",
    "    self.min_hash_size = min_hashes\n",
    "    self.min_hashes = []\n",
    "    self.createMinHashSeeds()\n",
    "  \n",
    "  def lshHash(data,seedOne,seedTwo):\n",
    "    hash = int(66)\n",
    "    hash = hash * 15 ^ seedOne\n",
    "    hash = hash * 15 ^ seedTwo\n",
    "    hash = hash * 15 ^ data\n",
    "    return hash\n",
    "\n",
    "  def createMinHashSeeds(self):\n",
    "    skipDuplicates = set()\n",
    "    i = 0\n",
    "    while i < self.min_hash_size:\n",
    "      seed = (random.randint(1, 1000), random.randint(1, 1000))\n",
    "      if seed not in skipDuplicates:\n",
    "        self.min_hashes.append(seed)\n",
    "        skipDuplicates.add(seed)\n",
    "        i += 1\n",
    "      \n",
    "\n",
    "  def getMinHashSignature(self,array,signature_size):\n",
    "    signature = np.array([0xFFFFFFFF] * signature_size)\n",
    "    skipDuplicates = set()\n",
    "    for r,row in enumerate(array):\n",
    "      if(r not in skipDuplicates):\n",
    "        for i in range(signature_size):\n",
    "          seeds = self.min_hashes[i]\n",
    "          current_hash = MinHash3.lshHash(row,seeds[0],seeds[1])\n",
    "          if current_hash < signature[i]:\n",
    "            signature[i] = current_hash\n",
    "    return signature"
   ]
  },
  {
   "cell_type": "code",
   "execution_count": null,
   "metadata": {},
   "outputs": [],
   "source": [
    "def generate_hash_functions(num_hashes):\n",
    "    hs = []\n",
    "    for i in range(num_hashes):\n",
    "      a = random.randint(1, 555555)\n",
    "      b = random.randint(0, 555555)\n",
    "      # print(f\"{a}x + {b} mod 5\")\n",
    "      def h(x):\n",
    "        return (a * x + b) % num_hashes\n",
    "      hs.append(h)\n",
    "    return hs\n",
    "def h1(x):\n",
    "  return x%5\n",
    "\n",
    "def h2(x):\n",
    "  return (2*x+1)%5\n",
    "\n",
    "def minHash2(arrays,num_hashes):\n",
    "  \n",
    "  hashes = generate_hash_functions(num_hashes)\n",
    "  signatures = np.array([[0xFFFFFFFF] * len(arrays[0]) for _ in range(num_hashes)])\n",
    "\n",
    "\n",
    "  # for r,row in enumerate(arrays):\n",
    "  #   for h,hash in enumerate(hashes):\n",
    "  #     hash_val = hash(r)\n",
    "  #     for c,col in enumerate(row):\n",
    "  #       if col == 1 and signatures[h][r] > hash_val:\n",
    "  #         signatures[h][r] = hash_val\n",
    "  \n",
    "  for i,row in enumerate(arrays):\n",
    "    hash_values = []\n",
    "    for h,hash in enumerate(hashes):\n",
    "      hash_values.append(hash(i+1))\n",
    "    \n",
    "    indices = np.nonzero(row)\n",
    "    for j in indices[0]:\n",
    "      for h,val in enumerate(hash_values):\n",
    "        if signatures[h][j] > val:\n",
    "          signatures[h][j] = val\n",
    "    \n",
    "  return signatures\n",
    "    \n",
    "  "
   ]
  },
  {
   "cell_type": "code",
   "execution_count": null,
   "metadata": {},
   "outputs": [],
   "source": [
    "def minHASH(arrays, num_perm):\n",
    "  permutations = []\n",
    "  count = 0\n",
    "  while count < num_perm:\n",
    "    perm = random.sample(range(0, len(arrays[0])), len(arrays[0]))\n",
    "    if(stats.entropy(perm) > 2):\n",
    "      # print(skm.mutual_info_score(arrays[0], perm))\n",
    "      permutations.append(perm)\n",
    "      count += 1\n",
    "    \n",
    "  signatures = []\n",
    "  for i in range(len(arrays)):\n",
    "    signature = []\n",
    "    for permutation in permutations:\n",
    "      for j in permutation:\n",
    "        if(arrays[i][j] == 1):\n",
    "          signature.append(j)\n",
    "          break\n",
    "    signatures.append(signature)\n",
    "  return signatures\n",
    "      "
   ]
  },
  {
   "cell_type": "code",
   "execution_count": null,
   "metadata": {},
   "outputs": [],
   "source": [
    "def split_signature(signature, bands):\n",
    "  assert len(signature) % bands == 0\n",
    "  r = len(signature) // bands\n",
    "  return [signature[i:i + r] for i in range(0, len(signature), r)]"
   ]
  },
  {
   "cell_type": "code",
   "execution_count": null,
   "metadata": {},
   "outputs": [],
   "source": [
    "def jaccard_index(p, q):\n",
    "  intersect = sum(x and y for x, y in zip(p, q))\n",
    "  union = sum(x or y for x, y in zip(p, q))\n",
    "  if union == 0:\n",
    "    print(0)\n",
    "  else:\n",
    "    print(intersect / union)"
   ]
  },
  {
   "cell_type": "code",
   "execution_count": null,
   "metadata": {},
   "outputs": [
    {
     "data": {
      "text/plain": [
       "6"
      ]
     },
     "execution_count": 33,
     "metadata": {},
     "output_type": "execute_result"
    }
   ],
   "source": [
    "((12332321*1 + 33)%999983)%11"
   ]
  },
  {
   "cell_type": "code",
   "execution_count": null,
   "metadata": {},
   "outputs": [],
   "source": [
    "import numpy as np\n",
    "import random\n",
    "import struct\n",
    "import hashlib\n",
    "import numpy as np\n",
    " \n",
    "\n",
    "\n",
    "\n",
    "\n",
    "def jaccard_sim(X, Y):\n",
    "    \"\"\"Jaccard similarity between two sets\"\"\"\n",
    "    x = set(X)\n",
    "    y = set(Y)\n",
    "    return float(len(x & y)) / len(x | y)\n",
    "\n",
    "def jaccard_similarity(signature1, signature2):\n",
    "    \"\"\"\n",
    "    Compute the Jaccard similarity between two MinHash signatures.\n",
    "\n",
    "    Parameters:\n",
    "    signature1 (numpy array): MinHash signature of shape (num_hashes,)\n",
    "    signature2 (numpy array): MinHash signature of shape (num_hashes,)\n",
    "\n",
    "    Returns:\n",
    "    similarity (float): Jaccard similarity between the two signatures\n",
    "    \"\"\"\n",
    "    intersection = np.sum(np.bitwise_and(signature1, signature2))\n",
    "    union = np.sum(np.bitwise_or(signature1, signature2))\n",
    "    return intersection / union\n",
    "\n",
    "\n",
    "# Example usage\n",
    "arr1 = np.array([1,0,1,1,0])\n",
    "arr2 = np.array([1,1,1,0,1])\n",
    "\n",
    "\n",
    "\n",
    "\n",
    "# mh1= MinHash(d = 100)\n",
    "\n",
    "# mh1.add(arr1)\n",
    "# mh1.add(arr2)\n",
    "\n",
    "# # print(mh1.jaccard(mh2),\"JACCARD\")\n",
    "\n",
    "# num_hashes = 100\n",
    "# print(mh1.hashvalues)\n",
    "# print(mh1.hashvalues)\n",
    "# real_sim = jaccard_similarity(arr1, arr2)\n",
    "# similarity = jaccard_sim(mh1.hashvalues, mh1.hashvalues)\n",
    "# print(\"Real Jaccard similarity:\", real_sim)\n",
    "# print(\"Jaccard similarity:\", similarity)"
   ]
  },
  {
   "cell_type": "code",
   "execution_count": null,
   "metadata": {},
   "outputs": [
    {
     "data": {
      "text/plain": [
       "array([ 1,  3,  4,  5,  7,  8,  9, 10, 11,  0,  2,  6])"
      ]
     },
     "execution_count": 35,
     "metadata": {},
     "output_type": "execute_result"
    }
   ],
   "source": [
    "np.concatenate([np.where(arr1 == 0)[0],np.where(arr1 == 1)[0]]).astype(int)"
   ]
  },
  {
   "cell_type": "code",
   "execution_count": null,
   "metadata": {},
   "outputs": [
    {
     "name": "stdout",
     "output_type": "stream",
     "text": [
      "0.188\n",
      "1.0\n"
     ]
    }
   ],
   "source": [
    "minH = MinHash3(100)\n",
    "# arr11 = np.concatenate([np.where(arr1 == 0)[0],np.where(arr1 == 1)[0]]).astype(int)\n",
    "# arr22 = np.concatenate([np.where(arr2 == 0)[0],np.where(arr2 == 1)[0]]).astype(int)\n",
    "signatures = []\n",
    "for f in fingerprints:\n",
    "  signatures.append(minH.getMinHashSignature(f,100))\n",
    "# signatures = [minH.getMinHashSignature(arr1,100),minH.getMinHashSignature(arr2,100)]\n",
    "print(jaccard_similarity(fingerprints[0],fingerprints[1]))\n",
    "# print(signatures[0],signatures[1])\n",
    "print(jaccard_similarity(signatures[0],signatures[1]))\n"
   ]
  },
  {
   "cell_type": "code",
   "execution_count": null,
   "metadata": {},
   "outputs": [
    {
     "data": {
      "text/plain": [
       "1.0"
      ]
     },
     "execution_count": 837,
     "metadata": {},
     "output_type": "execute_result"
    }
   ],
   "source": [
    "jaccard_similarity(fingerprints[0],fingerprints2[0])"
   ]
  },
  {
   "cell_type": "code",
   "execution_count": null,
   "metadata": {},
   "outputs": [
    {
     "name": "stdout",
     "output_type": "stream",
     "text": [
      "0 0 1.0\n",
      "1 1 1.0\n",
      "2 2 1.0\n",
      "3 3 1.0\n",
      "4 4 1.0\n",
      "5 5 1.0\n",
      "6 6 1.0\n",
      "7 7 1.0\n",
      "8 8 1.0\n",
      "9 9 1.0\n",
      "10 10 1.0\n",
      "11 11 1.0\n",
      "12 12 1.0\n",
      "13 13 1.0\n",
      "14 14 1.0\n",
      "15 15 1.0\n",
      "16 16 1.0\n",
      "17 17 1.0\n",
      "18 18 1.0\n",
      "19 19 1.0\n",
      "20 20 1.0\n",
      "21 21 1.0\n",
      "22 22 1.0\n",
      "23 23 1.0\n",
      "24 24 1.0\n",
      "25 25 1.0\n",
      "26 26 1.0\n",
      "27 27 1.0\n",
      "28 28 1.0\n",
      "29 29 1.0\n",
      "30 30 1.0\n",
      "31 31 1.0\n",
      "32 32 1.0\n",
      "33 33 1.0\n",
      "34 34 1.0\n",
      "35 35 0.9781818181818182\n",
      "1096 1 0.4314214463840399\n",
      "1099 1 0.3788546255506608\n"
     ]
    }
   ],
   "source": [
    "for i,f in enumerate(fingerprints[:-1]):\n",
    "  for j,s in enumerate(fingerprints2[:-1]):\n",
    "    if(jaccard_similarity(f,s) > 0.35):\n",
    "      print(i,j,jaccard_similarity(f,s))"
   ]
  },
  {
   "cell_type": "code",
   "execution_count": null,
   "metadata": {},
   "outputs": [
    {
     "name": "stdout",
     "output_type": "stream",
     "text": [
      "(1100, 4096)\n"
     ]
    }
   ],
   "source": [
    "print(np.stack(fingerprints[:-1]).shape)"
   ]
  },
  {
   "cell_type": "code",
   "execution_count": null,
   "metadata": {},
   "outputs": [
    {
     "name": "stdout",
     "output_type": "stream",
     "text": [
      "(36, 4096)\n"
     ]
    }
   ],
   "source": [
    "print(np.stack(fingerprints2[:-1]).shape)"
   ]
  },
  {
   "cell_type": "code",
   "execution_count": null,
   "metadata": {},
   "outputs": [
    {
     "data": {
      "text/plain": [
       "[array([0, 0, 0, ..., 0, 0, 0]),\n",
       " array([0, 0, 0, ..., 0, 0, 0]),\n",
       " array([1, 0, 1, ..., 0, 0, 0]),\n",
       " array([0, 0, 0, ..., 0, 0, 0]),\n",
       " array([0, 0, 0, ..., 0, 0, 0]),\n",
       " array([0, 0, 0, ..., 0, 0, 0]),\n",
       " array([0, 0, 0, ..., 0, 0, 0]),\n",
       " array([0, 0, 0, ..., 0, 0, 0]),\n",
       " array([0, 0, 0, ..., 0, 0, 0]),\n",
       " array([0, 0, 0, ..., 0, 0, 0]),\n",
       " array([0, 0, 0, ..., 0, 0, 0]),\n",
       " array([0, 0, 0, ..., 0, 0, 0]),\n",
       " array([0, 0, 0, ..., 1, 0, 0]),\n",
       " array([0, 0, 0, ..., 0, 0, 0]),\n",
       " array([0, 0, 0, ..., 0, 0, 0]),\n",
       " array([0, 0, 0, ..., 0, 0, 0]),\n",
       " array([0, 0, 0, ..., 0, 0, 0]),\n",
       " array([0, 0, 0, ..., 0, 0, 0]),\n",
       " array([0, 0, 0, ..., 0, 0, 0]),\n",
       " array([0, 0, 0, ..., 0, 0, 0]),\n",
       " array([0, 0, 0, ..., 0, 0, 0]),\n",
       " array([0, 0, 0, ..., 0, 0, 0]),\n",
       " array([0, 0, 0, ..., 0, 0, 0]),\n",
       " array([0, 0, 0, ..., 0, 0, 0]),\n",
       " array([0, 0, 0, ..., 0, 0, 0]),\n",
       " array([0, 0, 0, ..., 0, 0, 0]),\n",
       " array([0, 0, 0, ..., 0, 0, 0]),\n",
       " array([0, 0, 0, ..., 0, 0, 0]),\n",
       " array([0, 0, 0, ..., 0, 0, 0]),\n",
       " array([0, 0, 0, ..., 0, 0, 0]),\n",
       " array([0, 0, 0, ..., 0, 0, 0]),\n",
       " array([0, 0, 0, ..., 0, 0, 0]),\n",
       " array([0, 0, 0, ..., 1, 0, 0]),\n",
       " array([0, 0, 0, ..., 0, 0, 0]),\n",
       " array([0, 0, 0, ..., 0, 0, 0]),\n",
       " array([0, 0, 0, ..., 0, 0, 0]),\n",
       " array([0, 0, 0, ..., 0, 0, 0]),\n",
       " array([0, 0, 0, ..., 0, 0, 0]),\n",
       " array([0, 0, 0, ..., 0, 0, 0]),\n",
       " array([0, 0, 0, ..., 1, 0, 1]),\n",
       " array([0, 0, 0, ..., 0, 0, 0]),\n",
       " array([0, 0, 0, ..., 0, 0, 0]),\n",
       " array([0, 0, 0, ..., 0, 0, 0]),\n",
       " array([0, 0, 0, ..., 1, 0, 1]),\n",
       " array([0, 0, 0, ..., 0, 0, 0]),\n",
       " array([0, 0, 0, ..., 0, 0, 0]),\n",
       " array([0, 0, 0, ..., 1, 0, 1]),\n",
       " array([0, 0, 0, ..., 0, 0, 0]),\n",
       " array([0, 0, 0, ..., 0, 0, 0]),\n",
       " array([0, 0, 0, ..., 0, 0, 0]),\n",
       " array([0, 0, 0, ..., 1, 0, 1]),\n",
       " array([0, 0, 0, ..., 0, 0, 0]),\n",
       " array([0, 0, 0, ..., 0, 0, 0]),\n",
       " array([0, 0, 0, ..., 0, 0, 0]),\n",
       " array([0, 0, 0, ..., 0, 0, 0]),\n",
       " array([0, 0, 0, ..., 0, 0, 0]),\n",
       " array([1, 0, 1, ..., 1, 0, 1]),\n",
       " array([0, 0, 0, ..., 0, 0, 0]),\n",
       " array([0, 0, 0, ..., 1, 0, 1]),\n",
       " array([0, 0, 0, ..., 0, 0, 0]),\n",
       " array([0, 0, 0, ..., 0, 0, 0]),\n",
       " array([0, 0, 0, ..., 0, 0, 0]),\n",
       " array([0, 0, 0, ..., 0, 0, 0]),\n",
       " array([0, 0, 0, ..., 0, 0, 0]),\n",
       " array([0, 0, 0, ..., 0, 0, 0]),\n",
       " array([0, 0, 0, ..., 0, 0, 0]),\n",
       " array([0, 0, 0, ..., 0, 0, 0]),\n",
       " array([0, 0, 0, ..., 0, 0, 0]),\n",
       " array([0, 0, 0, ..., 0, 0, 0]),\n",
       " array([0, 0, 0, ..., 1, 0, 1]),\n",
       " array([0, 0, 0, ..., 0, 0, 0]),\n",
       " array([0, 0, 0, ..., 0, 0, 0]),\n",
       " array([0, 0, 0, ..., 1, 0, 1]),\n",
       " array([0, 0, 0, ..., 1, 0, 1]),\n",
       " array([0, 0, 0, ..., 0, 0, 0]),\n",
       " array([1, 0, 1, ..., 0, 0, 1]),\n",
       " array([0, 0, 0, ..., 0, 0, 0]),\n",
       " array([0, 0, 0, ..., 0, 1, 0]),\n",
       " array([0, 0, 0, ..., 0, 0, 0]),\n",
       " array([0, 0, 0, ..., 0, 1, 0]),\n",
       " array([1, 0, 1, ..., 0, 0, 0]),\n",
       " array([0, 0, 0, ..., 0, 1, 0]),\n",
       " array([0, 0, 0, ..., 0, 0, 0]),\n",
       " array([1, 0, 0, ..., 0, 0, 0]),\n",
       " array([0, 0, 0, ..., 0, 0, 0]),\n",
       " array([0, 0, 0, ..., 0, 0, 0]),\n",
       " array([0, 0, 0, ..., 0, 0, 0]),\n",
       " array([0, 0, 0, ..., 0, 0, 0]),\n",
       " array([0, 0, 0, ..., 1, 0, 1]),\n",
       " array([0, 0, 0, ..., 0, 0, 0]),\n",
       " array([0, 0, 0, ..., 0, 0, 0]),\n",
       " array([0, 0, 0, ..., 0, 0, 0]),\n",
       " array([0, 0, 0, ..., 0, 0, 0]),\n",
       " array([0, 0, 0, ..., 0, 0, 0]),\n",
       " array([0, 0, 0, ..., 0, 0, 0]),\n",
       " array([0, 0, 0, ..., 0, 1, 0]),\n",
       " array([0, 0, 0, ..., 0, 0, 0]),\n",
       " array([0, 0, 0, ..., 0, 0, 0]),\n",
       " array([0, 0, 0, ..., 0, 0, 0]),\n",
       " array([0, 0, 0, ..., 0, 1, 0]),\n",
       " array([0, 0, 0, ..., 0, 0, 0]),\n",
       " array([0, 0, 0, ..., 0, 1, 0]),\n",
       " array([0, 0, 0, ..., 0, 0, 0]),\n",
       " array([0, 0, 0, ..., 0, 0, 0]),\n",
       " array([0, 0, 0, ..., 0, 0, 0]),\n",
       " array([0, 0, 0, ..., 0, 0, 0]),\n",
       " array([0, 0, 0, ..., 0, 0, 0]),\n",
       " array([0, 0, 0, ..., 0, 0, 0]),\n",
       " array([0, 0, 0, ..., 0, 0, 0]),\n",
       " array([0, 0, 0, ..., 0, 0, 0]),\n",
       " array([0, 0, 0, ..., 0, 0, 0]),\n",
       " array([0, 0, 0, ..., 0, 0, 0]),\n",
       " array([0, 0, 0, ..., 0, 0, 0]),\n",
       " array([0, 0, 0, ..., 0, 0, 0]),\n",
       " array([1, 0, 1, ..., 0, 0, 0]),\n",
       " array([0, 0, 0, ..., 0, 0, 0]),\n",
       " array([0, 0, 0, ..., 0, 0, 0]),\n",
       " array([0, 0, 0, ..., 0, 0, 0]),\n",
       " array([0, 0, 0, ..., 0, 0, 0]),\n",
       " array([0, 0, 0, ..., 0, 0, 0]),\n",
       " array([0, 0, 0, ..., 0, 0, 0]),\n",
       " array([1, 0, 1, ..., 1, 0, 1]),\n",
       " array([0, 0, 0, ..., 1, 0, 1]),\n",
       " array([0, 0, 0, ..., 0, 0, 0]),\n",
       " array([0, 0, 0, ..., 0, 0, 0]),\n",
       " array([0, 0, 0, ..., 1, 0, 1]),\n",
       " array([0, 0, 0, ..., 0, 0, 0]),\n",
       " array([1, 1, 1, ..., 0, 0, 0]),\n",
       " array([0, 0, 0, ..., 0, 0, 0]),\n",
       " array([0, 0, 0, ..., 0, 0, 0]),\n",
       " array([0, 0, 0, ..., 0, 0, 0]),\n",
       " array([0, 0, 0, ..., 0, 0, 0]),\n",
       " array([0, 0, 0, ..., 0, 0, 0]),\n",
       " array([0, 0, 0, ..., 0, 0, 0]),\n",
       " array([0, 0, 0, ..., 0, 0, 0]),\n",
       " array([0, 0, 0, ..., 0, 0, 0]),\n",
       " array([0, 0, 0, ..., 0, 0, 0]),\n",
       " array([0, 0, 0, ..., 0, 0, 0]),\n",
       " array([0, 0, 0, ..., 0, 0, 0]),\n",
       " array([0, 0, 0, ..., 0, 0, 0]),\n",
       " array([0, 0, 0, ..., 0, 0, 0]),\n",
       " array([0, 0, 0, ..., 0, 1, 0]),\n",
       " array([0, 0, 1, ..., 0, 1, 0]),\n",
       " array([0, 0, 0, ..., 0, 0, 0]),\n",
       " array([0, 0, 0, ..., 0, 0, 0]),\n",
       " array([0, 0, 0, ..., 0, 0, 0]),\n",
       " array([1, 0, 1, ..., 0, 0, 0]),\n",
       " array([0, 0, 0, ..., 0, 1, 0]),\n",
       " array([0, 0, 0, ..., 0, 0, 0]),\n",
       " array([0, 0, 0, ..., 0, 0, 0]),\n",
       " array([0, 0, 0, ..., 0, 0, 0]),\n",
       " array([0, 0, 0, ..., 0, 0, 0]),\n",
       " array([1, 0, 1, ..., 0, 0, 0]),\n",
       " array([1, 1, 1, ..., 0, 0, 0]),\n",
       " array([0, 0, 0, ..., 0, 0, 0]),\n",
       " array([1, 0, 1, ..., 1, 0, 1]),\n",
       " array([0, 0, 0, ..., 0, 0, 0]),\n",
       " array([0, 0, 0, ..., 1, 0, 1]),\n",
       " array([0, 0, 0, ..., 0, 0, 0]),\n",
       " array([0, 0, 1, ..., 0, 0, 0]),\n",
       " array([0, 0, 0, ..., 1, 0, 1]),\n",
       " array([0, 0, 0, ..., 0, 0, 0]),\n",
       " array([0, 0, 0, ..., 0, 0, 0]),\n",
       " array([0, 0, 0, ..., 0, 0, 0]),\n",
       " array([0, 0, 0, ..., 0, 0, 0]),\n",
       " array([0, 0, 0, ..., 0, 1, 0]),\n",
       " array([0, 0, 0, ..., 0, 0, 0]),\n",
       " array([0, 0, 0, ..., 1, 0, 1]),\n",
       " array([0, 0, 0, ..., 0, 0, 0]),\n",
       " array([0, 0, 0, ..., 0, 0, 0]),\n",
       " array([0, 0, 0, ..., 0, 0, 0]),\n",
       " array([0, 0, 0, ..., 0, 0, 0]),\n",
       " array([0, 0, 0, ..., 0, 0, 0]),\n",
       " array([0, 0, 0, ..., 0, 0, 0]),\n",
       " array([0, 0, 0, ..., 0, 0, 0]),\n",
       " array([0, 0, 0, ..., 0, 0, 0]),\n",
       " array([0, 0, 0, ..., 0, 0, 0]),\n",
       " array([0, 0, 0, ..., 0, 0, 0]),\n",
       " array([0, 0, 0, ..., 0, 0, 0]),\n",
       " array([0, 0, 0, ..., 0, 0, 0]),\n",
       " array([0, 0, 0, ..., 0, 0, 0]),\n",
       " array([0, 0, 0, ..., 0, 0, 0]),\n",
       " array([0, 0, 0, ..., 0, 0, 0]),\n",
       " array([0, 0, 0, ..., 0, 0, 0]),\n",
       " array([0, 0, 0, ..., 0, 0, 0]),\n",
       " array([0, 0, 0, ..., 0, 0, 0]),\n",
       " array([0, 0, 0, ..., 0, 0, 0]),\n",
       " array([0, 0, 0, ..., 0, 0, 0]),\n",
       " array([0, 0, 0, ..., 0, 1, 0]),\n",
       " array([0, 0, 0, ..., 0, 0, 0]),\n",
       " array([0, 0, 0, ..., 0, 0, 0]),\n",
       " array([0, 0, 0, ..., 0, 0, 0]),\n",
       " array([0, 0, 0, ..., 0, 0, 0]),\n",
       " array([0, 0, 0, ..., 0, 0, 0]),\n",
       " array([0, 0, 0, ..., 0, 0, 0]),\n",
       " array([0, 0, 1, ..., 0, 0, 0]),\n",
       " array([0, 0, 0, ..., 0, 0, 0]),\n",
       " array([1, 0, 0, ..., 0, 0, 0]),\n",
       " array([0, 0, 0, ..., 0, 0, 0]),\n",
       " array([0, 0, 0, ..., 1, 0, 1]),\n",
       " array([0, 0, 0, ..., 0, 1, 0]),\n",
       " array([0, 0, 0, ..., 0, 0, 0]),\n",
       " array([0, 0, 0, ..., 0, 0, 0]),\n",
       " array([0, 0, 0, ..., 0, 0, 0]),\n",
       " array([0, 0, 0, ..., 0, 0, 0]),\n",
       " array([0, 0, 0, ..., 0, 0, 0]),\n",
       " array([0, 0, 0, ..., 1, 0, 1]),\n",
       " array([0, 0, 0, ..., 0, 1, 0]),\n",
       " array([0, 0, 0, ..., 0, 0, 0]),\n",
       " array([0, 0, 0, ..., 0, 0, 0]),\n",
       " array([0, 0, 0, ..., 0, 0, 0]),\n",
       " array([0, 0, 0, ..., 0, 0, 0]),\n",
       " array([0, 0, 0, ..., 0, 0, 0]),\n",
       " array([0, 0, 0, ..., 1, 0, 1]),\n",
       " array([0, 0, 0, ..., 0, 0, 0]),\n",
       " array([0, 0, 0, ..., 0, 0, 0]),\n",
       " array([0, 0, 0, ..., 0, 0, 1]),\n",
       " array([0, 0, 0, ..., 0, 0, 0]),\n",
       " array([1, 1, 1, ..., 0, 0, 0]),\n",
       " array([0, 0, 0, ..., 0, 0, 0]),\n",
       " array([0, 0, 0, ..., 0, 0, 0]),\n",
       " array([1, 0, 1, ..., 0, 0, 0]),\n",
       " array([0, 0, 0, ..., 0, 0, 0]),\n",
       " array([0, 0, 0, ..., 0, 0, 0]),\n",
       " array([0, 0, 0, ..., 0, 0, 0]),\n",
       " array([1, 0, 1, ..., 0, 0, 0]),\n",
       " array([0, 0, 0, ..., 0, 0, 0]),\n",
       " array([0, 0, 0, ..., 0, 0, 0]),\n",
       " array([0, 0, 0, ..., 0, 0, 0]),\n",
       " array([0, 0, 0, ..., 0, 0, 1]),\n",
       " array([0, 0, 0, ..., 1, 0, 0]),\n",
       " array([0, 0, 0, ..., 0, 0, 0]),\n",
       " array([1, 0, 1, ..., 0, 0, 0]),\n",
       " array([0, 0, 0, ..., 0, 0, 0]),\n",
       " array([0, 0, 0, ..., 1, 0, 1]),\n",
       " array([0, 0, 0, ..., 0, 0, 0]),\n",
       " array([0, 0, 0, ..., 0, 0, 0]),\n",
       " array([0, 0, 0, ..., 0, 0, 0]),\n",
       " array([0, 0, 0, ..., 0, 0, 0]),\n",
       " array([0, 0, 0, ..., 0, 0, 0]),\n",
       " array([0, 0, 0, ..., 0, 0, 0]),\n",
       " array([0, 0, 0, ..., 0, 0, 0]),\n",
       " array([0, 0, 0, ..., 0, 0, 0]),\n",
       " array([0, 0, 0, ..., 0, 1, 0]),\n",
       " array([0, 0, 0, ..., 1, 0, 0]),\n",
       " array([0, 0, 0, ..., 0, 0, 0]),\n",
       " array([0, 0, 0, ..., 0, 0, 0]),\n",
       " array([0, 0, 0, ..., 0, 0, 0]),\n",
       " array([0, 0, 0, ..., 0, 0, 0]),\n",
       " array([0, 0, 0, ..., 0, 0, 0]),\n",
       " array([0, 0, 0, ..., 0, 0, 0]),\n",
       " array([0, 0, 0, ..., 0, 0, 0]),\n",
       " array([0, 0, 0, ..., 0, 0, 0]),\n",
       " array([0, 0, 0, ..., 0, 0, 0]),\n",
       " array([1, 0, 1, ..., 0, 0, 0]),\n",
       " array([0, 0, 0, ..., 0, 0, 0]),\n",
       " array([0, 0, 0, ..., 0, 0, 0]),\n",
       " array([0, 0, 0, ..., 0, 0, 0]),\n",
       " array([0, 0, 0, ..., 0, 0, 0]),\n",
       " array([0, 0, 0, ..., 0, 0, 0]),\n",
       " array([1, 0, 1, ..., 0, 1, 0]),\n",
       " array([0, 0, 0, ..., 0, 0, 0]),\n",
       " array([0, 0, 0, ..., 0, 0, 0]),\n",
       " array([0, 0, 0, ..., 0, 0, 0]),\n",
       " array([0, 0, 0, ..., 0, 0, 0]),\n",
       " array([0, 0, 0, ..., 0, 0, 0]),\n",
       " array([0, 0, 0, ..., 0, 0, 0]),\n",
       " array([0, 0, 0, ..., 0, 0, 0]),\n",
       " array([1, 0, 1, ..., 0, 0, 0]),\n",
       " array([0, 0, 0, ..., 0, 0, 0]),\n",
       " array([0, 0, 0, ..., 0, 0, 0]),\n",
       " array([0, 0, 0, ..., 0, 0, 0]),\n",
       " array([1, 0, 1, ..., 0, 0, 0]),\n",
       " array([1, 0, 1, ..., 0, 0, 0]),\n",
       " array([1, 0, 1, ..., 0, 0, 0]),\n",
       " array([0, 0, 0, ..., 0, 0, 0]),\n",
       " array([0, 0, 0, ..., 0, 0, 0]),\n",
       " array([0, 0, 0, ..., 0, 0, 0]),\n",
       " array([0, 0, 0, ..., 0, 0, 0]),\n",
       " array([0, 0, 0, ..., 1, 1, 1]),\n",
       " array([0, 0, 0, ..., 0, 0, 0]),\n",
       " array([0, 0, 0, ..., 0, 0, 0]),\n",
       " array([0, 0, 0, ..., 0, 0, 0]),\n",
       " array([0, 0, 0, ..., 0, 0, 0]),\n",
       " array([0, 0, 0, ..., 0, 0, 0]),\n",
       " array([0, 0, 0, ..., 0, 1, 0]),\n",
       " array([1, 1, 1, ..., 0, 0, 0]),\n",
       " array([1, 0, 1, ..., 0, 0, 0]),\n",
       " array([0, 0, 0, ..., 0, 1, 0]),\n",
       " array([0, 0, 1, ..., 0, 0, 0]),\n",
       " array([0, 0, 0, ..., 0, 0, 0]),\n",
       " array([0, 0, 0, ..., 0, 0, 0]),\n",
       " array([0, 0, 0, ..., 0, 0, 0]),\n",
       " array([0, 0, 0, ..., 0, 0, 0]),\n",
       " array([1, 1, 1, ..., 0, 0, 0]),\n",
       " array([0, 0, 0, ..., 0, 0, 0]),\n",
       " array([0, 0, 0, ..., 0, 0, 0]),\n",
       " array([0, 0, 0, ..., 0, 0, 0]),\n",
       " array([0, 0, 0, ..., 0, 0, 0]),\n",
       " array([0, 0, 0, ..., 0, 0, 0]),\n",
       " array([0, 0, 0, ..., 0, 0, 0]),\n",
       " array([0, 0, 0, ..., 0, 0, 0]),\n",
       " array([0, 0, 0, ..., 0, 0, 0]),\n",
       " array([0, 0, 0, ..., 1, 0, 1]),\n",
       " array([0, 0, 0, ..., 0, 1, 0]),\n",
       " array([0, 0, 0, ..., 0, 0, 0]),\n",
       " array([0, 0, 0, ..., 0, 1, 0]),\n",
       " array([0, 0, 0, ..., 0, 0, 0]),\n",
       " array([0, 0, 0, ..., 0, 0, 0]),\n",
       " array([0, 0, 0, ..., 0, 0, 0]),\n",
       " array([0, 0, 0, ..., 0, 1, 0]),\n",
       " array([0, 0, 0, ..., 0, 0, 0]),\n",
       " array([0, 0, 0, ..., 0, 1, 0]),\n",
       " array([0, 0, 0, ..., 0, 0, 0]),\n",
       " array([0, 0, 0, ..., 0, 0, 0]),\n",
       " array([0, 0, 0, ..., 0, 0, 0]),\n",
       " array([0, 0, 0, ..., 0, 0, 0]),\n",
       " array([0, 0, 0, ..., 0, 0, 0]),\n",
       " array([0, 0, 0, ..., 0, 0, 0]),\n",
       " array([0, 0, 0, ..., 0, 0, 0]),\n",
       " array([0, 0, 0, ..., 0, 0, 0]),\n",
       " array([0, 0, 0, ..., 0, 0, 0]),\n",
       " array([0, 0, 0, ..., 0, 0, 0]),\n",
       " array([0, 0, 0, ..., 0, 0, 0]),\n",
       " array([0, 0, 0, ..., 0, 0, 0]),\n",
       " array([0, 0, 0, ..., 0, 0, 0]),\n",
       " array([0, 0, 0, ..., 0, 0, 0]),\n",
       " array([0, 0, 0, ..., 0, 0, 0]),\n",
       " array([0, 0, 0, ..., 0, 0, 0]),\n",
       " array([0, 0, 0, ..., 0, 0, 0]),\n",
       " array([0, 0, 0, ..., 0, 0, 0]),\n",
       " array([0, 0, 0, ..., 0, 0, 0]),\n",
       " array([0, 0, 0, ..., 0, 0, 0]),\n",
       " array([0, 0, 0, ..., 0, 0, 0]),\n",
       " array([0, 0, 0, ..., 0, 0, 0]),\n",
       " array([0, 0, 0, ..., 0, 0, 0]),\n",
       " array([0, 0, 0, ..., 0, 1, 0]),\n",
       " array([0, 0, 0, ..., 0, 0, 0]),\n",
       " array([0, 0, 0, ..., 0, 0, 0]),\n",
       " array([0, 0, 0, ..., 0, 0, 0]),\n",
       " array([0, 0, 0, ..., 0, 0, 0]),\n",
       " array([0, 0, 0, ..., 0, 0, 0]),\n",
       " array([0, 0, 0, ..., 0, 0, 0]),\n",
       " array([0, 0, 0, ..., 0, 0, 0]),\n",
       " array([0, 0, 0, ..., 0, 0, 0]),\n",
       " array([0, 0, 0, ..., 0, 0, 0]),\n",
       " array([0, 0, 0, ..., 0, 0, 0]),\n",
       " array([0, 0, 0, ..., 0, 0, 0]),\n",
       " array([0, 0, 0, ..., 0, 0, 0]),\n",
       " array([0, 0, 0, ..., 0, 0, 0]),\n",
       " array([0, 0, 0, ..., 0, 0, 0]),\n",
       " array([0, 0, 0, ..., 0, 0, 0]),\n",
       " array([0, 0, 0, ..., 0, 0, 0]),\n",
       " array([0, 0, 0, ..., 0, 0, 0]),\n",
       " array([0, 0, 0, ..., 0, 0, 0]),\n",
       " array([0, 0, 0, ..., 0, 0, 0]),\n",
       " array([0, 0, 0, ..., 0, 0, 0]),\n",
       " array([1, 0, 1, ..., 0, 0, 0]),\n",
       " array([0, 0, 0, ..., 0, 0, 0]),\n",
       " array([0, 0, 0, ..., 0, 0, 0]),\n",
       " array([0, 0, 0, ..., 0, 0, 0]),\n",
       " array([0, 0, 0, ..., 0, 0, 0]),\n",
       " array([0, 0, 1, ..., 0, 0, 0]),\n",
       " array([0, 0, 0, ..., 1, 0, 1]),\n",
       " array([0, 0, 0, ..., 0, 0, 0]),\n",
       " array([0, 0, 0, ..., 0, 0, 0]),\n",
       " array([1, 0, 0, ..., 0, 0, 0]),\n",
       " array([0, 0, 0, ..., 0, 0, 0]),\n",
       " array([0, 0, 0, ..., 1, 0, 1]),\n",
       " array([0, 0, 0, ..., 0, 0, 0]),\n",
       " array([0, 0, 0, ..., 0, 0, 0]),\n",
       " array([0, 0, 0, ..., 0, 0, 0]),\n",
       " array([0, 0, 0, ..., 0, 0, 0]),\n",
       " array([0, 0, 0, ..., 0, 0, 0]),\n",
       " array([0, 0, 0, ..., 0, 0, 0]),\n",
       " array([0, 0, 0, ..., 0, 0, 0]),\n",
       " array([0, 0, 0, ..., 0, 0, 0]),\n",
       " array([1, 0, 0, ..., 0, 0, 0]),\n",
       " array([0, 0, 0, ..., 0, 0, 0]),\n",
       " array([0, 0, 0, ..., 0, 0, 0]),\n",
       " array([0, 0, 0, ..., 0, 0, 0]),\n",
       " array([0, 0, 0, ..., 0, 0, 0]),\n",
       " array([0, 0, 0, ..., 0, 0, 0]),\n",
       " array([0, 0, 0, ..., 0, 0, 0]),\n",
       " array([0, 0, 0, ..., 0, 0, 0]),\n",
       " array([0, 0, 0, ..., 0, 0, 0]),\n",
       " array([0, 0, 0, ..., 0, 0, 0]),\n",
       " array([0, 0, 0, ..., 0, 1, 0]),\n",
       " array([0, 0, 0, ..., 0, 0, 0]),\n",
       " array([0, 0, 0, ..., 0, 0, 0]),\n",
       " array([0, 0, 0, ..., 0, 0, 0]),\n",
       " array([0, 0, 0, ..., 0, 0, 0]),\n",
       " array([0, 0, 0, ..., 0, 0, 0]),\n",
       " array([0, 0, 0, ..., 0, 0, 0]),\n",
       " array([0, 0, 0, ..., 0, 0, 0]),\n",
       " array([0, 0, 0, ..., 0, 0, 0]),\n",
       " array([0, 0, 0, ..., 0, 0, 0]),\n",
       " array([0, 0, 0, ..., 0, 0, 0]),\n",
       " array([0, 0, 0, ..., 0, 0, 0]),\n",
       " array([0, 0, 0, ..., 0, 0, 0]),\n",
       " array([0, 0, 0, ..., 1, 0, 1]),\n",
       " array([0, 0, 0, ..., 0, 0, 0]),\n",
       " array([1, 0, 0, ..., 0, 0, 0]),\n",
       " array([0, 0, 0, ..., 0, 0, 0]),\n",
       " array([1, 0, 1, ..., 0, 1, 0]),\n",
       " array([0, 0, 0, ..., 0, 0, 0]),\n",
       " array([1, 0, 1, ..., 0, 0, 0]),\n",
       " array([0, 0, 0, ..., 0, 0, 0]),\n",
       " array([0, 0, 0, ..., 0, 0, 0]),\n",
       " array([0, 0, 0, ..., 1, 0, 1]),\n",
       " array([0, 0, 0, ..., 0, 0, 0]),\n",
       " array([0, 0, 0, ..., 0, 0, 0]),\n",
       " array([0, 0, 0, ..., 1, 0, 1]),\n",
       " array([0, 0, 0, ..., 0, 0, 0]),\n",
       " array([0, 0, 0, ..., 0, 0, 0]),\n",
       " array([1, 1, 1, ..., 1, 1, 1]),\n",
       " array([1, 0, 1, ..., 0, 0, 0]),\n",
       " array([0, 0, 0, ..., 0, 0, 0]),\n",
       " array([0, 0, 0, ..., 0, 0, 0]),\n",
       " array([0, 0, 0, ..., 0, 0, 0]),\n",
       " array([0, 0, 0, ..., 0, 0, 0]),\n",
       " array([0, 0, 0, ..., 0, 0, 0]),\n",
       " array([0, 0, 0, ..., 0, 0, 0]),\n",
       " array([0, 0, 0, ..., 0, 0, 0]),\n",
       " array([0, 0, 0, ..., 0, 0, 0]),\n",
       " array([0, 0, 0, ..., 0, 0, 0]),\n",
       " array([0, 0, 0, ..., 0, 0, 0]),\n",
       " array([0, 0, 0, ..., 0, 0, 0]),\n",
       " array([0, 0, 0, ..., 0, 0, 1]),\n",
       " array([0, 0, 0, ..., 0, 0, 0]),\n",
       " array([0, 0, 0, ..., 0, 0, 0]),\n",
       " array([0, 0, 0, ..., 0, 0, 0]),\n",
       " array([0, 0, 0, ..., 0, 0, 0]),\n",
       " array([0, 0, 0, ..., 0, 0, 0]),\n",
       " array([0, 0, 0, ..., 0, 1, 0]),\n",
       " array([0, 0, 0, ..., 0, 0, 0]),\n",
       " array([1, 0, 1, ..., 0, 0, 0]),\n",
       " array([0, 0, 0, ..., 0, 0, 0]),\n",
       " array([0, 0, 0, ..., 0, 0, 0]),\n",
       " array([0, 0, 0, ..., 0, 0, 0]),\n",
       " array([0, 0, 0, ..., 0, 0, 0]),\n",
       " array([0, 0, 0, ..., 0, 0, 0]),\n",
       " array([0, 0, 0, ..., 0, 0, 0]),\n",
       " array([0, 0, 0, ..., 0, 0, 0]),\n",
       " array([0, 0, 0, ..., 0, 0, 0]),\n",
       " array([1, 0, 1, ..., 0, 0, 0]),\n",
       " array([0, 0, 0, ..., 0, 0, 0]),\n",
       " array([0, 0, 0, ..., 0, 0, 0]),\n",
       " array([0, 0, 0, ..., 0, 0, 0]),\n",
       " array([0, 0, 0, ..., 0, 0, 0]),\n",
       " array([0, 0, 0, ..., 0, 0, 0]),\n",
       " array([0, 0, 0, ..., 0, 1, 0]),\n",
       " array([0, 0, 0, ..., 0, 1, 0]),\n",
       " array([0, 0, 0, ..., 0, 0, 0]),\n",
       " array([0, 0, 0, ..., 0, 0, 0]),\n",
       " array([0, 0, 0, ..., 0, 0, 0]),\n",
       " array([0, 0, 0, ..., 0, 0, 0]),\n",
       " array([0, 0, 0, ..., 0, 0, 0]),\n",
       " array([0, 0, 0, ..., 0, 0, 0]),\n",
       " array([0, 0, 0, ..., 0, 0, 0]),\n",
       " array([0, 0, 0, ..., 0, 0, 0]),\n",
       " array([0, 0, 0, ..., 0, 0, 0]),\n",
       " array([1, 0, 1, ..., 0, 0, 0]),\n",
       " array([0, 0, 0, ..., 0, 1, 0]),\n",
       " array([0, 0, 0, ..., 0, 0, 0]),\n",
       " array([0, 0, 0, ..., 0, 0, 0]),\n",
       " array([0, 0, 0, ..., 0, 0, 0]),\n",
       " array([0, 0, 1, ..., 0, 0, 0]),\n",
       " array([0, 0, 0, ..., 0, 0, 0]),\n",
       " array([0, 0, 0, ..., 1, 1, 1]),\n",
       " array([0, 0, 0, ..., 0, 0, 0]),\n",
       " array([0, 0, 0, ..., 0, 0, 0]),\n",
       " array([0, 0, 0, ..., 0, 0, 0]),\n",
       " array([1, 1, 1, ..., 0, 0, 0]),\n",
       " array([1, 0, 0, ..., 1, 0, 1]),\n",
       " array([0, 0, 0, ..., 0, 0, 0]),\n",
       " array([0, 0, 0, ..., 0, 0, 0]),\n",
       " array([1, 0, 1, ..., 0, 0, 0]),\n",
       " array([1, 1, 1, ..., 0, 0, 0]),\n",
       " array([0, 0, 0, ..., 0, 0, 0]),\n",
       " array([0, 0, 0, ..., 0, 0, 0]),\n",
       " array([0, 0, 0, ..., 0, 0, 0]),\n",
       " array([0, 0, 0, ..., 0, 0, 0]),\n",
       " array([0, 0, 0, ..., 1, 0, 1]),\n",
       " array([0, 0, 0, ..., 0, 0, 0]),\n",
       " array([0, 0, 0, ..., 0, 0, 0]),\n",
       " array([0, 0, 0, ..., 0, 0, 0]),\n",
       " array([0, 0, 0, ..., 0, 0, 0]),\n",
       " array([1, 1, 1, ..., 0, 0, 0]),\n",
       " array([0, 0, 0, ..., 1, 0, 1]),\n",
       " array([0, 0, 0, ..., 0, 0, 0]),\n",
       " array([0, 0, 0, ..., 0, 0, 0]),\n",
       " array([0, 0, 0, ..., 0, 0, 0]),\n",
       " array([0, 0, 0, ..., 0, 0, 0]),\n",
       " array([1, 0, 1, ..., 0, 0, 0]),\n",
       " array([0, 0, 0, ..., 0, 0, 0]),\n",
       " array([0, 0, 0, ..., 0, 0, 0]),\n",
       " array([0, 0, 0, ..., 0, 0, 0]),\n",
       " array([0, 0, 0, ..., 0, 0, 0]),\n",
       " array([0, 0, 0, ..., 0, 0, 0]),\n",
       " array([0, 0, 0, ..., 0, 0, 0]),\n",
       " array([0, 0, 0, ..., 0, 0, 0]),\n",
       " array([0, 0, 0, ..., 1, 0, 0]),\n",
       " array([0, 0, 0, ..., 0, 1, 0]),\n",
       " array([0, 0, 0, ..., 0, 0, 0]),\n",
       " array([0, 0, 0, ..., 0, 0, 0]),\n",
       " array([0, 0, 0, ..., 0, 0, 0]),\n",
       " array([1, 0, 1, ..., 0, 0, 0]),\n",
       " array([0, 0, 0, ..., 0, 0, 0]),\n",
       " array([1, 0, 1, ..., 0, 0, 0]),\n",
       " array([0, 0, 0, ..., 0, 0, 0]),\n",
       " array([0, 0, 0, ..., 0, 0, 0]),\n",
       " array([0, 0, 0, ..., 0, 0, 0]),\n",
       " array([1, 0, 1, ..., 0, 0, 0]),\n",
       " array([0, 0, 0, ..., 0, 0, 0]),\n",
       " array([0, 0, 0, ..., 0, 0, 0]),\n",
       " array([0, 0, 0, ..., 0, 0, 0]),\n",
       " array([0, 0, 0, ..., 0, 0, 0]),\n",
       " array([0, 0, 0, ..., 0, 0, 0]),\n",
       " array([0, 0, 0, ..., 0, 0, 0]),\n",
       " array([0, 0, 0, ..., 0, 0, 0]),\n",
       " array([0, 0, 0, ..., 0, 0, 0]),\n",
       " array([0, 0, 1, ..., 0, 0, 0]),\n",
       " array([0, 0, 0, ..., 0, 1, 0]),\n",
       " array([0, 0, 0, ..., 0, 0, 0]),\n",
       " array([0, 0, 0, ..., 0, 0, 0]),\n",
       " array([0, 0, 0, ..., 0, 0, 0]),\n",
       " array([0, 0, 0, ..., 0, 0, 0]),\n",
       " array([0, 0, 0, ..., 0, 0, 0]),\n",
       " array([0, 0, 0, ..., 0, 0, 0]),\n",
       " array([1, 0, 1, ..., 0, 0, 0]),\n",
       " array([0, 0, 0, ..., 0, 0, 0]),\n",
       " array([0, 0, 0, ..., 0, 0, 0]),\n",
       " array([0, 0, 0, ..., 0, 0, 0]),\n",
       " array([0, 0, 0, ..., 0, 0, 0]),\n",
       " array([0, 0, 0, ..., 0, 0, 0]),\n",
       " array([0, 0, 0, ..., 0, 0, 0]),\n",
       " array([0, 0, 0, ..., 0, 0, 0]),\n",
       " array([1, 0, 1, ..., 0, 0, 0]),\n",
       " array([0, 0, 0, ..., 0, 0, 0]),\n",
       " array([0, 0, 0, ..., 0, 0, 0]),\n",
       " array([0, 0, 0, ..., 0, 0, 0]),\n",
       " array([0, 0, 0, ..., 1, 0, 1]),\n",
       " array([0, 0, 0, ..., 0, 0, 0]),\n",
       " array([1, 0, 1, ..., 0, 0, 0]),\n",
       " array([1, 1, 1, ..., 0, 0, 0]),\n",
       " array([1, 0, 0, ..., 0, 0, 0]),\n",
       " array([0, 0, 0, ..., 0, 0, 0]),\n",
       " array([0, 0, 0, ..., 0, 0, 0]),\n",
       " array([0, 0, 0, ..., 0, 0, 0]),\n",
       " array([0, 0, 0, ..., 0, 0, 0]),\n",
       " array([0, 0, 0, ..., 0, 0, 0]),\n",
       " array([0, 0, 0, ..., 0, 0, 0]),\n",
       " array([0, 0, 0, ..., 0, 1, 0]),\n",
       " array([0, 0, 0, ..., 0, 0, 0]),\n",
       " array([0, 0, 0, ..., 0, 0, 0]),\n",
       " array([1, 0, 1, ..., 0, 0, 0]),\n",
       " array([0, 0, 0, ..., 0, 0, 0]),\n",
       " array([0, 0, 0, ..., 0, 0, 0]),\n",
       " array([0, 0, 0, ..., 0, 1, 0]),\n",
       " array([0, 0, 0, ..., 0, 0, 0]),\n",
       " array([1, 0, 1, ..., 0, 0, 0]),\n",
       " array([0, 0, 0, ..., 0, 0, 0]),\n",
       " array([0, 0, 0, ..., 0, 0, 0]),\n",
       " array([1, 0, 1, ..., 0, 0, 0]),\n",
       " array([0, 0, 0, ..., 0, 0, 0]),\n",
       " array([0, 0, 0, ..., 1, 0, 1]),\n",
       " array([0, 0, 0, ..., 0, 0, 0]),\n",
       " array([0, 0, 0, ..., 1, 0, 0]),\n",
       " array([0, 0, 0, ..., 0, 0, 0]),\n",
       " array([0, 0, 0, ..., 0, 0, 0]),\n",
       " array([0, 0, 0, ..., 0, 0, 0]),\n",
       " array([0, 0, 0, ..., 0, 0, 0]),\n",
       " array([0, 0, 0, ..., 0, 0, 0]),\n",
       " array([0, 0, 0, ..., 0, 0, 0]),\n",
       " array([0, 0, 0, ..., 0, 0, 0]),\n",
       " array([0, 0, 0, ..., 0, 0, 0]),\n",
       " array([0, 0, 0, ..., 0, 0, 0]),\n",
       " array([0, 0, 0, ..., 0, 0, 0]),\n",
       " array([0, 0, 0, ..., 0, 0, 0]),\n",
       " array([0, 0, 0, ..., 0, 0, 0]),\n",
       " array([0, 0, 0, ..., 0, 0, 0]),\n",
       " array([0, 0, 0, ..., 0, 0, 0]),\n",
       " array([0, 0, 0, ..., 0, 0, 0]),\n",
       " array([0, 0, 0, ..., 0, 0, 0]),\n",
       " array([0, 0, 0, ..., 0, 0, 0]),\n",
       " array([0, 0, 0, ..., 0, 0, 0]),\n",
       " array([0, 0, 0, ..., 0, 0, 0]),\n",
       " array([0, 0, 0, ..., 0, 0, 0]),\n",
       " array([0, 0, 0, ..., 0, 0, 0]),\n",
       " array([0, 0, 0, ..., 0, 0, 0]),\n",
       " array([0, 0, 0, ..., 0, 0, 0]),\n",
       " array([0, 0, 0, ..., 0, 0, 0]),\n",
       " array([1, 0, 1, ..., 0, 0, 0]),\n",
       " array([0, 0, 0, ..., 0, 0, 0]),\n",
       " array([0, 0, 0, ..., 0, 0, 0]),\n",
       " array([0, 0, 0, ..., 0, 0, 0]),\n",
       " array([0, 0, 0, ..., 0, 0, 0]),\n",
       " array([0, 0, 0, ..., 0, 0, 0]),\n",
       " array([0, 0, 0, ..., 0, 0, 0]),\n",
       " array([0, 0, 0, ..., 0, 0, 0]),\n",
       " array([0, 0, 0, ..., 0, 0, 0]),\n",
       " array([0, 0, 0, ..., 0, 0, 0]),\n",
       " array([1, 1, 1, ..., 0, 0, 0]),\n",
       " array([0, 0, 0, ..., 0, 0, 0]),\n",
       " array([1, 0, 1, ..., 0, 0, 0]),\n",
       " array([0, 0, 0, ..., 0, 0, 0]),\n",
       " array([1, 0, 1, ..., 0, 0, 0]),\n",
       " array([0, 0, 0, ..., 0, 0, 0]),\n",
       " array([1, 1, 1, ..., 0, 0, 0]),\n",
       " array([0, 0, 0, ..., 0, 0, 0]),\n",
       " array([0, 0, 0, ..., 0, 0, 0]),\n",
       " array([0, 0, 0, ..., 0, 0, 0]),\n",
       " array([0, 0, 0, ..., 0, 0, 0]),\n",
       " array([0, 0, 0, ..., 0, 0, 0]),\n",
       " array([0, 0, 0, ..., 0, 0, 0]),\n",
       " array([1, 0, 1, ..., 0, 0, 0]),\n",
       " array([0, 0, 0, ..., 0, 0, 0]),\n",
       " array([0, 0, 0, ..., 0, 0, 0]),\n",
       " array([1, 0, 1, ..., 0, 1, 0]),\n",
       " array([1, 0, 1, ..., 0, 0, 0]),\n",
       " array([0, 0, 0, ..., 0, 0, 0]),\n",
       " array([1, 0, 1, ..., 0, 0, 0]),\n",
       " array([0, 0, 0, ..., 0, 0, 0]),\n",
       " array([0, 0, 0, ..., 0, 1, 0]),\n",
       " array([0, 0, 0, ..., 0, 0, 0]),\n",
       " array([0, 0, 0, ..., 0, 0, 0]),\n",
       " array([1, 0, 1, ..., 0, 0, 0]),\n",
       " array([0, 0, 0, ..., 0, 0, 0]),\n",
       " array([0, 0, 0, ..., 0, 0, 0]),\n",
       " array([0, 0, 0, ..., 0, 0, 0]),\n",
       " array([0, 0, 0, ..., 0, 0, 0]),\n",
       " array([0, 0, 0, ..., 0, 0, 0]),\n",
       " array([0, 0, 0, ..., 1, 0, 1]),\n",
       " array([0, 0, 0, ..., 0, 0, 0]),\n",
       " array([0, 0, 0, ..., 0, 0, 0]),\n",
       " array([0, 0, 0, ..., 0, 0, 0]),\n",
       " array([0, 0, 0, ..., 0, 0, 0]),\n",
       " array([0, 0, 0, ..., 0, 0, 0]),\n",
       " array([0, 0, 0, ..., 0, 0, 0]),\n",
       " array([0, 0, 0, ..., 0, 0, 0]),\n",
       " array([0, 0, 0, ..., 0, 0, 0]),\n",
       " array([0, 0, 0, ..., 0, 0, 0]),\n",
       " array([0, 0, 0, ..., 0, 0, 0]),\n",
       " array([0, 0, 0, ..., 0, 0, 0]),\n",
       " array([0, 0, 0, ..., 0, 0, 0]),\n",
       " array([0, 0, 0, ..., 0, 0, 0]),\n",
       " array([0, 0, 0, ..., 0, 0, 0]),\n",
       " array([0, 0, 0, ..., 0, 0, 0]),\n",
       " array([0, 0, 0, ..., 0, 0, 0]),\n",
       " array([0, 0, 0, ..., 0, 0, 0]),\n",
       " array([0, 0, 0, ..., 0, 0, 0]),\n",
       " array([0, 0, 0, ..., 0, 0, 0]),\n",
       " array([0, 0, 0, ..., 0, 0, 0]),\n",
       " array([0, 0, 0, ..., 0, 0, 0]),\n",
       " array([0, 0, 0, ..., 0, 0, 0]),\n",
       " array([0, 0, 0, ..., 0, 0, 0]),\n",
       " array([0, 0, 0, ..., 0, 0, 0]),\n",
       " array([0, 0, 0, ..., 0, 0, 0]),\n",
       " array([1, 0, 1, ..., 0, 0, 0]),\n",
       " array([0, 0, 0, ..., 0, 0, 0]),\n",
       " array([0, 0, 0, ..., 0, 1, 0]),\n",
       " array([0, 0, 0, ..., 0, 0, 0]),\n",
       " array([0, 0, 0, ..., 0, 0, 0]),\n",
       " array([0, 0, 0, ..., 0, 1, 0]),\n",
       " array([0, 0, 0, ..., 0, 0, 0]),\n",
       " array([0, 0, 0, ..., 0, 1, 0]),\n",
       " array([1, 1, 1, ..., 0, 0, 0]),\n",
       " array([1, 0, 0, ..., 0, 0, 0]),\n",
       " array([0, 0, 0, ..., 0, 0, 0]),\n",
       " array([0, 0, 0, ..., 0, 0, 0]),\n",
       " array([1, 1, 1, ..., 0, 0, 0]),\n",
       " array([0, 0, 0, ..., 0, 0, 0]),\n",
       " array([0, 0, 0, ..., 0, 0, 0]),\n",
       " array([1, 1, 1, ..., 0, 0, 0]),\n",
       " array([0, 0, 0, ..., 0, 0, 0]),\n",
       " array([0, 0, 0, ..., 0, 0, 0]),\n",
       " array([0, 0, 0, ..., 0, 0, 0]),\n",
       " array([1, 0, 1, ..., 0, 0, 0]),\n",
       " array([0, 0, 0, ..., 0, 0, 0]),\n",
       " array([0, 0, 0, ..., 0, 0, 0]),\n",
       " array([1, 0, 1, ..., 0, 0, 0]),\n",
       " array([0, 0, 0, ..., 0, 0, 0]),\n",
       " array([0, 0, 0, ..., 0, 0, 0]),\n",
       " array([1, 1, 1, ..., 0, 0, 0]),\n",
       " array([0, 0, 0, ..., 0, 0, 0]),\n",
       " array([0, 0, 0, ..., 0, 0, 0]),\n",
       " array([1, 1, 1, ..., 0, 0, 0]),\n",
       " array([0, 0, 0, ..., 0, 0, 0]),\n",
       " array([1, 0, 1, ..., 0, 0, 0]),\n",
       " array([0, 0, 0, ..., 0, 0, 0]),\n",
       " array([1, 0, 1, ..., 0, 0, 0]),\n",
       " array([0, 0, 1, ..., 0, 0, 0]),\n",
       " array([1, 0, 1, ..., 0, 0, 0]),\n",
       " array([0, 0, 0, ..., 0, 0, 0]),\n",
       " array([0, 0, 0, ..., 0, 0, 0]),\n",
       " array([0, 0, 0, ..., 0, 0, 0]),\n",
       " array([0, 0, 0, ..., 0, 0, 0]),\n",
       " array([0, 0, 0, ..., 0, 0, 0]),\n",
       " array([0, 0, 0, ..., 0, 0, 0]),\n",
       " array([0, 0, 0, ..., 0, 0, 0]),\n",
       " array([1, 0, 1, ..., 0, 0, 0]),\n",
       " array([0, 0, 0, ..., 0, 0, 0]),\n",
       " array([0, 0, 0, ..., 0, 0, 0]),\n",
       " array([0, 0, 0, ..., 0, 0, 0]),\n",
       " array([0, 0, 0, ..., 0, 0, 0]),\n",
       " array([0, 0, 0, ..., 0, 0, 0]),\n",
       " array([0, 0, 0, ..., 1, 0, 1]),\n",
       " array([0, 0, 0, ..., 0, 1, 0]),\n",
       " array([0, 0, 0, ..., 0, 0, 0]),\n",
       " array([1, 0, 1, ..., 0, 0, 0]),\n",
       " array([0, 0, 0, ..., 0, 0, 0]),\n",
       " array([0, 0, 0, ..., 0, 0, 0]),\n",
       " array([1, 1, 1, ..., 0, 0, 0]),\n",
       " array([0, 0, 0, ..., 0, 0, 0]),\n",
       " array([1, 1, 1, ..., 0, 0, 0]),\n",
       " array([0, 0, 0, ..., 0, 0, 0]),\n",
       " array([0, 0, 1, ..., 0, 0, 0]),\n",
       " array([0, 0, 0, ..., 0, 1, 0]),\n",
       " array([0, 0, 0, ..., 0, 0, 0]),\n",
       " array([0, 0, 0, ..., 0, 1, 0]),\n",
       " array([0, 0, 0, ..., 0, 0, 0]),\n",
       " array([0, 0, 0, ..., 0, 0, 0]),\n",
       " array([1, 0, 1, ..., 0, 0, 0]),\n",
       " array([0, 0, 0, ..., 0, 1, 0]),\n",
       " array([0, 0, 0, ..., 0, 0, 0]),\n",
       " array([0, 0, 0, ..., 0, 0, 0]),\n",
       " array([1, 0, 1, ..., 0, 0, 0]),\n",
       " array([0, 0, 0, ..., 1, 0, 1]),\n",
       " array([1, 0, 1, ..., 0, 0, 0]),\n",
       " array([0, 0, 0, ..., 0, 0, 0]),\n",
       " array([0, 0, 0, ..., 0, 0, 0]),\n",
       " array([1, 1, 1, ..., 0, 0, 0]),\n",
       " array([0, 0, 0, ..., 0, 0, 0]),\n",
       " array([1, 0, 1, ..., 0, 0, 0]),\n",
       " array([0, 0, 0, ..., 0, 0, 0]),\n",
       " array([0, 0, 0, ..., 0, 0, 0]),\n",
       " array([0, 0, 0, ..., 0, 0, 0]),\n",
       " array([0, 0, 0, ..., 0, 0, 0]),\n",
       " array([0, 0, 0, ..., 0, 1, 0]),\n",
       " array([0, 0, 0, ..., 0, 0, 0]),\n",
       " array([0, 0, 0, ..., 0, 0, 0]),\n",
       " array([1, 0, 1, ..., 0, 0, 0]),\n",
       " array([0, 0, 0, ..., 0, 0, 0]),\n",
       " array([0, 0, 0, ..., 0, 0, 0]),\n",
       " array([0, 0, 1, ..., 0, 0, 0]),\n",
       " array([0, 0, 0, ..., 0, 1, 0]),\n",
       " array([0, 0, 0, ..., 0, 0, 0]),\n",
       " array([0, 0, 0, ..., 0, 1, 0]),\n",
       " array([0, 0, 0, ..., 0, 0, 0]),\n",
       " array([0, 0, 0, ..., 0, 0, 0]),\n",
       " array([0, 0, 0, ..., 0, 0, 0]),\n",
       " array([0, 0, 0, ..., 0, 0, 0]),\n",
       " array([0, 0, 0, ..., 0, 0, 0]),\n",
       " array([0, 0, 0, ..., 0, 0, 0]),\n",
       " array([0, 0, 0, ..., 0, 0, 0]),\n",
       " array([0, 0, 0, ..., 0, 0, 0]),\n",
       " array([0, 0, 0, ..., 0, 0, 0]),\n",
       " array([0, 0, 0, ..., 0, 0, 0]),\n",
       " array([0, 0, 0, ..., 0, 0, 0]),\n",
       " array([0, 0, 0, ..., 0, 0, 0]),\n",
       " array([0, 0, 0, ..., 0, 0, 0]),\n",
       " array([0, 0, 0, ..., 0, 0, 0]),\n",
       " array([0, 0, 0, ..., 0, 0, 0]),\n",
       " array([0, 0, 0, ..., 0, 0, 0]),\n",
       " array([0, 0, 0, ..., 0, 0, 0]),\n",
       " array([0, 0, 0, ..., 0, 0, 0]),\n",
       " array([0, 0, 0, ..., 0, 0, 0]),\n",
       " array([0, 0, 0, ..., 1, 0, 1]),\n",
       " array([0, 0, 0, ..., 0, 0, 0]),\n",
       " array([0, 0, 0, ..., 0, 0, 0]),\n",
       " array([0, 0, 0, ..., 0, 0, 0]),\n",
       " array([0, 0, 0, ..., 0, 0, 0]),\n",
       " array([0, 0, 0, ..., 0, 0, 0]),\n",
       " array([0, 0, 0, ..., 0, 0, 0]),\n",
       " array([0, 0, 0, ..., 0, 0, 0]),\n",
       " array([0, 0, 0, ..., 0, 0, 0]),\n",
       " array([0, 0, 0, ..., 0, 0, 0]),\n",
       " array([0, 0, 0, ..., 0, 1, 0]),\n",
       " array([0, 0, 0, ..., 0, 0, 0]),\n",
       " array([0, 0, 0, ..., 0, 0, 0]),\n",
       " array([0, 0, 0, ..., 0, 0, 0]),\n",
       " array([0, 0, 0, ..., 0, 0, 0]),\n",
       " array([0, 0, 0, ..., 0, 0, 0]),\n",
       " array([0, 0, 0, ..., 0, 0, 0]),\n",
       " array([0, 0, 0, ..., 0, 0, 0]),\n",
       " array([0, 0, 0, ..., 0, 0, 0]),\n",
       " array([0, 0, 0, ..., 0, 0, 0]),\n",
       " array([1, 0, 1, ..., 0, 1, 0]),\n",
       " array([1, 0, 1, ..., 0, 0, 0]),\n",
       " array([0, 0, 0, ..., 0, 0, 0]),\n",
       " array([1, 0, 1, ..., 0, 0, 0]),\n",
       " array([0, 0, 0, ..., 0, 0, 0]),\n",
       " array([0, 0, 0, ..., 0, 1, 0]),\n",
       " array([0, 0, 0, ..., 0, 0, 0]),\n",
       " array([0, 0, 0, ..., 0, 0, 0]),\n",
       " array([0, 0, 0, ..., 0, 0, 0]),\n",
       " array([0, 0, 0, ..., 0, 1, 0]),\n",
       " array([0, 0, 0, ..., 0, 0, 0]),\n",
       " array([0, 0, 0, ..., 0, 0, 0]),\n",
       " array([0, 0, 0, ..., 0, 0, 0]),\n",
       " array([0, 0, 0, ..., 0, 0, 0]),\n",
       " array([1, 0, 1, ..., 0, 0, 0]),\n",
       " array([0, 0, 0, ..., 0, 0, 0]),\n",
       " array([0, 0, 0, ..., 0, 0, 0]),\n",
       " array([0, 0, 0, ..., 0, 1, 0]),\n",
       " array([0, 0, 0, ..., 0, 0, 0]),\n",
       " array([0, 0, 0, ..., 0, 0, 0]),\n",
       " array([0, 0, 1, ..., 0, 1, 0]),\n",
       " array([0, 0, 0, ..., 0, 0, 0]),\n",
       " array([0, 0, 0, ..., 1, 0, 1]),\n",
       " array([0, 0, 0, ..., 0, 0, 0]),\n",
       " array([0, 0, 0, ..., 0, 1, 0]),\n",
       " array([0, 0, 0, ..., 0, 0, 0]),\n",
       " array([0, 0, 0, ..., 0, 0, 0]),\n",
       " array([0, 0, 0, ..., 0, 0, 0]),\n",
       " array([0, 0, 0, ..., 0, 0, 0]),\n",
       " array([0, 0, 0, ..., 0, 0, 0]),\n",
       " array([0, 0, 0, ..., 0, 1, 0]),\n",
       " array([0, 0, 0, ..., 0, 0, 0]),\n",
       " array([0, 0, 0, ..., 1, 0, 1]),\n",
       " array([0, 0, 0, ..., 0, 0, 0]),\n",
       " array([0, 0, 0, ..., 0, 0, 0]),\n",
       " array([1, 1, 1, ..., 0, 0, 0]),\n",
       " array([0, 0, 0, ..., 0, 0, 0]),\n",
       " array([0, 0, 0, ..., 0, 1, 0]),\n",
       " array([0, 0, 0, ..., 0, 0, 0]),\n",
       " array([0, 0, 0, ..., 0, 0, 0]),\n",
       " array([1, 0, 1, ..., 0, 0, 0]),\n",
       " array([0, 0, 0, ..., 0, 0, 0]),\n",
       " array([0, 0, 0, ..., 0, 0, 0]),\n",
       " array([0, 0, 0, ..., 0, 0, 0]),\n",
       " array([0, 0, 0, ..., 0, 0, 0]),\n",
       " array([0, 0, 0, ..., 0, 0, 0]),\n",
       " array([0, 0, 0, ..., 0, 1, 0]),\n",
       " array([0, 0, 0, ..., 0, 1, 0]),\n",
       " array([0, 0, 0, ..., 0, 0, 0]),\n",
       " array([0, 0, 0, ..., 0, 0, 0]),\n",
       " array([1, 0, 1, ..., 0, 0, 0]),\n",
       " array([0, 0, 0, ..., 0, 0, 0]),\n",
       " array([0, 0, 0, ..., 0, 0, 0]),\n",
       " array([0, 0, 0, ..., 0, 0, 0]),\n",
       " array([0, 0, 0, ..., 1, 0, 1]),\n",
       " array([0, 0, 0, ..., 0, 0, 0]),\n",
       " array([0, 0, 0, ..., 0, 0, 0]),\n",
       " array([0, 0, 0, ..., 0, 0, 0]),\n",
       " array([0, 0, 0, ..., 0, 0, 0]),\n",
       " array([0, 0, 0, ..., 0, 0, 0]),\n",
       " array([1, 0, 1, ..., 0, 0, 0]),\n",
       " array([0, 0, 0, ..., 0, 0, 0]),\n",
       " array([0, 0, 0, ..., 0, 1, 0]),\n",
       " array([0, 0, 0, ..., 0, 0, 0]),\n",
       " array([0, 0, 0, ..., 0, 0, 0]),\n",
       " array([0, 0, 0, ..., 0, 0, 0]),\n",
       " array([1, 1, 1, ..., 0, 0, 0]),\n",
       " array([0, 0, 0, ..., 0, 0, 0]),\n",
       " array([0, 0, 0, ..., 0, 0, 0]),\n",
       " array([0, 0, 0, ..., 1, 0, 1]),\n",
       " array([0, 0, 0, ..., 0, 0, 0]),\n",
       " array([0, 0, 0, ..., 0, 0, 0]),\n",
       " array([0, 0, 0, ..., 0, 0, 0]),\n",
       " array([0, 0, 0, ..., 0, 0, 0]),\n",
       " array([0, 0, 0, ..., 0, 0, 0]),\n",
       " array([0, 0, 0, ..., 0, 0, 0]),\n",
       " array([0, 0, 0, ..., 0, 0, 1]),\n",
       " array([0, 0, 0, ..., 0, 1, 0]),\n",
       " array([0, 0, 0, ..., 0, 0, 0]),\n",
       " array([0, 0, 0, ..., 0, 0, 0]),\n",
       " array([0, 0, 0, ..., 0, 0, 0]),\n",
       " array([0, 0, 0, ..., 0, 0, 0]),\n",
       " array([0, 0, 0, ..., 0, 0, 0]),\n",
       " array([0, 0, 0, ..., 0, 0, 0]),\n",
       " array([0, 0, 0, ..., 0, 0, 0]),\n",
       " array([1, 0, 1, ..., 0, 0, 0]),\n",
       " array([0, 0, 0, ..., 0, 0, 0]),\n",
       " array([1, 0, 1, ..., 0, 0, 0]),\n",
       " array([0, 0, 0, ..., 0, 0, 0]),\n",
       " array([0, 0, 0, ..., 0, 0, 0]),\n",
       " array([0, 0, 0, ..., 0, 0, 0]),\n",
       " array([0, 0, 0, ..., 0, 0, 0]),\n",
       " array([0, 0, 0, ..., 0, 0, 0]),\n",
       " array([0, 0, 0, ..., 0, 0, 0]),\n",
       " array([0, 0, 0, ..., 0, 0, 0]),\n",
       " array([0, 0, 0, ..., 0, 0, 0]),\n",
       " array([0, 0, 0, ..., 0, 0, 0]),\n",
       " array([0, 0, 0, ..., 0, 0, 0]),\n",
       " array([0, 0, 0, ..., 0, 0, 0]),\n",
       " array([0, 0, 0, ..., 0, 0, 0]),\n",
       " array([0, 0, 0, ..., 0, 0, 0]),\n",
       " array([0, 0, 0, ..., 0, 1, 0]),\n",
       " array([0, 0, 0, ..., 0, 0, 0]),\n",
       " array([0, 0, 0, ..., 0, 0, 0]),\n",
       " array([0, 0, 0, ..., 0, 1, 0]),\n",
       " array([0, 0, 0, ..., 0, 0, 0]),\n",
       " array([0, 0, 1, ..., 0, 0, 0]),\n",
       " array([0, 0, 0, ..., 1, 0, 1]),\n",
       " array([0, 0, 0, ..., 0, 0, 0]),\n",
       " array([1, 1, 1, ..., 0, 0, 0]),\n",
       " array([0, 0, 0, ..., 0, 0, 0]),\n",
       " array([0, 0, 0, ..., 0, 0, 0]),\n",
       " array([0, 0, 0, ..., 0, 0, 0]),\n",
       " array([0, 0, 0, ..., 0, 0, 0]),\n",
       " array([0, 0, 0, ..., 0, 0, 0]),\n",
       " array([0, 0, 0, ..., 1, 0, 1]),\n",
       " array([0, 0, 0, ..., 0, 0, 0]),\n",
       " array([1, 0, 1, ..., 0, 0, 0]),\n",
       " array([0, 0, 0, ..., 0, 0, 0]),\n",
       " array([0, 0, 0, ..., 0, 0, 0]),\n",
       " array([0, 0, 0, ..., 0, 0, 0]),\n",
       " array([0, 0, 0, ..., 0, 0, 0]),\n",
       " array([0, 0, 0, ..., 0, 0, 0]),\n",
       " array([1, 0, 1, ..., 0, 0, 0]),\n",
       " array([0, 0, 0, ..., 0, 0, 0]),\n",
       " array([1, 0, 1, ..., 1, 0, 1]),\n",
       " array([0, 0, 0, ..., 0, 0, 0]),\n",
       " array([0, 0, 0, ..., 0, 0, 0]),\n",
       " array([1, 0, 1, ..., 0, 0, 0]),\n",
       " array([0, 0, 0, ..., 0, 0, 0]),\n",
       " array([0, 0, 0, ..., 0, 1, 0]),\n",
       " array([0, 0, 0, ..., 0, 0, 0]),\n",
       " array([0, 0, 0, ..., 0, 0, 0]),\n",
       " array([0, 0, 0, ..., 0, 0, 0]),\n",
       " array([0, 0, 0, ..., 0, 0, 0]),\n",
       " array([0, 0, 0, ..., 0, 0, 0]),\n",
       " array([0, 0, 0, ..., 0, 0, 0]),\n",
       " array([0, 0, 0, ..., 0, 0, 0]),\n",
       " array([0, 0, 0, ..., 0, 0, 0]),\n",
       " array([0, 0, 0, ..., 0, 0, 0]),\n",
       " array([0, 0, 0, ..., 0, 1, 0]),\n",
       " array([0, 0, 0, ..., 0, 0, 0]),\n",
       " array([0, 0, 0, ..., 0, 0, 0]),\n",
       " array([0, 0, 0, ..., 0, 0, 0]),\n",
       " array([0, 0, 0, ..., 0, 0, 0]),\n",
       " array([0, 0, 0, ..., 0, 0, 0]),\n",
       " array([1, 1, 1, ..., 0, 0, 0]),\n",
       " array([0, 0, 0, ..., 0, 0, 0]),\n",
       " array([0, 0, 1, ..., 0, 0, 0]),\n",
       " array([0, 0, 0, ..., 0, 0, 0]),\n",
       " array([0, 0, 0, ..., 1, 0, 1]),\n",
       " array([0, 0, 0, ..., 1, 0, 1]),\n",
       " array([0, 0, 0, ..., 1, 0, 1]),\n",
       " array([0, 0, 0, ..., 0, 1, 0]),\n",
       " array([0, 0, 0, ..., 0, 0, 0]),\n",
       " array([0, 0, 0, ..., 0, 0, 0]),\n",
       " array([0, 0, 0, ..., 0, 0, 0]),\n",
       " array([0, 0, 0, ..., 0, 0, 0]),\n",
       " array([1, 0, 1, ..., 0, 0, 0]),\n",
       " array([0, 0, 0, ..., 0, 0, 0]),\n",
       " array([0, 0, 0, ..., 0, 0, 0]),\n",
       " array([0, 0, 0, ..., 0, 0, 0]),\n",
       " array([0, 0, 0, ..., 0, 0, 0]),\n",
       " array([0, 0, 0, ..., 0, 0, 0]),\n",
       " array([1, 0, 1, ..., 0, 0, 0]),\n",
       " array([0, 0, 0, ..., 0, 0, 0]),\n",
       " array([0, 0, 0, ..., 0, 0, 0]),\n",
       " array([0, 0, 0, ..., 0, 0, 0]),\n",
       " array([0, 0, 0, ..., 1, 0, 1]),\n",
       " array([0, 0, 0, ..., 0, 0, 0]),\n",
       " array([0, 0, 0, ..., 0, 1, 0]),\n",
       " array([0, 0, 0, ..., 0, 0, 0]),\n",
       " array([0, 0, 0, ..., 0, 0, 0]),\n",
       " array([0, 0, 0, ..., 0, 0, 0]),\n",
       " array([0, 0, 0, ..., 0, 1, 0]),\n",
       " array([0, 0, 0, ..., 0, 0, 0]),\n",
       " array([0, 0, 0, ..., 0, 0, 0]),\n",
       " array([0, 0, 0, ..., 0, 0, 0]),\n",
       " array([0, 0, 0, ..., 0, 0, 0]),\n",
       " array([0, 0, 0, ..., 0, 0, 0]),\n",
       " array([0, 0, 0, ..., 0, 0, 0]),\n",
       " array([0, 0, 0, ..., 0, 0, 1]),\n",
       " array([0, 0, 0, ..., 1, 0, 1]),\n",
       " array([0, 0, 0, ..., 0, 0, 0]),\n",
       " array([0, 0, 0, ..., 0, 0, 0]),\n",
       " array([0, 0, 0, ..., 1, 0, 1]),\n",
       " array([0, 0, 0, ..., 0, 0, 0]),\n",
       " array([0, 0, 0, ..., 0, 0, 0]),\n",
       " array([0, 0, 0, ..., 1, 0, 1]),\n",
       " array([0, 0, 0, ..., 1, 0, 1]),\n",
       " array([0, 0, 0, ..., 0, 0, 0]),\n",
       " array([0, 0, 0, ..., 0, 0, 0]),\n",
       " array([0, 0, 0, ..., 0, 0, 0]),\n",
       " array([0, 0, 0, ..., 0, 0, 0]),\n",
       " array([0, 0, 0, ..., 0, 1, 0]),\n",
       " array([0, 0, 0, ..., 0, 0, 0]),\n",
       " array([0, 0, 0, ..., 0, 1, 0]),\n",
       " array([0, 0, 0, ..., 0, 0, 0]),\n",
       " array([0, 0, 0, ..., 0, 0, 0]),\n",
       " array([0, 0, 0, ..., 0, 0, 0]),\n",
       " array([0, 0, 0, ..., 1, 0, 1]),\n",
       " array([0, 0, 0, ..., 0, 0, 0]),\n",
       " array([0, 0, 0, ..., 0, 0, 0]),\n",
       " array([1, 0, 1, ..., 0, 0, 0]),\n",
       " array([0, 0, 0, ..., 0, 0, 0]),\n",
       " array([0, 0, 0, ..., 0, 0, 0]),\n",
       " array([0, 0, 0, ..., 1, 0, 1]),\n",
       " array([0, 0, 0, ..., 0, 0, 0]),\n",
       " array([0, 0, 0, ..., 0, 1, 0]),\n",
       " array([0, 0, 0, ..., 1, 0, 1]),\n",
       " array([0, 0, 0, ..., 0, 0, 0]),\n",
       " array([0, 0, 0, ..., 0, 0, 0]),\n",
       " ...]"
      ]
     },
     "execution_count": 925,
     "metadata": {},
     "output_type": "execute_result"
    }
   ],
   "source": [
    "fingerprints3"
   ]
  },
  {
   "cell_type": "code",
   "execution_count": null,
   "metadata": {},
   "outputs": [
    {
     "data": {
      "text/plain": [
       "(2164, 4096)"
      ]
     },
     "execution_count": 930,
     "metadata": {},
     "output_type": "execute_result"
    }
   ],
   "source": [
    "np.concatenate((fingerprints[:-1],fingerprints2[:-1],fingerprints3[:-1])).shape"
   ]
  },
  {
   "cell_type": "code",
   "execution_count": null,
   "metadata": {},
   "outputs": [],
   "source": [
    "# hashFunctions = gHashFunctions(100,arr1.size).\n",
    "# signatures = minHash2(np.stack(fingerprints[:-1]).T, 100)\n",
    "# print(signatures.T[0],signatures.T[1])\n",
    "signatures = minHASH(np.concatenate((fingerprints[:-1],fingerprints2[:-1],fingerprints3[:-1])), 100)\n",
    "s1 = signatures[:1100]\n",
    "s2 = signatures[1100:1136]\n",
    "s3 = signatures[1136:]\n",
    "# print(jaccard_similarity(arr1,arr2))\n",
    "# print(jaccard_similarity(signatures[1],signatures[1096]))\n",
    "# print(jaccard_similarity(sign[0],sign[1]))\n"
   ]
  },
  {
   "cell_type": "code",
   "execution_count": null,
   "metadata": {},
   "outputs": [],
   "source": []
  },
  {
   "cell_type": "code",
   "execution_count": null,
   "metadata": {},
   "outputs": [],
   "source": [
    "m = {}\n",
    "for i,p in enumerate(s2):\n",
    "  for j,q in enumerate(s3):\n",
    "    jaccard = jaccard_similarity(p,q)\n",
    "    if jaccard > 0.7:\n",
    "      if i in m and m[i][1] < jaccard:\n",
    "        m[i] = [j,jaccard]\n",
    "      else:\n",
    "        m[i] = [j,jaccard]\n",
    "coord = np.array([\n",
    "  [i,j[0],j[1]] for i,j in m.items()\n",
    "])\n"
   ]
  },
  {
   "cell_type": "code",
   "execution_count": null,
   "metadata": {},
   "outputs": [
    {
     "data": {
      "text/plain": [
       "{0: [1027, 0.722990513557819],\n",
       " 2: [1008, 0.7097457321072079],\n",
       " 9: [1027, 0.7270729467331409],\n",
       " 15: [1022, 0.7011826057142225],\n",
       " 20: [1022, 0.7006594397580176],\n",
       " 29: [1027, 0.7078273844626267],\n",
       " 34: [968, 0.70307472808036]}"
      ]
     },
     "execution_count": 934,
     "metadata": {},
     "output_type": "execute_result"
    }
   ],
   "source": [
    "m"
   ]
  },
  {
   "cell_type": "code",
   "execution_count": null,
   "metadata": {},
   "outputs": [
    {
     "data": {
      "text/plain": [
       "array([  19,   20,   22,  135,  176,  244,  250,  379,  388,  391,  451,\n",
       "        486,  629,  694,  720,  724,  761,  801,  825,  877,  999, 1046])"
      ]
     },
     "execution_count": 904,
     "metadata": {},
     "output_type": "execute_result"
    }
   ],
   "source": [
    "coord[:,0]"
   ]
  },
  {
   "cell_type": "code",
   "execution_count": null,
   "metadata": {},
   "outputs": [
    {
     "data": {
      "image/png": "[encoded data removed]",
      "text/plain": [
       "<Figure size 640x480 with 1 Axes>"
      ]
     },
     "metadata": {},
     "output_type": "display_data"
    }
   ],
   "source": [
    "import itertools\n",
    "\n",
    "plt.scatter(coord[:,0], coord[:,1],s=2, color='red')\n",
    "plt.show()"
   ]
  },
  {
   "cell_type": "code",
   "execution_count": null,
   "metadata": {},
   "outputs": [
    {
     "name": "stdout",
     "output_type": "stream",
     "text": [
      "{0: ('Search sec: 0.0 \\n Target sec: 27.108666666666668', 0.22348484848484848), 1: ('Search sec: 1.48 \\n Target sec: 27.108666666666668', 0.3788546255506608), 2: ('Search sec: 2.96 \\n Target sec: 27.108666666666668', 0.006568144499178982), 3: ('Search sec: 4.4399999999999995 \\n Target sec: 27.108666666666668', 0.23473282442748092), 4: ('Search sec: 5.92 \\n Target sec: 27.108666666666668', 0.031825795644891124), 5: ('Search sec: 7.4 \\n Target sec: 27.108666666666668', 0.08865248226950355), 6: ('Search sec: 8.879999999999999 \\n Target sec: 27.108666666666668', 0.055658627087198514), 7: ('Search sec: 10.36 \\n Target sec: 27.108666666666668', 0.17227722772277226), 8: ('Search sec: 11.84 \\n Target sec: 27.108666666666668', 0.11171171171171171), 9: ('Search sec: 13.32 \\n Target sec: 27.108666666666668', 0.07452339688041594), 10: ('Search sec: 14.8 \\n Target sec: 27.108666666666668', 0.12027491408934708), 11: ('Search sec: 16.28 \\n Target sec: 27.108666666666668', 0.08602150537634409), 12: ('Search sec: 17.759999999999998 \\n Target sec: 27.108666666666668', 0.09357798165137615), 13: ('Search sec: 19.24 \\n Target sec: 27.108666666666668', 0.02768729641693811), 14: ('Search sec: 20.72 \\n Target sec: 27.108666666666668', 0.2845691382765531), 15: ('Search sec: 22.2 \\n Target sec: 27.108666666666668', 0.041811846689895474), 16: ('Search sec: 23.68 \\n Target sec: 27.108666666666668', 0.08347245409015025), 17: ('Search sec: 25.16 \\n Target sec: 27.108666666666668', 0.2014388489208633), 18: ('Search sec: 26.64 \\n Target sec: 27.108666666666668', 0.085667215815486), 19: ('Search sec: 28.12 \\n Target sec: 27.108666666666668', 0.08703374777975133), 20: ('Search sec: 29.6 \\n Target sec: 27.108666666666668', 0.13556338028169015), 21: ('Search sec: 31.08 \\n Target sec: 27.108666666666668', 0.19813084112149532), 22: ('Search sec: 32.56 \\n Target sec: 27.108666666666668', 0.016863406408094434), 23: ('Search sec: 34.04 \\n Target sec: 27.108666666666668', 0.07441016333938294), 24: ('Search sec: 35.519999999999996 \\n Target sec: 27.108666666666668', 0.10526315789473684), 25: ('Search sec: 37.0 \\n Target sec: 27.108666666666668', 0.13793103448275862), 26: ('Search sec: 38.48 \\n Target sec: 27.108666666666668', 0.07094594594594594), 27: ('Search sec: 39.96 \\n Target sec: 27.108666666666668', 0.2150101419878296), 28: ('Search sec: 41.44 \\n Target sec: 27.108666666666668', 0.09709962168978563), 29: ('Search sec: 42.92 \\n Target sec: 27.108666666666668', 0.10207939508506617), 30: ('Search sec: 44.4 \\n Target sec: 27.108666666666668', 0.04150943396226415), 31: ('Search sec: 45.88 \\n Target sec: 27.108666666666668', 0.029921259842519685), 32: ('Search sec: 47.36 \\n Target sec: 27.108666666666668', 0.11861313868613138), 33: ('Search sec: 48.839999999999996 \\n Target sec: 27.108666666666668', 0.1227106227106227), 34: ('Search sec: 50.32 \\n Target sec: 27.108666666666668', 0.10649819494584838), 35: ('Search sec: 51.8 \\n Target sec: 27.108666666666668', 0.05719237435008666)}\n"
     ]
    }
   ],
   "source": [
    "m = {}\n",
    "for j,s in enumerate(fingerprints2[:-1]):\n",
    "  for i,f in enumerate(fingerprints[:-1]):\n",
    "    if j in m and m[j][1] < jaccard_similarity(f,s):\n",
    "      m[j] = (f'Search sec: {j*1.48 if j*1.48 < 60 else j*1.48/60} \\n Target sec: {i*1.48 if i*1.48 < 60 else i*1.48/60}',jaccard_similarity(f,s))\n",
    "    else:\n",
    "      m[j] = (f'Search sec: {j*1.48 if j*1.48 < 60 else j*1.48/60} \\n Target sec: {i*1.48 if i*1.48 < 60 else i*1.48/60}',jaccard_similarity(f,s))\n",
    "print(m)"
   ]
  },
  {
   "cell_type": "code",
   "execution_count": null,
   "metadata": {},
   "outputs": [
    {
     "ename": "TypeError",
     "evalue": "unsupported operand type(s) for +: 'int' and 'list'",
     "output_type": "error",
     "traceback": [
      "\u001b[1;31m---------------------------------------------------------------------------\u001b[0m",
      "\u001b[1;31mTypeError\u001b[0m                                 Traceback (most recent call last)",
      "Cell \u001b[1;32mIn[34], line 15\u001b[0m\n\u001b[0;32m     13\u001b[0m \u001b[38;5;28;01mfor\u001b[39;00m i \u001b[38;5;129;01min\u001b[39;00m q:\n\u001b[0;32m     14\u001b[0m   m_q\u001b[38;5;241m.\u001b[39mupdate(\u001b[38;5;28mstr\u001b[39m(i)\u001b[38;5;241m.\u001b[39mencode(\u001b[38;5;124m'\u001b[39m\u001b[38;5;124mutf-8\u001b[39m\u001b[38;5;124m'\u001b[39m))\n\u001b[1;32m---> 15\u001b[0m \u001b[43mjaccard_index\u001b[49m\u001b[43m(\u001b[49m\u001b[43mmin_hash_p\u001b[49m\u001b[43m,\u001b[49m\u001b[43m \u001b[49m\u001b[43mmin_hash_q\u001b[49m\u001b[43m)\u001b[49m\n\u001b[0;32m     16\u001b[0m \u001b[38;5;28mprint\u001b[39m(m_p\u001b[38;5;241m.\u001b[39mjaccard(m_q))\n\u001b[0;32m     20\u001b[0m bands_p \u001b[38;5;241m=\u001b[39m split_signature(min_hash_p, \u001b[38;5;241m25\u001b[39m)\n",
      "Cell \u001b[1;32mIn[29], line 2\u001b[0m, in \u001b[0;36mjaccard_index\u001b[1;34m(p, q)\u001b[0m\n\u001b[0;32m      1\u001b[0m \u001b[38;5;28;01mdef\u001b[39;00m \u001b[38;5;21mjaccard_index\u001b[39m(p, q):\n\u001b[1;32m----> 2\u001b[0m   intersect \u001b[38;5;241m=\u001b[39m \u001b[38;5;28;43msum\u001b[39;49m\u001b[43m(\u001b[49m\u001b[43mx\u001b[49m\u001b[43m \u001b[49m\u001b[38;5;129;43;01mand\u001b[39;49;00m\u001b[43m \u001b[49m\u001b[43my\u001b[49m\u001b[43m \u001b[49m\u001b[38;5;28;43;01mfor\u001b[39;49;00m\u001b[43m \u001b[49m\u001b[43mx\u001b[49m\u001b[43m,\u001b[49m\u001b[43m \u001b[49m\u001b[43my\u001b[49m\u001b[43m \u001b[49m\u001b[38;5;129;43;01min\u001b[39;49;00m\u001b[43m \u001b[49m\u001b[38;5;28;43mzip\u001b[39;49m\u001b[43m(\u001b[49m\u001b[43mp\u001b[49m\u001b[43m,\u001b[49m\u001b[43m \u001b[49m\u001b[43mq\u001b[49m\u001b[43m)\u001b[49m\u001b[43m)\u001b[49m\n\u001b[0;32m      3\u001b[0m   union \u001b[38;5;241m=\u001b[39m \u001b[38;5;28msum\u001b[39m(x \u001b[38;5;129;01mor\u001b[39;00m y \u001b[38;5;28;01mfor\u001b[39;00m x, y \u001b[38;5;129;01min\u001b[39;00m \u001b[38;5;28mzip\u001b[39m(p, q))\n\u001b[0;32m      4\u001b[0m   \u001b[38;5;28;01mif\u001b[39;00m union \u001b[38;5;241m==\u001b[39m \u001b[38;5;241m0\u001b[39m:\n",
      "\u001b[1;31mTypeError\u001b[0m: unsupported operand type(s) for +: 'int' and 'list'"
     ]
    }
   ],
   "source": [
    "\n",
    "p = [[1,0,1,0,0,0,1,0,0,0,0,0],[1,0,1,0,1,0,1,0,0,0,1,1],[1,0,1,0,0,0,1,0,0,0,0,1]]\n",
    "q = [[1,0,1,0,0,0,1,0,0,0,0,0],[1,0,1,1,1,0,0,0,0,0,1,1],[1,0,0,0,0,0,0,1,1,0,0,1]]\n",
    "\n",
    "min_hash_p = minHASH(p, 100)\n",
    "min_hash_q = minHASH(q, 100)\n",
    "\n",
    "m_p = MinHash(num_perm=100)\n",
    "m_q = MinHash(num_perm=100)\n",
    "\n",
    "for i in p:\n",
    "  m_p.update(str(i).encode('utf-8'))\n",
    "\n",
    "for i in q:\n",
    "  m_q.update(str(i).encode('utf-8'))\n",
    "jaccard_index(min_hash_p, min_hash_q)\n",
    "print(m_p.jaccard(m_q))\n",
    "  \n",
    "\n",
    "\n",
    "bands_p = split_signature(min_hash_p, 25)\n",
    "bands_q = split_signature(min_hash_q, 25)"
   ]
  },
  {
   "cell_type": "code",
   "execution_count": null,
   "metadata": {},
   "outputs": [
    {
     "data": {
      "text/plain": [
       "12"
      ]
     },
     "execution_count": 401,
     "metadata": {},
     "output_type": "execute_result"
    }
   ],
   "source": [
    "np.nonzero(np.random.permutation(fingerprints[0]))[0][0]"
   ]
  },
  {
   "cell_type": "code",
   "execution_count": null,
   "metadata": {},
   "outputs": [
    {
     "ename": "NameError",
     "evalue": "name 'MinHash' is not defined",
     "output_type": "error",
     "traceback": [
      "\u001b[1;31m---------------------------------------------------------------------------\u001b[0m",
      "\u001b[1;31mNameError\u001b[0m                                 Traceback (most recent call last)",
      "Cell \u001b[1;32mIn[2], line 1\u001b[0m\n\u001b[1;32m----> 1\u001b[0m mh_a \u001b[38;5;241m=\u001b[39m \u001b[43mMinHash\u001b[49m(num_perm\u001b[38;5;241m=\u001b[39m\u001b[38;5;241m100\u001b[39m)\n\u001b[0;32m      2\u001b[0m mh_b \u001b[38;5;241m=\u001b[39m MinHash(num_perm\u001b[38;5;241m=\u001b[39m\u001b[38;5;241m100\u001b[39m)\n\u001b[0;32m      5\u001b[0m jaccard_index(p, q)\n",
      "\u001b[1;31mNameError\u001b[0m: name 'MinHash' is not defined"
     ]
    }
   ],
   "source": [
    "mh_a = MinHash(num_perm=100)\n",
    "mh_b = MinHash(num_perm=100)\n",
    "\n",
    "    \n",
    "jaccard_index(p, q)\n",
    "jaccard_index(minHASH(p, 400), minHASH(q, 400))\n",
    "\n",
    "for i in fingerprints[0]:\n",
    "  mh_a.update(i)\n",
    "\n",
    "for i in fingerprints[1000]:\n",
    "  mh_b.update(i)\n",
    "  \n",
    "sum(mh_a.digest()), sum(mh_b.digest()),fingerprints[0].sum(), fingerprints[1000].sum()"
   ]
  },
  {
   "cell_type": "code",
   "execution_count": null,
   "metadata": {},
   "outputs": [],
   "source": [
    "lsh = MinHashLSHForest(num_perm=100)\n",
    "minhashes = {}\n",
    "for c,f in enumerate(fingerprints):\n",
    "  m = MinHash(num_perm=100)\n",
    "  zero = np.where(f == 0)[0]\n",
    "  one = np.where(f == 1)[0]\n",
    "  for i in zero:\n",
    "    m.update(str(i).encode('utf-8'))\n",
    "  for i in one:\n",
    "    m.update(str(i).encode('utf-8'))\n",
    "  lsh.add(c, m)\n",
    "  minhashes[c] = m\n",
    "lsh.index()"
   ]
  },
  {
   "cell_type": "code",
   "execution_count": null,
   "metadata": {},
   "outputs": [],
   "source": [
    "fingerprints2 = []\n",
    "for i in range(0,specc.shape[2],128):\n",
    "  fingerprints2.append(getTopWavelet(specc[0,:,i:i+128]).flatten())\n",
    "minhashes2 = {}\n",
    "for c,f in enumerate(fingerprints2):\n",
    "  m = MinHash(num_perm=100)\n",
    "  zero = np.where(f == 0)[0]\n",
    "  one = np.where(f == 1)[0]\n",
    "  for i in zero:\n",
    "    m.update(str(i).encode('utf-8'))\n",
    "  for i in one:\n",
    "    m.update(str(i).encode('utf-8'))\n",
    "  # lsh.insert(c, m)\n",
    "  minhashes2[c] = m\n",
    "\n"
   ]
  },
  {
   "cell_type": "code",
   "execution_count": null,
   "metadata": {},
   "outputs": [
    {
     "name": "stdout",
     "output_type": "stream",
     "text": [
      "[0, 1, 2, 3, 4, 5, 6, 7, 8, 9]\n"
     ]
    }
   ],
   "source": [
    "result = lsh.query(minhashes2[0],10)\n",
    "print(result)"
   ]
  },
  {
   "cell_type": "code",
   "execution_count": null,
   "metadata": {},
   "outputs": [
    {
     "name": "stdout",
     "output_type": "stream",
     "text": [
      "0 [0, 1, 2]\n",
      "1 [0, 1, 2]\n",
      "2 [0, 1, 2]\n",
      "3 [0, 1, 2]\n",
      "4 [0, 1, 2]\n",
      "5 [0, 1, 2]\n",
      "6 [0, 1, 2]\n",
      "7 [0, 1, 2]\n",
      "8 [0, 1, 2]\n",
      "9 [0, 1, 2]\n",
      "10 [0, 1, 2]\n",
      "11 [0, 1, 2]\n",
      "12 [0, 1, 2]\n",
      "13 [0, 1, 2]\n",
      "14 [0, 1, 2]\n",
      "15 [0, 1, 2]\n",
      "16 [0, 1, 2]\n",
      "17 [0, 1, 2]\n",
      "18 [0, 1, 2]\n",
      "19 [0, 1, 2]\n",
      "20 [0, 1, 2]\n",
      "21 [0, 1, 2]\n",
      "22 [0, 1, 2]\n",
      "23 [0, 1, 2]\n",
      "24 [0, 1, 2]\n",
      "25 [0, 1, 2]\n",
      "26 [0, 1, 2]\n",
      "27 [0, 1, 2]\n",
      "28 [0, 1, 2]\n",
      "29 [0, 1, 2]\n",
      "30 [0, 1, 2]\n",
      "31 [0, 1, 2]\n",
      "32 [0, 1, 2]\n",
      "33 [0, 1, 2]\n",
      "34 [0, 1, 2]\n",
      "35 [0, 1, 2]\n",
      "36 [0, 1, 2]\n",
      "37 [0, 1, 2]\n",
      "38 [0, 1, 2]\n",
      "39 [0, 1, 2]\n",
      "40 [0, 1, 2]\n",
      "41 [0, 1, 2]\n",
      "42 [0, 1, 2]\n",
      "43 [0, 1, 2]\n",
      "44 [0, 1, 2]\n",
      "45 [0, 1, 2]\n",
      "46 [0, 1, 2]\n",
      "47 [0, 1, 2]\n",
      "48 [0, 1, 1100]\n"
     ]
    }
   ],
   "source": [
    "count = 0\n",
    "for key, value in minhashes2.items():\n",
    "  query = lsh.query(value,3)\n",
    "  if len(query) > 0 :\n",
    "    print(key,query)\n",
    "    "
   ]
  },
  {
   "cell_type": "code",
   "execution_count": null,
   "metadata": {},
   "outputs": [],
   "source": [
    "for k,m in minhashes2.items():\n",
    "  for k2,n in minhashes.items():\n",
    "    if m.jaccard(n) > 0.53 and m.jaccard(n) < 0.83:\n",
    "      print(k,k2,m.jaccard(n))"
   ]
  },
  {
   "cell_type": "code",
   "execution_count": null,
   "metadata": {},
   "outputs": [
    {
     "data": {
      "text/plain": [
       "(1, 32, 140901)"
      ]
     },
     "execution_count": 29,
     "metadata": {},
     "output_type": "execute_result"
    }
   ],
   "source": [
    "specc1.shape"
   ]
  },
  {
   "cell_type": "code",
   "execution_count": null,
   "metadata": {},
   "outputs": [
    {
     "ename": "AttributeError",
     "evalue": "'numpy.ndarray' object has no attribute 'unfold'",
     "output_type": "error",
     "traceback": [
      "\u001b[1;31m---------------------------------------------------------------------------\u001b[0m",
      "\u001b[1;31mAttributeError\u001b[0m                            Traceback (most recent call last)",
      "Cell \u001b[1;32mIn[30], line 1\u001b[0m\n\u001b[1;32m----> 1\u001b[0m fin \u001b[38;5;241m=\u001b[39m \u001b[43mspecc\u001b[49m\u001b[38;5;241;43m.\u001b[39;49m\u001b[43munfold\u001b[49m(\u001b[38;5;241m0\u001b[39m,\u001b[38;5;241m128\u001b[39m,\u001b[38;5;241m64\u001b[39m)\n",
      "\u001b[1;31mAttributeError\u001b[0m: 'numpy.ndarray' object has no attribute 'unfold'"
     ]
    }
   ],
   "source": [
    "fin = specc.unfold(0,128,64)"
   ]
  },
  {
   "cell_type": "code",
   "execution_count": null,
   "metadata": {},
   "outputs": [
    {
     "data": {
      "text/plain": [
       "torch.Size([10, 10157, 128])"
      ]
     },
     "execution_count": 44,
     "metadata": {},
     "output_type": "execute_result"
    }
   ],
   "source": [
    "fin.shape"
   ]
  },
  {
   "cell_type": "code",
   "execution_count": null,
   "metadata": {},
   "outputs": [],
   "source": [
    "full = fingerprint(audio,\"full\")\n",
    "slice = fingerprint(audio_slice,\"slice\")"
   ]
  },
  {
   "cell_type": "code",
   "execution_count": null,
   "metadata": {},
   "outputs": [],
   "source": [
    "keys = lsh.hashtables"
   ]
  },
  {
   "cell_type": "code",
   "execution_count": null,
   "metadata": {},
   "outputs": [],
   "source": [
    "slice_peaks = get_peaks(audio_slice)\n",
    "audio_peaks = get_peaks(audio)"
   ]
  },
  {
   "cell_type": "code",
   "execution_count": null,
   "metadata": {},
   "outputs": [
    {
     "data": {
      "text/plain": [
       "torch.Size([513, 2540])"
      ]
     },
     "execution_count": 17,
     "metadata": {},
     "output_type": "execute_result"
    }
   ],
   "source": [
    "slice_peaks.shape"
   ]
  },
  {
   "cell_type": "code",
   "execution_count": null,
   "metadata": {},
   "outputs": [],
   "source": [
    "\n",
    "def get_minhashes(peaks,sr=1024,hop=256):\n",
    "  step = sr//hop\n",
    "  non_zero_secs = []\n",
    "  for a in range(0,peaks.shape[1],step):\n",
    "    non_zero_secs.append(peaks[:,a:a+step].nonzero())\n",
    "  minhashes = []\n",
    "  for sec,fq_time in enumerate(non_zero_secs):\n",
    "    m = MinHash(num_perm=64)\n",
    "    for pq in fq_time:\n",
    "      m.update(str(pq).encode('utf-8'))\n",
    "    minhashes.append(m)\n",
    "    m.clear()\n",
    "  return minhashes\n",
    "\n"
   ]
  },
  {
   "cell_type": "code",
   "execution_count": null,
   "metadata": {},
   "outputs": [],
   "source": [
    "lsh = MinHashLSH(threshold=0.5, num_perm=64)\n",
    "full_M = get_minhashes(audio_peaks)\n",
    "for sec,m in enumerate(full_M):\n",
    "  if m.count()>0:\n",
    "    lsh.insert(f\"full_{sec}\", m)"
   ]
  },
  {
   "cell_type": "code",
   "execution_count": null,
   "metadata": {},
   "outputs": [
    {
     "name": "stdout",
     "output_type": "stream",
     "text": [
      "Approximate neighbours with Jaccard similarity > 0.5 ['m2', 'm3']\n"
     ]
    }
   ],
   "source": [
    "\n",
    "\n",
    "\n",
    "set1 = set(['minhash', 'is', 'a', 'probabilistic', 'data', 'structure', 'for',\n",
    "            'estimating', 'the', 'similarity', 'between', 'datasets'])\n",
    "set2 = set(['minhash', 'is', 'a', 'probability', 'data', 'structure', 'for',\n",
    "            'estimating', 'the', 'similarity', 'between', 'documents'])\n",
    "set3 = set(['minhash', 'is', 'probability', 'data', 'structure', 'for',\n",
    "            'estimating', 'the', 'similarity', 'between', 'documents'])\n",
    "\n",
    "target = MinHash(num_perm=128)\n",
    "lsh = MinHashLSH(threshold=0.5, num_perm=128)\n",
    "for d in set1:\n",
    "    target.update(d.encode('utf8'))\n",
    "m = MinHash(num_perm=128)\n",
    "for d in set2:\n",
    "    m.update(d.encode('utf8'))\n",
    "lsh.insert(\"m2\", m)\n",
    "m.clear()\n",
    "for d in set3:\n",
    "    m.update(d.encode('utf8'))\n",
    "lsh.insert(\"m3\", m)\n",
    "result = lsh.query(target)\n",
    "print(\"Approximate neighbours with Jaccard similarity > 0.5\", result)"
   ]
  },
  {
   "cell_type": "code",
   "execution_count": null,
   "metadata": {},
   "outputs": [
    {
     "data": {
      "text/plain": [
       "dict_keys([b'\\x00\\x00\\x00\\x00\\xb7^\\x1a\\x99\\x00\\x00\\x00\\x00L>\\xbf_\\x00\\x00\\x00\\x00i\\x82\\x08\\xce\\x00\\x00\\x00\\x00\\xe4S^\\x85\\x00\\x00\\x00\\x00`\\xba$\\x05', b'\\x00\\x00\\x00\\x00\\'\\xa6\\xbf\\xfb\\x00\\x00\\x00\\x00\\xf7\\x85\\xd8\\xb3\\x00\\x00\\x00\\x00#h\\xfd\\x85\\x00\\x00\\x00\\x00\\xf2\\xefc\\x1e\\x00\\x00\\x00\\x00\\x80\"U~', b'\\x00\\x00\\x00\\x00\\xfe\\xec\\xdc\\xe1\\x00\\x00\\x00\\x00o\\x8c\\xb6@\\x00\\x00\\x00\\x00L\\x90\\xa5\\xe4\\x00\\x00\\x00\\x00\\xcf\\x07\\xec\\xb8\\x00\\x00\\x00\\x00\\x0f\\x80u=', b'\\x00\\x00\\x00\\x00%\\x05&\\xeb\\x00\\x00\\x00\\x00\\xe6\\x86u5\\x00\\x00\\x00\\x00\\x9f0\\xbd\\xfb\\x00\\x00\\x00\\x00\\xc7&\\xc3\\xbc\\x00\\x00\\x00\\x00\\xc3\\x1bWE', b'\\x00\\x00\\x00\\x00\\x94\\x18\\xc5\\xc2\\x00\\x00\\x00\\x00\\x8f\\x17a\\xcb\\x00\\x00\\x00\\x00\\xa3\\x92\\xbf\\t\\x00\\x00\\x00\\x00\\xfb\\xd5\\x7f\\xf4\\x00\\x00\\x00\\x00\\xb2`\\xcfK', b'\\x00\\x00\\x00\\x00q\\xfdb)\\x00\\x00\\x00\\x00\\x8f\\x00\\x17\\x99\\x00\\x00\\x00\\x00P\\xaf1j\\x00\\x00\\x00\\x00\\xdd\\x06;@\\x00\\x00\\x00\\x00\\xbd\\xfd\\x98\\xa4', b'\\x00\\x00\\x00\\x00\\xea\\xf2\\xb2f\\x00\\x00\\x00\\x00\\xf7\\x9c\\xe3y\\x00\\x00\\x00\\x00#\\xfe\\xf8f\\x00\\x00\\x00\\x00\\x08\\x16\\x82g\\x00\\x00\\x00\\x00v \\xbb\\xda', b'\\x00\\x00\\x00\\x00\\n\\xfe\\xe6p\\x00\\x00\\x00\\x00Tz\\xads\\x00\\x00\\x00\\x00$p\\xf8\\x04\\x00\\x00\\x00\\x00\\xf8vun\\x00\\x00\\x00\\x00\\x9f\\x8b`\\xe4', b'\\x00\\x00\\x00\\x00\\xe7^_\\x1c\\x00\\x00\\x00\\x00J\\xa1i\\x1f\\x00\\x00\\x00\\x00N\\xab\\xeaa\\x00\\x00\\x00\\x00\\xd8\\xeb\\x7f\\xdf\\x00\\x00\\x00\\x00p\\xe9\\x97s', b'\\x00\\x00\\x00\\x00\\xed{\\xa15\\x00\\x00\\x00\\x00R\\x08\\x90\\x13\\x00\\x00\\x00\\x00\\xe7Y\\xc5\\x14\\x00\\x00\\x00\\x00\\xc0\\xe9!\\xf0\\x00\\x00\\x00\\x00\\xc2sl\\x81', b'\\x00\\x00\\x00\\x00Yw\\x8e\\xf6\\x00\\x00\\x00\\x00\\x18\\r%6\\x00\\x00\\x00\\x00P\\xd1\\xd4\\x95\\x00\\x00\\x00\\x00_\\xb5.\\xc5\\x00\\x00\\x00\\x00l\\x86\\xd2Q', b'\\x00\\x00\\x00\\x00\\xdce\\xbf\\xd5\\x00\\x00\\x00\\x00\\x97a`\\xc2\\x00\\x00\\x00\\x00oq\\x8b\\x88\\x00\\x00\\x00\\x00wls\\xb1\\x00\\x00\\x00\\x00\\xd4\\xd1x\\xb1', b'\\x00\\x00\\x00\\x00\\xe0Ft\\xd7\\x00\\x00\\x00\\x00W \\x06A\\x00\\x00\\x00\\x00\\x18\\xd8\\x8fH\\x00\\x00\\x00\\x00\\xb0\\x01\\x81\\xad\\x00\\x00\\x00\\x00w>\\xfa2', b'\\x00\\x00\\x00\\x00\\x97XS\\xef\\x00\\x00\\x00\\x00\\xf2\\xa1*\\xb4\\x00\\x00\\x00\\x00W\\x1a\\xb3\\xf2\\x00\\x00\\x00\\x00>\\xfa\\xa0\\x18\\x00\\x00\\x00\\x00:\\xe5,t', b'\\x00\\x00\\x00\\x00\\xfa \\x89\\xe9\\x00\\x00\\x00\\x00?dw\\xb7\\x00\\x00\\x00\\x00\\x86\\xe8t\\x0c\\x00\\x00\\x00\\x00\\x9d\\x8bGf\\x00\\x00\\x00\\x00T\\xb6\\xfa\\x16', b'\\x00\\x00\\x00\\x00qo\\xb4p\\x00\\x00\\x00\\x00\\xce\\x0cFx\\x00\\x00\\x00\\x00c3:\\x80\\x00\\x00\\x00\\x00%\\x81)q\\x00\\x00\\x00\\x00`\\xca\\xe1\\xe3', b'\\x00\\x00\\x00\\x00\\x14\\x17\\x87\\xdf\\x00\\x00\\x00\\x00sh`\\xc0\\x00\\x00\\x00\\x00_\\xba\\xaa\"\\x00\\x00\\x00\\x00\\x03\\xbd\\x1e\\xb5\\x00\\x00\\x00\\x00&)\\xc3\\xc1', b'\\x00\\x00\\x00\\x00\\xf6\\xdf\\xc3\\xef\\x00\\x00\\x00\\x00=\\x80&\\xb8\\x00\\x00\\x00\\x00Y\\xfa\\x0f\\xba\\x00\\x00\\x00\\x00\\x1bA\\xc1\\xc1\\x00\\x00\\x00\\x00\\x15e\\xc4\\xc5', b'\\x00\\x00\\x00\\x00\\xc4\\xe0\\x87\\x88\\x00\\x00\\x00\\x00c\\x1fX\\xeb\\x00\\x00\\x00\\x00\\x8aI\\x15\\xc0\\x00\\x00\\x00\\x00\\x00`C&\\x00\\x00\\x00\\x00c8\\xaa\\xc9', b'\\x00\\x00\\x00\\x00u\\x8a\\x1c\\xce\\x00\\x00\\x00\\x006\\x9b\\x9aJ\\x00\\x00\\x00\\x00\\xc7(<\\xe3\\x00\\x00\\x00\\x00W\\xb4\\xf4\\xfe\\x00\\x00\\x00\\x00O\\xe6&\\xd7', b'\\x00\\x00\\x00\\x00 \\xf1\\x95\\xf9\\x00\\x00\\x00\\x00\\xf1\\x95!\\xaf\\x00\\x00\\x00\\x00{7\\xad\\xd3\\x00\\x00\\x00\\x00g\\x0eH\\xca\\x00\\x00\\x00\\x00\\x7feB\\xcf', b'\\x00\\x00\\x00\\x00\\xd2>\\xab\\xae\\x00\\x00\\x00\\x00\"3\\xf2\\xd5\\x00\\x00\\x00\\x00\\xc8,\\x9a\\x8a\\x00\\x00\\x00\\x00\\x10\\xad\\xcc@\\x00\\x00\\x00\\x00\\x08=5\\xe4', b'\\x00\\x00\\x00\\x00u\\x12v\\x9a\\x00\\x00\\x00\\x00\\x99\\xe5\\xdd^\\x00\\x00\\x00\\x00*E\\x16\\x02\\x00\\x00\\x00\\x00\\x12\\xc9\\xc4\\xe2\\x00\\x00\\x00\\x00\\x04\\xbf\\xb5\\xb1', b'\\x00\\x00\\x00\\x00\\xb3\\xfd\\xbaB\\x00\\x00\\x00\\x00J\\x97\\xb3\\x90\\x00\\x00\\x00\\x00\\\\\\x00d\\x9b\\x00\\x00\\x00\\x00a\\xbc\\xc1Q\\x00\\x00\\x00\\x00.\\x00*\\xbd', b'\\x00\\x00\\x00\\x00\\xf8\\x88j;\\x00\\x00\\x00\\x00sZw\\x90\\x00\\x00\\x00\\x00\\xd3\\xca@\\t\\x00\\x00\\x00\\x00+bfG\\x00\\x00\\x00\\x00\\x89\\xf0C\\xb5', b'\\x00\\x00\\x00\\x00{(\\xc3\\xd9\\x00\\x00\\x00\\x00\\xab\\xa6v\\xbe\\x00\\x00\\x00\\x005\\x9e\\xee\\xee\\x00\\x00\\x00\\x00\\xa6u\\xc8]\\x00\\x00\\x00\\x00\\x83\\xf1\\x86\\x13', b'\\x00\\x00\\x00\\x00-\\xe5^\\xdf\\x00\\x00\\x00\\x00\\x01\\x89)@\\x00\\x00\\x00\\x00?\\xed\\xa7/\\x00\\x00\\x00\\x00J\\xbd\\x9a]\\x00\\x00\\x00\\x00\\x98\\xab\\x1c\\x8f', b'\\x00\\x00\\x00\\x00`\\xd5sR\\x00\\x00\\x00\\x00r\\xdc\\x07\\x02\\x00\\x00\\x00\\x00j*\\xbc.\\x00\\x00\\x00\\x00\\xf7\\x1c \\xad\\x00\\x00\\x00\\x00\\xa91\\x98\\xf7', b\"\\x00\\x00\\x00\\x00C\\xce\\xc9\\xf3\\x00\\x00\\x00\\x00\\x15U;\\xb8\\x00\\x00\\x00\\x00\\xd4\\x94\\x8c\\xa6\\x00\\x00\\x00\\x00~RBp\\x00\\x00\\x00\\x00Uw\\xa9'\", b'\\x00\\x00\\x00\\x00\\xc1\\xfd\\xa7\\xf9\\x00\\x00\\x00\\x00\\x10\\xe5\\x18\\xb1\\x00\\x00\\x00\\x00 \\xc9\\x98M\\x00\\x00\\x00\\x007FJ\\xd0\\x00\\x00\\x00\\x009%\\xd1\\xd0', b'\\x00\\x00\\x00\\x00\\'j\\xc28\\x00\\x00\\x00\\x00\\x06qK\\x93\\x00\\x00\\x00\\x00\\xd9\\xe0\"\\t\\x00\\x00\\x00\\x00$\\xa9\\xf6D\\x00\\x00\\x00\\x00\\x19p7\\xaf', b'\\x00\\x00\\x00\\x00\\xdf)9n\\x00\\x00\\x00\\x00\\xd5\\xa17\\xf8\\x00\\x00\\x00\\x00\\x84G\"\\x0e\\x00\\x00\\x00\\x00\\x80\\xab\\x99\\x16\\x00\\x00\\x00\\x00\\xac\\xb4\\xcb\\xb7', b'\\x00\\x00\\x00\\x00Fe\\x16;\\x00\\x00\\x00\\x00<0!\\x8f\\x00\\x00\\x00\\x00e\\xaf\\xd1\\x06\\x00\\x00\\x00\\x00\\x0f\\x83.D\\x00\\x00\\x00\\x00\\xa8\\x14}\\xb5', b\"\\x00\\x00\\x00\\x00\\x892\\x88\\xd6\\x00\\x00\\x00\\x00'\\xd3HC\\x00\\x00\\x00\\x00*2\\x06}\\x00\\x00\\x00\\x00\\xe8e\\xb8\\x08\\x00\\x00\\x00\\x00(nO\\xde\", b'\\x00\\x00\\x00\\x00\\xca\\xfc\\xdb$\\x00\\x00\\x00\\x00\\x0c`\\xc3\\x1c\\x00\\x00\\x00\\x00\\x9c\\xd7\\x87\\xc3\\x00\\x00\\x00\\x00,\\x15$\\x8d\\x00\\x00\\x00\\x00\\x00\\x96\\x88\\xc9', b'\\x00\\x00\\x00\\x00\\xde\\x17\\xd0\\xb2\\x00\\x00\\x00\\x007\\xa0\\xf8V\\x00\\x00\\x00\\x00\\x1c\\xd2\"\\xb4\\x00\\x00\\x00\\x00\\xe1\\xadv\\xf3\\x00\\x00\\x00\\x00\\xb4S\\x9e\\xc4', b'\\x00\\x00\\x00\\x00\\xa5\\x90i\\xf4\\x00\\x00\\x00\\x00J\\x01\\xb7\\xb0\\x00\\x00\\x00\\x00}\\xf8\\xbc\\xd9\\x00\\x00\\x00\\x00K\\xca\\x80\\xc8\\x00\\x00\\x00\\x00\\xb8]H\\xd0', b'\\x00\\x00\\x00\\x00\\x96-\\x83#\\x00\\x00\\x00\\x00\\xe6\\x93#\\x1c\\x00\\x00\\x00\\x00\\xc2\\xf4m\\x94\\x00\\x00\\x00\\x00\\x93K\\x167\\x00\\x00\\x00\\x00y*%\\x1d', b'\\x00\\x00\\x00\\x00\\x87\\x8d\\xce\\xb7\\x00\\x00\\x00\\x00\\x8c\\xedEO\\x00\\x00\\x00\\x00C\\xf6\\x01f\\x00\\x00\\x00\\x00\\x186\\xc9G\\x00\\x00\\x00\\x00|O\\xb7u', b'\\x00\\x00\\x00\\x00\\xd9\\xdbO\\x07\\x00\\x00\\x00\\x00i\\xd0u,\\x00\\x00\\x00\\x00\\x7fG\\x85e\\x00\\x00\\x00\\x00<\\xf9\\xa8(\\x00\\x00\\x00\\x00\\xbb%\\xb1\\x0b', b'\\x00\\x00\\x00\\x00\\x7fJ-\\xea\\x00\\x00\\x00\\x00\\x08\\xfb\\xa5\\xbc\\x00\\x00\\x00\\x00`\\xf3_\\n\\x00\\x00\\x00\\x00\\xf2\\xcd_g\\x00\\x00\\x00\\x00CQX\\x16', b'\\x00\\x00\\x00\\x00\\xea\\x99\\xd0u\\x00\\x00\\x00\\x00+8\\x84v\\x00\\x00\\x00\\x00V\\x93\\x97\\xb2\\x00\\x00\\x00\\x00-6\\x0f\\xc8\\x00\\x00\\x00\\x00:\\xe2\\x93\\x8f', b'\\x00\\x00\\x00\\x00\\xdb\\xec\\x16\\xc8\\x00\\x00\\x00\\x00\\x06\\xcbQG\\x00\\x00\\x00\\x00\\xfb\\x15\\xf8.\\x00\\x00\\x00\\x00H\\xbe\\xf2\\xaa\\x00\\x00\\x00\\x00\\x95>\\xb2-', b'\\x00\\x00\\x00\\x00\\x16\\x97\\xf8\\x81\\x00\\x00\\x00\\x00p9Tj\\x00\\x00\\x00\\x00L\\xea~M\\x00\\x00\\x00\\x00}\\xe6\\xfa\\xd3\\x00\\x00\\x00\\x00r\\x9d.\\x9a', b'\\x00\\x00\\x00\\x00\\xed\\xd7\\x1d\\x1d\\x00\\x00\\x00\\x00V\\xff\\n \\x00\\x00\\x00\\x00w\\xf3`\\xe4\\x00\\x00\\x00\\x000\\xac\\xd3\\xe1\\x00\\x00\\x00\\x00\\xa5\\xc6`m', b'\\x00\\x00\\x00\\x00\\x86S\\x15\\x18\\x00\\x00\\x00\\x00d)\\x0e\"\\x00\\x00\\x00\\x00\\xd9/\\xfa\\xde\\x00\\x00\\x00\\x00DX#\\xdf\\x00\\x00\\x00\\x001\\xf9\\x04l', b\"\\x00\\x00\\x00\\x00\\x98iUr\\x00\\x00\\x00\\x00v\\x15)\\xf5\\x00\\x00\\x00\\x00\\xba\\x80\\x87\\x12\\x00\\x00\\x00\\x00K\\xa0\\x01\\x14\\x00\\x00\\x00\\x00'\\xa2\\x8d\\xb6\", b'\\x00\\x00\\x00\\x00\\x1b!!\\xae\\x00\\x00\\x00\\x00z\\xb2\\x03\\xd7\\x00\\x00\\x00\\x00x\\x07s<\\x00\\x00\\x00\\x00\\x0bMn\\x9b\\x00\\x00\\x00\\x00l)\\xb2\\x97', b'\\x00\\x00\\x00\\x00\\x95\\xbc\"@\\x00\\x00\\x00\\x00\\rp\\x7f\\x8b\\x00\\x00\\x00\\x00\\xd0l\\x12\\xa2\\x00\\x00\\x00\\x00]\\xe5\\xb1R\\x00\\x00\\x00\\x00\\x16\\xa0\\xd6\\xba', b'\\x00\\x00\\x00\\x00\\xf7\\xda\\x1f\\xd2\\x00\\x00\\x00\\x00&\\x19\\xe4\\xca\\x00\\x00\\x00\\x00\\x96}\\xdbX\\x00\\x00\\x00\\x00\\x91\\x985[\\x00\\x00\\x00\\x00\\x93\\x18\\xd9\\t', b'\\x00\\x00\\x00\\x00\\x8a\\x9b\\xed\\xfc\\x00\\x00\\x00\\x00\\xbc\\xa2\\x8d\\xac\\x00\\x00\\x00\\x00cB\\x80:\\x00\\x00\\x00\\x00\\xf0\\xce\\xd5z\\x00\\x00\\x00\\x00\\x04\\xaf\\x16,', b\"\\x00\\x00\\x00\\x00TFH\\x89\\x00\\x00\\x00\\x00\\x83\\xffxh\\x00\\x00\\x00\\x00z\\xf8r\\x82\\x00\\x00\\x00\\x00\\x01^Y'\\x00\\x00\\x00\\x00:N\\xb6L\", b'\\x00\\x00\\x00\\x00\\xaag\\x19\\x01\\x00\\x00\\x00\\x00\\x83[D+\\x00\\x00\\x00\\x00o*\\\\\\xae\\x00\\x00\\x00\\x00\\xc2\\xb3\\x85\\xd0\\x00\\x00\\x00\\x00\\x84\\xe5\\x14X', b'\\x00\\x00\\x00\\x00g\\xca\\x14\\xde\\x00\\x00\\x00\\x00\\\\F\\x1a>\\x00\\x00\\x00\\x00\\xa4%/\\xe7\\x00\\x00\\x00\\x00\\x02n\\xbc\\xb5\\x00\\x00\\x00\\x00\\x96\\xe9y@', b'\\x00\\x00\\x00\\x00\\xcbY[\\xa6\\x00\\x00\\x00\\x00\\xdf\\\\\\x02\\xdb\\x00\\x00\\x00\\x00\\xe0a\\xee&\\x00\\x00\\x00\\x00\\x8aW\\xef\\x8f\\x00\\x00\\x00\\x00\\x94\\x0c>\\x8a', b'\\x00\\x00\\x00\\x00\\xd3>\\xc3j\\x00\\x00\\x00\\x00F\\xa7&\\xfc\\x00\\x00\\x00\\x00\\xad\\xc6I[\\x00\\x00\\x00\\x00G[\\xf6\\xbf\\x00\\x00\\x00\\x00\\x06\\xecO\\x0b', b'\\x00\\x00\\x00\\x00\\xda\\x12\\x1d\\x91\\x00\\x00\\x00\\x00Z0q\\xe4\\x00\\x00\\x00\\x00\\xa9S\\xb6\\xd9\\x00\\x00\\x00\\x00M\\x85\\xa20\\x00\\x00\\x00\\x00\\xf1\\x1c\\xf6\\xd5', b'\\x00\\x00\\x00\\x00\\xbbs\\xf7]\\x00\\x00\\x00\\x00\\x12`\\xa8\\xfe\\x00\\x00\\x00\\x00&\\xc67\\xc0\\x00\\x00\\x00\\x00\\xc0\\xe6\\xf3\\xba\\x00\\x00\\x00\\x00\\xe4\\xa4\\xd5\\xfd', b'\\x00\\x00\\x00\\x00.\\x98 \\xa1\\x00\\x00\\x00\\x00\\x9e\\x9b\\xa0_\\x00\\x00\\x00\\x00K\\x98=\\xe5\\x00\\x00\\x00\\x00\\x97\\xfa]\\x93\\x00\\x00\\x00\\x0071x\\x08', b'\\x00\\x00\\x00\\x00\\x0b*\\x91\\x03\\x00\\x00\\x00\\x00\\xda\\xe1\\x88.\\x00\\x00\\x00\\x00J\\xf6\\x96\\xad\\x00\\x00\\x00\\x00X\\xc3\\xd5\\xd2\\x00\\x00\\x00\\x00\\t]\\xf8_', b'\\x00\\x00\\x00\\x00J\\xf07:\\x00\\x00\\x00\\x00\\x1fJ\\xdd\\x13\\x00\\x00\\x00\\x007{-\\xfa\\x00\\x00\\x00\\x00\\x0e\\xac\\x02\\x9e\\x00\\x00\\x00\\x00U\\x93H\\xe3', b'\\x00\\x00\\x00\\x00\\x8b-\\x89w\\x00\\x00\\x00\\x00\\x14<[\\xf4\\x00\\x00\\x00\\x00\\x85\\x1d\\x96@\\x00\\x00\\x00\\x00\\x14\\x86\\xf7p\\x00\\x00\\x00\\x00F\\x83Sd', b'\\x00\\x00\\x00\\x00\\x94*\\xdf\\xb0\\x00\\x00\\x00\\x00\\x8ftp\\xd4\\x00\\x00\\x00\\x00VG!\\xf2\\x00\\x00\\x00\\x00\\x86\\xa9@\\xef\\x00\\x00\\x00\\x00\\xd5\\xd0\\xebB', b'\\x00\\x00\\x00\\x00\\x10\\xe5\\\\\\xb1\\x00\\x00\\x00\\x00\\x87\\xf0\\xe6W\\x00\\x00\\x00\\x00\\x95\\xb7c~\\x00\\x00\\x00\\x00\\x82m\\x00\\x9b\\x00\\x00\\x00\\x00\\xdcF\\xf9\\x12', b\"\\x00\\x00\\x00\\x001\\x11\\x87\\xe0\\x00\\x00\\x00\\x00r\\xeb`\\xc0\\x00\\x00\\x00\\x00\\x9d.*'\\x00\\x00\\x00\\x00D9\\x1e\\xb9\\x00\\x00\\x00\\x00l$\\xc3\\xbe\", b'\\x00\\x00\\x00\\x00\\x1a\\x888u\\x00\\x00\\x00\\x00\\x98L\\x04x\\x00\\x00\\x00\\x00\\xcd\\xa3\\xcd\\x86\\x00\\x00\\x00\\x00U\\xda\\x81l\\x00\\x00\\x00\\x00\\xbbDO\\xe0', b'\\x00\\x00\\x00\\x00\\xde\\x81x\\xdf\\x00\\x00\\x00\\x00#\\xa9\\x1c>\\x00\\x00\\x00\\x000?\\xf2\\xad\\x00\\x00\\x00\\x00WZ\\xd6c\\x00\\x00\\x00\\x00\\xa1C\\x07\\x93', b'\\x00\\x00\\x00\\x00\\xe5\\xd9\\x9c@\\x00\\x00\\x00\\x00\\xb3Bv\\x8b\\x00\\x00\\x00\\x00\\xc1pm\\xe8\\x00\\x00\\x00\\x00wL\\xae\\xf6\\x00\\x00\\x00\\x00\\xd6u\\xa2\\x0c', b'\\x00\\x00\\x00\\x00\\xd4M\\xd5\\x96\\x00\\x00\\x00\\x00\\xe0g\\xe1\\xe2\\x00\\x00\\x00\\x003\\x9c\\x99\\x0c\\x00\\x00\\x00\\x00\\x13o\\xf0\\x84\\x00\\x00\\x00\\x00\\x1f\\xdb\\xaa\\x81', b'\\x00\\x00\\x00\\x00\\xfd\\t\\xdcQ\\x00\\x00\\x00\\x00E\\xcc\\xd2\\x85\\x00\\x00\\x00\\x00\\xcb\\xd4\\xf6\\xec\\x00\\x00\\x00\\x00g\\x88\\xa6\\xac\\x00\\x00\\x00\\x00%\\x1b0r', b'\\x00\\x00\\x00\\x00\\xe0\\xfeM\\xe9\\x00\\x00\\x00\\x00\\x1e\\x81\\x95\\xbd\\x00\\x00\\x00\\x00\\x92k\\xf7\\n\\x00\\x00\\x00\\x00\"8\\x1fg\\x00\\x00\\x00\\x00W\\xe4\\xc8\\x1a', b'\\x00\\x00\\x00\\x003i\\x0b\\xb3\\x00\\x00\\x00\\x00\\xcc\\x19Z\\xd7\\x00\\x00\\x00\\x00B\\xc7\\xd2\\xf1\\x00\\x00\\x00\\x00hk\\x08\\xf0\\x00\\x00\\x00\\x00\\t\\xa6eB', b'\\x00\\x00\\x00\\x00l\\x92\\x13\\xf9\\x00\\x00\\x00\\x00\\xbdL.\\xb2\\x00\\x00\\x00\\x00P\\xf9l\\x8a\\x00\\x00\\x00\\x00G\\xfe\\x9b\\x1d\\x00\\x00\\x00\\x00\\x80\\xfa\\x1b}', b'\\x00\\x00\\x00\\x00\\xaf\\x06\\xe3A\\x00\\x00\\x00\\x00i\\xb0\\xd3\\r\\x00\\x00\\x00\\x00\\xb3\\x03\\xb7*\\x00\\x00\\x00\\x00rmH\\xf7\\x00\\x00\\x00\\x00\\xa9yr\\x8d', b'\\x00\\x00\\x00\\x005\\xe7mC\\x00\\x00\\x00\\x00 \\xfe\\x8e\\r\\x00\\x00\\x00\\x00\\xb8^\\x96\\xab\\x00\\x00\\x00\\x00D\\xb4$\\xf4\\x00\\x00\\x00\\x00\\xbb\\xd6e\\x8e', b'\\x00\\x00\\x00\\x00\\x964Z\\xce\\x00\\x00\\x00\\x00B`{E\\x00\\x00\\x00\\x00kf\\xd3b\\x00\\x00\\x00\\x00\\x86\\xf7H\\xfd\\x00\\x00\\x00\\x00\\xc5\\xcc/\\xda', b'\\x00\\x00\\x00\\x00\\xcd\\xe8\\x95\\x82\\x00\\x00\\x00\\x00\\x16x\\x05\\xea\\x00\\x00\\x00\\x00\\x89TP\\r\\x00\\x00\\x00\\x00\\x8f%\\xf8\\xcd\\x00\\x00\\x00\\x00\\x8c\\xf4\\x9c\\x19', b'\\x00\\x00\\x00\\x00/\\r7\\xb3\\x00\\x00\\x00\\x00\\xec\\x8bD\\xd6\\x00\\x00\\x00\\x00=]\\x03\\xf4\\x00\\x00\\x00\\x00\\xc7\\xf0\\xd0\\xef\\x00\\x00\\x00\\x00\\xbfP\\xdfG', b'\\x00\\x00\\x00\\x00\"\\xdeJ\\xff\\x00\\x00\\x00\\x00T\\xfb\\x131\\x00\\x00\\x00\\x00u\\xf7)\\xc8\\x00\\x00\\x00\\x00bO\\xd5!\\x00\\x00\\x00\\x00\\x7fC\\xb4\\x03', b'\\x00\\x00\\x00\\x007\\xfd\\xe0U\\x00\\x00\\x00\\x00q\\x9e\\xd0\\x86\\x00\\x00\\x00\\x00\\xd2\\xf4)\\xea\\x00\\x00\\x00\\x00\"\\xfe\\xfe\\xad\\x00\\x00\\x00\\x00\\x83\\x80\\xdep', b'\\x00\\x00\\x00\\x00\\x11\\xf8\\x1a8\\x00\\x00\\x00\\x00\\xeb_\\xeb\\x94\\x00\\x00\\x00\\x00\\xc4\\xf9\\xbc;\\x00\\x00\\x00\\x00<\\xc8\\x04\\xa1\\x00\\x00\\x00\\x00\\x1b%\\x9ba', b'\\x00\\x00\\x00\\x00\\xce5\\xf4\\xf3\\x00\\x00\\x00\\x00\\xfc\\x12\\xa67\\x00\\x00\\x00\\x00\\xb5\\x81\\xf0\\xe0\\x00\\x00\\x00\\x007\\xfatp\\x00\\x00\\x00\\x00\\xf6\\xc8\\xb7\\xa4', b\"\\x00\\x00\\x00\\x00\\x0f\\x05J\\x94\\x00\\x00\\x00\\x00\\xe4\\xfb'd\\x00\\x00\\x00\\x00R\\xb5\\xac\\xcc\\x00\\x00\\x00\\x00/\\x19~\\x85\\x00\\x00\\x00\\x00S\\x16\\xcc\\x04\", b'\\x00\\x00\\x00\\x00Ux\\xa7r\\x00\\x00\\x00\\x00\\x93\\xd0\\xcc\\xf7\\x00\\x00\\x00\\x00>_T\\xc4\\x00\\x00\\x00\\x00\\x03,\\x8bp\\x00\\x00\\x00\\x00+\\x87l`', b'\\x00\\x00\\x00\\x00\\xbe\\xd8\\\\\\xe0\\x00\\x00\\x00\\x00\\xea\\x16\\xf6=\\x00\\x00\\x00\\x00\\x94\\x8bE\\xe0\\x00\\x00\\x00\\x00G\\x84\\xec\\xb9\\x00\\x00\\x00\\x00#$\\xb5=', b'\\x00\\x00\\x00\\x00\\xa9F\\xfc\\x13\\x00\\x00\\x00\\x00\\xb69\\x82\\xa3\\x00\\x00\\x00\\x00]\\xa8\\xcb\\xbd\\x00\\x00\\x00\\x00\\x9f\\xf1\\x81/\\x00\\x00\\x00\\x00\\x87G%\\x90', b'\\x00\\x00\\x00\\x00o\\xf9e\\xad\\x00\\x00\\x00\\x00\\x9b\\xa4\\x95\\xda\\x00\\x00\\x00\\x00v\\x85^\\x0b\\x00\\x00\\x00\\x00b\\x9c\\xc8A\\x00\\x00\\x00\\x001aP\\xe5', b'\\x00\\x00\\x00\\x00\\xda[%\\xa1\\x00\\x00\\x00\\x00\\xdaY\\x1d\\xde\\x00\\x00\\x00\\x00\\xc2\\xe4\\xbd\\xa7\\x00\\x00\\x00\\x00f\\xdaK\\x90\\x00\\x00\\x00\\x00j\\xbf\\x91\\x8b', b'\\x00\\x00\\x00\\x00SO\\xddK\\x00\\x00\\x00\\x00;\\xf4\\xee\\x08\\x00\\x00\\x00\\x00\\xd4\\xf1\\x1b\\x14\\x00\\x00\\x00\\x00\\xfc\\xbe\\xc1\\xa9\\x00\\x00\\x00\\x00\\xce\\x07L\\xea', b'\\x00\\x00\\x00\\x00y\\x9a\\xd8\\xf4\\x00\\x00\\x00\\x00\\xe6\\xf9\\x803\\x00\\x00\\x00\\x00\\xda\\xbf\\xc4\\x15\\x00\\x00\\x00\\x00\\xd4X\\x8a\\xc6\\x00\\x00\\x00\\x00~\\x0beQ', b'\\x00\\x00\\x00\\x00X\\x1a\\xa0\\\\\\x00\\x00\\x00\\x00q+\\x08\\x7f\\x00\\x00\\x00\\x00\\x9fa\\xaaM\\x00\\x00\\x00\\x00\\x16`{c\\x00\\x00\\x00\\x00\\x99\\x01]\\xcd', b\"\\x00\\x00\\x00\\x00\\x06\\xb5o/\\x00\\x00\\x00\\x00/+om\\x00\\x00\\x00\\x007\\x87C\\x9a\\x00\\x00\\x00\\x00\\x1fp\\xd9>\\x00\\x00\\x00\\x00\\x83\\xcc\\x8e'\", b'\\x00\\x00\\x00\\x00\\xa5\\xd5\\xf7\\x19\\x00\\x00\\x00\\x00{\\x00Q$\\x00\\x00\\x00\\x00f\\xb1D.\\x00\\x00\\x00\\x00\\xd2\\xc2\\x11\\x86\\x00\\x00\\x00\\x00v\\x8e\\xfb\\xbe', b'\\x00\\x00\\x00\\x00\\xfaA\\x84\\xfd\\x00\\x00\\x00\\x00S\\x17v0\\x00\\x00\\x00\\x00btMK\\x00\\x00\\x00\\x00dy\\xd1\\x1e\\x00\\x00\\x00\\x00\\xc8i\\x8f\\x00', b'\\x00\\x00\\x00\\x00\\xcb\\x91\\r\\x8f\\x00\\x00\\x00\\x00\\x1a\\x93\\xad\\xe6\\x00\\x00\\x00\\x00\\x12F\\xb2\\xaa\\x00\\x00\\x00\\x00)Q\\xc3\\xd7\\x00\\x00\\x00\\x00]K\\xcf(', b'\\x00\\x00\\x00\\x00\\x89:\\xb9\\xf4\\x00\\x00\\x00\\x00\\x80\\x1c\\x8f\\xb5\\x00\\x00\\x00\\x00\\xb6\\x148\\xd6\\x00\\x00\\x00\\x00!E`\\xc9\\x00\\x00\\x00\\x00_\\xf9\\xe0\\xce', b'\\x00\\x00\\x00\\x00\\x1b8\\xcf\\x1c\\x00\\x00\\x00\\x00\\xd3\\x041\\x1f\\x00\\x00\\x00\\x00\\xe0\\xec\\xfec\\x00\\x00\\x00\\x00\\x9ey\\x1f\\xe3\\x00\\x00\\x00\\x00\\xa4+\\x9fo', b'\\x00\\x00\\x00\\x00\\x1e\\xce\\xcc\\x1a\\x00\\x00\\x00\\x00\\xf1@2\\x9e\\x00\\x00\\x00\\x003\\x0bX\"\\x00\\x00\\x00\\x00&\\xfe]\\xe3\\x00\\x00\\x00\\x00\\xf5t\\xdc\\xef', b'\\x00\\x00\\x00\\x00v&\\x80\\x02\\x00\\x00\\x00\\x00x\\xe0\\x90\\xab\\x00\\x00\\x00\\x00YD\\xbd\\xed\\x00\\x00\\x00\\x00\\x11R\\xdf\\xd3\\x00\\x00\\x00\\x00\\x12\\xb5T\\xdf', b'\\x00\\x00\\x00\\x00\\xb0Jna\\x00\\x00\\x00\\x00\\xdc7\\xb9\\x7f\\x00\\x00\\x00\\x00\\x0e\\xe6\\x1d3\\x00\\x00\\x00\\x00\\xf1\\x9e,\\x0e\\x00\\x00\\x00\\x00\\rC>)', b\"\\x00\\x00\\x00\\x00b\\x8f\\xa2\\xf8\\x00\\x00\\x00\\x00|\\xaag-\\x00\\x00\\x00\\x00\\x14\\\\K\\xc5\\x00\\x00\\x00\\x00E\\xe1e\\x1c\\x00\\x00\\x00\\x00:0'\\xfe\", b'\\x00\\x00\\x00\\x00B=\\xf8\\x8d\\x00\\x00\\x00\\x00\\xa9\\xc0\\xecg\\x00\\x00\\x00\\x00\\xf1\\xed\\xee\\xb5\\x00\\x00\\x00\\x00\\x12s\\xf7\\x83\\x00\\x00\\x00\\x00\\xa6\\xa0\\r\\xf7', b'\\x00\\x00\\x00\\x00\\xc8g\\xaf\\xee\\x00\\x00\\x00\\x00\\xc8\\xed|\\xb5\\x00\\x00\\x00\\x00\\xbef\\x88\\xec\\x00\\x00\\x00\\x00\\x96\\x1e\\x88\\x14\\x00\\x00\\x00\\x00\\x10\\xbaNx', b'\\x00\\x00\\x00\\x007\\x9d\\xdb\\x85\\x00\\x00\\x00\\x00iOb\\xf0\\x00\\x00\\x00\\x00\\x19\\xcf\\x8c\\x91\\x00\\x00\\x00\\x00(\\xd6\\xfc\\xcf\\x00\\x00\\x00\\x00\\x8bX\\x81\\x1a', b'\\x00\\x00\\x00\\x00\\x9eE\\xc3\\x98\\x00\\x00\\x00\\x00\\x96C6\\xdf\\x00\\x00\\x00\\x007Y+\\xbe\\x00\\x00\\x00\\x00\\x82+\\xe2\\xde\\x00\\x00\\x00\\x00)\\xb0\\x0b3', b'\\x00\\x00\\x00\\x00\\\\`\\t\\x90\\x00\\x00\\x00\\x00\\x80\\x8d{\\xe2\\x00\\x00\\x00\\x00M]7\\xdb\\x00\\x00\\x00\\x00\\xe2\\xc1\\xea2\\x00\\x00\\x00\\x00G/\\x90\\xd0', b'\\x00\\x00\\x00\\x00\\x8fM\\xc8S\\x00\\x00\\x00\\x00&.\\xdc\\x84\\x00\\x00\\x00\\x00\\x8f^\\xf7\\xee\\x00\\x00\\x00\\x00 \\xe8\\xee\\xb1\\x00\\x00\\x00\\x00\\xdb\\xfa\\xcap', b'\\x00\\x00\\x00\\x00E=\\xe1\\xd8\\x00\\x00\\x00\\x00j\\xa8\\x9b\\xc4\\x00\\x00\\x00\\x00\\xd5\\xf0\\xb5:\\x00\\x00\\x00\\x00w\\xd2\\xde\\x0b\\x00\\x00\\x00\\x00\\xdf\\xe1\\xaf_', b'\\x00\\x00\\x00\\x00:Kv\\xdc\\x00\\x00\\x00\\x00\\x9d\\x1e\\x1dA\\x00\\x00\\x00\\x00\\x8e\\xd3Y/\\x00\\x00\\x00\\x00\\xc3w\\xaac\\x00\\x00\\x00\\x00l\\x1e0\\x8f', b'\\x00\\x00\\x00\\x00\\xe7\\xf5r\\x97\\x00\\x00\\x00\\x00\\r{\\x13d\\x00\\x00\\x00\\x00;[\\xaa\\xd1\\x00\\x00\\x00\\x00\\xc8\\xa8\\xee\\x8a\\x00\\x00\\x00\\x009;\\x97\\xff', b'\\x00\\x00\\x00\\x00`\\xe7\\xf4X\\x00\\x00\\x00\\x00\\x1b\\x00^~\\x00\\x00\\x00\\x00\\ns\\x99N\\x00\\x00\\x00\\x00\\x8f\\xdb\\xb3^\\x00\\x00\\x00\\x00\\xe2@#\\xd2', b'\\x00\\x00\\x00\\x00HS<H\\x00\\x00\\x00\\x00N@>\\x8d\\x00\\x00\\x00\\x00\\x06>\\x16O\\x00\\x00\\x00\\x00l9k\\xa4\\x00\\x00\\x00\\x00\\xb0\\x061g', b'\\x00\\x00\\x00\\x00\\xcf\\x7f\\xab\\xa5\\x00\\x00\\x00\\x00\\xf7\\xe6&\\xd7\\x00\\x00\\x00\\x00@\\xe9\\xe2Y\\x00\\x00\\x00\\x00\\xe0\\x1fM\\xe5\\x00\\x00\\x00\\x00\\x17!\\xc66', b'\\x00\\x00\\x00\\x00|\\x0f\\x94\\x02\\x00\\x00\\x00\\x00\\xe3h\\x06\\xad\\x00\\x00\\x00\\x00/\\xf8|\\xec\\x00\\x00\\x00\\x00\\xf5P\\x97\\xd1\\x00\\x00\\x00\\x008;:\\xdc', b\"\\x00\\x00\\x00\\x00\\xba\\xba\\xad%\\x00\\x00\\x00\\x00\\xa4E&\\x19\\x00\\x00\\x00\\x009\\xe75y\\x00\\x00\\x00\\x007`\\xae\\xe5\\x00\\x00\\x00\\x00\\x1b\\x82'|\", b'\\x00\\x00\\x00\\x00\\xae\\xeb\\xcd\\xe5\\x00\\x00\\x00\\x00\\xf9]\\x89\\xbc\\x00\\x00\\x00\\x00\\x86\\xc0\\x9e\\xd3\\x00\\x00\\x00\\x00\\x9a<\\xa1\\x0f\\x00\\x00\\x00\\x00\\xde\\xf9\\x18l', b'\\x00\\x00\\x00\\x00r\\x1a\\xc7\\x8c\\x00\\x00\\x00\\x00m\\xef\\x84\\xec\\x00\\x00\\x00\\x00p\\xaf=\\xf7\\x00\\x00\\x00\\x00A\\xe6A\\x82\\x00\\x00\\x00\\x00\\xf0uzv', b'\\x00\\x00\\x00\\x00\\xda\\x94\\x06\\xc7\\x00\\x00\\x00\\x00\\xcaGYI\\x00\\x00\\x00\\x00\\x1c\\x13,4\\x00\\x00\\x00\\x00E5\\x92\\xa6\\x00\\x00\\x00\\x00u\\x0b\\xfa)', b\"\\x00\\x00\\x00\\x00\\x8e\\xaa\\xdb\\xf9\\x00\\x00\\x00\\x00\\x8ej~\\xb3\\x00\\x00\\x00\\x00\\xb6\\xe5\\xeaT\\x00\\x00\\x00\\x00\\xd7\\x17L\\xca\\x00\\x00\\x00\\x00\\x1bw'\\xd0\", b'\\x00\\x00\\x00\\x00\\x81\\xae\\xaf,\\x00\\x00\\x00\\x000\\xcb\\xbd\\x16\\x00\\x00\\x00\\x00\\xde\\xc9?_\\x00\\x00\\x00\\x00\\x0f\\xe0\\xd7\\x95\\x00\\x00\\x00\\x00\\xdb=\\xdd\\xd3', b'\\x00\\x00\\x00\\x00C\\\\K}\\x00\\x00\\x00\\x00\\xb3\\x12\\xde\\xed\\x00\\x00\\x00\\x00\\xa2l(^\\x00\\x00\\x00\\x00\\x96X\\x1ev\\x00\\x00\\x00\\x00\\x7fq\\x99l', b'\\x00\\x00\\x00\\x00\\x7fv\\xd73\\x00\\x00\\x00\\x00\\xce\\xdf\\xa9\\x15\\x00\\x00\\x00\\x00\\xad1=\\\\\\x00\\x00\\x00\\x00h\\x00G\\x96\\x00\\x00\\x00\\x00\\xee\\x16\\xa9\\xd8', b'\\x00\\x00\\x00\\x00<Z\\x98 \\x00\\x00\\x00\\x00\\xb8K\\x98\\x9c\\x00\\x00\\x00\\x00\\x1c\\xe99R\\x00\\x00\\x00\\x00\\x84@d;\\x00\\x00\\x00\\x00\\x12\\xf9\\xf6\\x9f', b'\\x00\\x00\\x00\\x00\\xbe\\xfdQ\\xf2\\x00\\x00\\x00\\x00\\x87(\\xab\\xb8\\x00\\x00\\x00\\x00\\x06\\xd6Zo\\x00\\x00\\x00\\x00\\xa2it\\x17\\x00\\x00\\x00\\x00\\x06\\xb6\\xd5t', b'\\x00\\x00\\x00\\x00\\xd8\\x1d\\x1bv\\x00\\x00\\x00\\x00^\\xc7\\xde\\xf2\\x00\\x00\\x00\\x00j\\xe7\\x93\\xf2\\x00\\x00\\x00\\x00\\x819\\x01\\xcb\\x00\\x00\\x00\\x00\\xb3\\xf3\\x12\\x12', b'\\x00\\x00\\x00\\x00Z\\x1b\\xfa\\x97\\x00\\x00\\x00\\x00k\\xd2\\x83e\\x00\\x00\\x00\\x00\\xcawx\\x9d\\x00\\x00\\x00\\x00\\xaa\\x10 0\\x00\\x00\\x00\\x00C\\x9e\\xc4T', b'\\x00\\x00\\x00\\x00\\x10.\\xecG\\x00\\x00\\x00\\x00\\xb4bf\\x87\\x00\\x00\\x00\\x00\\xcd\\x0f\\x1aR\\x00\\x00\\x00\\x00QB\\x8b\\xa5\\x00\\x00\\x00\\x004.\\x99k', b'\\x00\\x00\\x00\\x00\\xb6\\xe7\\x99\\xc8\\x00\\x00\\x00\\x00ds\\xdb\\xcb\\x00\\x00\\x00\\x00-\\xf66\\xa1\\x00\\x00\\x00\\x00\\xbb\\x9f3\\x03\\x00\\x00\\x00\\x00\\xb0\\xb5\\xa4Z', b'\\x00\\x00\\x00\\x00\\xdfb8\\x91\\x00\\x00\\x00\\x00YIdb\\x00\\x00\\x00\\x00y{\\x0f\\x1d\\x00\\x00\\x00\\x00\\xb0\\xbat,\\x00\\x00\\x00\\x00\\xbb\\x06\\xcdS', b'\\x00\\x00\\x00\\x00b\\x19q\\x9e\\x00\\x00\\x00\\x00Np\\xab\\xe1\\x00\\x00\\x00\\x00}G\\x8ew\\x00\\x00\\x00\\x00\\xb3\\xeaU:\\x00\\x00\\x00\\x00Rk\\x8b\\xe0', b'\\x00\\x00\\x00\\x00G:Y\\xbc\\x00\\x00\\x00\\x005\\xd5K\\xd1\\x00\\x00\\x00\\x00\\xd7\\x97e\\xd9\\x00\\x00\\x00\\x00B\\xc9\\xb9\\xa0\\x00\\x00\\x00\\x00\\x11y\\x85\\xa1', b'\\x00\\x00\\x00\\x00=\\xa7\\xc6\\x11\\x00\\x00\\x00\\x00;\\x87\\x1d\\xa3\\x00\\x00\\x00\\x00F\\xa6\\xdb>\\x00\\x00\\x00\\x00#\\x1d\\xdd-\\x00\\x00\\x00\\x00s\\xde\\xf8\\x91', b'\\x00\\x00\\x00\\x00\\x87v\\x9dq\\x00\\x00\\x00\\x00\\xa3\\x93\\xd1\\xf7\\x00\\x00\\x00\\x00\\xa1\\x19UE\\x00\\x00\\x00\\x00\\xf4\\xc4\\xafs\\x00\\x00\\x00\\x00\\xb1Y9f', b'\\x00\\x00\\x00\\x00\\x8d\\xa1\\xa1\\xac\\x00\\x00\\x00\\x00\\xacDw\\xd6\\x00\\x00\\x00\\x00\\x98\\xae[\\x0e\\x00\\x00\\x00\\x00\\xbes\\xf0C\\x00\\x00\\x00\\x00\\xb9x\\x82\\xe4', b'\\x00\\x00\\x00\\x00\\xcap\\xa18\\x00\\x00\\x00\\x00\\x11;\\\\\\x13\\x00\\x00\\x00\\x00\\xe0\\xcc\\xfdD\\x00\\x00\\x00\\x00W\\x1b\\xa0E\\x00\\x00\\x00\\x00b;\\xdc1', b'\\x00\\x00\\x00\\x00I\\xfd\\xda\\x82\\x00\\x00\\x00\\x00\\xd4\\xccco\\x00\\x00\\x00\\x0049\\x7f\\xcb\\x00\\x00\\x00\\x00\\xa3\\xf7f\\xcf\\x00\\x00\\x00\\x008\\xec\\x95\\x98', b'\\x00\\x00\\x00\\x00d~\\x12k\\x00\\x00\\x00\\x00\\n\\xf73z\\x00\\x00\\x00\\x00.\\xf0\\x00j\\x00\\x00\\x00\\x00\\x80`\\xc2j\\x00\\x00\\x00\\x00t\\xf7\\x8b\\xd6', b'\\x00\\x00\\x00\\x00r\\xe12c\\x00\\x00\\x00\\x00HxW\\x7f\\x00\\x00\\x00\\x00y\\xe0`7\\x00\\x00\\x00\\x00\\x9b\\xb1\\x04\\x0f\\x00\\x00\\x00\\x00T \\x8c(', b'\\x00\\x00\\x00\\x00\\x01\\x8f#w\\x00\\x00\\x00\\x00\\x1a\\xa6\\xda\\xf3\\x00\\x00\\x00\\x00\\x16Ey\\xf4\\x00\\x00\\x00\\x00\\xe1\\x01\\xb1\\xca\\x00\\x00\\x00\\x00h1n\\x13', b'\\x00\\x00\\x00\\x00a(\\xf8A\\x00\\x00\\x00\\x00$n\\xc8\\x91\\x00\\x00\\x00\\x00\\xdblB\\xed\\x00\\x00\\x00\\x00\\x0f\\xf0\\x96\\xf6\\x00\\x00\\x00\\x00\\xba*\\xc4\\r', b'\\x00\\x00\\x00\\x00FQ\\xa7\\x03\\x00\\x00\\x00\\x00\\\\\\xc2\\xb1,\\x00\\x00\\x00\\x00i\\xfdv\\xfc\\x00\\x00\\x00\\x00O\\xb0;u\\x00\\x00\\x00\\x00A}\\xc5\\xb1', b'\\x00\\x00\\x00\\x00\\x8b\\xe0b\\x08\\x00\\x00\\x00\\x00%\\xa47\\xa8\\x00\\x00\\x00\\x00b\\xc1\\xaf\\xd1\\x00\\x00\\x00\\x00\\xe7\\xe4H\\x7f\\x00\\x00\\x00\\x004\\x18\\x9b:', b'\\x00\\x00\\x00\\x00\\xf8\\x08\\x9c\\x18\\x00\\x00\\x00\\x00\\xb3\\x13J\\x9f\\x00\\x00\\x00\\x00\\x17\\x0ct \\x00\\x00\\x00\\x00\\xbf\\x0e=\\xe0\\x00\\x00\\x00\\x00\\xd5\\x13\\xb4\\xef', b'\\x00\\x00\\x00\\x00\\xcc\\x98V\\x86\\x00\\x00\\x00\\x00}\\xb3%j\\x00\\x00\\x00\\x00p\\xf3,\\xcc\\x00\\x00\\x00\\x00\\xbb\\x80\\x0e\\xd1\\x00\\x00\\x00\\x00R\\x9d\\xa7\\x9f', b'\\x00\\x00\\x00\\x00\\xd0A\\x1eo\\x00\\x00\\x00\\x00T\\xa6\\xf9|\\x00\\x00\\x00\\x00\\xa7\\x8eQ\\x9e\\x00\\x00\\x00\\x00\\xa2\\xc2H\\xbf\\x00\\x00\\x00\\x00\"\\x10\\x05\\x8b', b'\\x00\\x00\\x00\\x00\\xe5=\\xa6\\x1d\\x00\\x00\\x00\\x00\\x1c\\xb6\\xc5\\x9e\\x00\\x00\\x00\\x00|\\x1c\\xb3\\xa4\\x00\\x00\\x00\\x00BX\\x19\\xe3\\x00\\x00\\x00\\x00C\\xacg\\xec', b'\\x00\\x00\\x00\\x00L\\xc8\\x12\\xc6\\x00\\x00\\x00\\x00\\xf5\\x11SH\\x00\\x00\\x00\\x00\\xe2\\x92\\xc53\\x00\\x00\\x00\\x00i(\\x9a\\xab\\x00\\x00\\x00\\x004\\xb1\\x04&', b'\\x00\\x00\\x00\\x00\\x9d!\\x1c\\x84\\x00\\x00\\x00\\x00\\xeeN\\x0eh\\x00\\x00\\x00\\x00\\xcb\\xb6\\x81~\\x00\\x00\\x00\\x00%B\\x91$\\x00\\x00\\x00\\x00\\xccx\\xbcI', b'\\x00\\x00\\x00\\x000\\x9b\\x86+\\x00\\x00\\x00\\x00\\x81]\\x05\\x98\\x00\\x00\\x00\\x00\\x8eG|i\\x00\\x00\\x00\\x00x\\x0bS=\\x00\\x00\\x00\\x00 \\xc3\\xb6\\xa9', b'\\x00\\x00\\x00\\x00\\xaa^!\\x95\\x00\\x00\\x00\\x00\\xc3Vo\\xe7\\x00\\x00\\x00\\x00\\xf0\\x94\\xe9\\xdb\\x00\\x00\\x00\\x002\\x8b\\xfa-\\x00\\x00\\x00\\x00\\xf9\\xf6\\xa4\\xd4', b'\\x00\\x00\\x00\\x00\\x82\\x95h\\xce\\x00\\x00\\x00\\x00\\x1d\\xb9\\xf4E\\x00\\x00\\x00\\x00\\xed`E\\xe4\\x00\\x00\\x00\\x00\\x86\\x87}\\x03\\x00\\x00\\x00\\x00|N\\x90\\xd4', b'\\x00\\x00\\x00\\x00\\xd6\\xa2\\r\\x07\\x00\\x00\\x00\\x00E\\x07\\x16)\\x00\\x00\\x00\\x00\\x10\\xf1{\\xe3\\x00\\x00\\x00\\x00Xn\\xfc$\\x00\\x00\\x00\\x00~\\xc3z\\x07', b'\\x00\\x00\\x00\\x00\\xf12\\xa1k\\x00\\x00\\x00\\x00\\x92\\xa77\\xfa\\x00\\x00\\x00\\x00\\xa8/\\x97\\xd9\\x00\\x00\\x00\\x00j\"\\n\\xc3\\x00\\x00\\x00\\x00\\xe5\\xed\\x08\\t', b'\\x00\\x00\\x00\\x00\\x05\\xed\\xb4C\\x00\\x00\\x00\\x00\\xed\\xad\\xb6\\x8d\\x00\\x00\\x00\\x001\\x80\\x18!\\x00\\x00\\x00\\x00\\xfd\\x9f=Q\\x00\\x00\\x00\\x00\\xc3\\xe0\\xa5\\xba', b'\\x00\\x00\\x00\\x00\\x8aD\\xa7\\xb7\\x00\\x00\\x00\\x00\\xc6\\xec\\xd8\\xd3\\x00\\x00\\x00\\x00-\\xbfP$\\x00\\x00\\x00\\x00T\\xa0\\xefF\\x00\\x00\\x00\\x00\\xfd\\x07V\\xf1', b\"\\x00\\x00\\x00\\x00H\\xb1\\xfbV\\x00\\x00\\x00\\x00\\xd7\\x05\\xc3\\x04\\x00\\x00\\x00\\x00lV\\x82'\\x00\\x00\\x00\\x00N\\xcb\\xd0\\xb3\\x00\\x00\\x00\\x00\\xd3\\xe8\\xb4\\xf0\", b'\\x00\\x00\\x00\\x00!^\\x18\\xb1\\x00\\x00\\x00\\x008\\xa8\\x88W\\x00\\x00\\x00\\x00\\x9e\\xc2\\xc0\\x80\\x00\\x00\\x00\\x00\\xe3\\xef(\\x95\\x00\\x00\\x00\\x00\\x90\\xab\\xeb\\x14', b'\\x00\\x00\\x00\\x00\\xdd\\xe9\\x84\\xfb\\x00\\x00\\x00\\x00\\x9a\\x96*1\\x00\\x00\\x00\\x00\\xe6\\xd2\\xd5\\x18\\x00\\x00\\x00\\x00\\xadER\\xc7\\x00\\x00\\x00\\x00\\x88\\x0e\\x9fS', b'\\x00\\x00\\x00\\x00\\xab\\xdb\\xd2\\xe6\\x00\\x00\\x00\\x00\\xa3\\x84\\x879\\x00\\x00\\x00\\x00\\x8f\\n\\xde\\x93\\x00\\x00\\x00\\x00lz\\x8f\\x0f\\x00\\x00\\x00\\x00\\x9el\\xb1\\xe8', b'\\x00\\x00\\x00\\x00{\\xe8\\xfa\\xa9\\x00\\x00\\x00\\x00\\x8bN\\x7f^\\x00\\x00\\x00\\x00\\xca\\xaa\\x91\\x9a\\x00\\x00\\x00\\x00\\x8dd\\x97\\xe6\\x00\\x00\\x00\\x00\\x15\\xb6\\xf2\\xb8', b'\\x00\\x00\\x00\\x00{\\xd1\\xb8\\x82\\x00\\x00\\x00\\x00\\xb6\\xdctn\\x00\\x00\\x00\\x00\\xec\\n\\xceK\\x00\\x00\\x00\\x00\\x8b\\xfdz\\xcf\\x00\\x00\\x00\\x00\\x00}N\\x98', b'\\x00\\x00\\x00\\x00\\xdak\\x9a\\x0e\\x00\\x00\\x00\\x00\\t\\x86\\x9b\\xab\\x00\\x00\\x00\\x00\\x0e\\xc0\\xb9\\xd5\\x00\\x00\\x00\\x00\\xc1?\\x18\\x80\\x00\\x00\\x00\\x00\\x1f\\x12\\x9f7', b'\\x00\\x00\\x00\\x00\\x18\\x98\\x85z\\x00\\x00\\x00\\x00N\\x95u\\xf1\\x00\\x00\\x00\\x00\\x9f8\\x93\\xa8\\x00\\x00\\x00\\x00)\\x03\\x9c#\\x00\\x00\\x00\\x00\\xebP\\x04\\xc1', b'\\x00\\x00\\x00\\x00o\\xe7K4\\x00\\x00\\x00\\x00\\x86\\xf0\\xbb\\x13\\x00\\x00\\x00\\x00\\xb9\\xa2|\\x95\\x00\\x00\\x00\\x00\\xef\\x94\\xbd\\xf0\\x00\\x00\\x00\\x00{\\xacO\\x85', b'\\x00\\x00\\x00\\x00:1\\xb5_\\x00\\x00\\x00\\x00A\\x9b\\xca\\x01\\x00\\x00\\x00\\x00#}nD\\x00\\x00\\x00\\x00\\xec\\x16G\\xb5\\x00\\x00\\x00\\x00#\\xfb\\x1e\\xff', b'\\x00\\x00\\x00\\x00GG\\xa1\\x8f\\x00\\x00\\x00\\x00\\xac\\x07\\x17\\xeb\\x00\\x00\\x00\\x00y\\xb7\\x19v\\x00\\x00\\x00\\x00\\x02\\x93\\xfd\\x80\\x00\\x00\\x00\\x00\\x18v\\x05w', b'\\x00\\x00\\x00\\x00\\xc2X\\xf6\\x93\\x00\\x00\\x00\\x00\\xd1h\\x05g\\x00\\x00\\x00\\x00\\xe2\\t\\x05\\x97\\x00\\x00\\x00\\x00|O\\xc8.\\x00\\x00\\x00\\x00\\xcf\\xcc\\x96T', b'\\x00\\x00\\x00\\x00\\x88\\xdf\\x8a\\xc2\\x00\\x00\\x00\\x00\\x1d\\x92\\xffO\\x00\\x00\\x00\\x00\\xbeO\\x0e\\xcd\\x00\\x00\\x00\\x00\\xc7\\'\\xed\\xf7\\x00\\x00\\x00\\x00\\x8e\"\\x08\\xce', b'\\x00\\x00\\x00\\x00p\\x9b\\xec\\xcc\\x00\\x00\\x00\\x00\\xae/\\xfeC\\x00\\x00\\x00\\x00\\xac\\xea\\xd1\\x14\\x00\\x00\\x00\\x00_\\xf9SW\\x00\\x00\\x00\\x00\\x7f\\x1f\\xee\\x89', b'\\x00\\x00\\x00\\x00LZ:}\\x00\\x00\\x00\\x00(\\x10\\xe7r\\x00\\x00\\x00\\x00\\x0bS\\xcf\\x9b\\x00\\x00\\x00\\x00\"\\x13(y\\x00\\x00\\x00\\x00\\xd9\\x9f\\xf5\\xf0', b\"\\x00\\x00\\x00\\x00\\xdf\\xe5'H\\x00\\x00\\x00\\x00\\tU\\x95\\x0b\\x00\\x00\\x00\\x00\\xe3\\xcc\\x02\\xc1\\x00\\x00\\x00\\x00=\\xd2\\x9c\\x01\\x00\\x00\\x00\\x00\\xcd\\xd1\\xcf\\x99\", b'\\x00\\x00\\x00\\x006\\xf6Rk\\x00\\x00\\x00\\x00\\xde{\\x13{\\x00\\x00\\x00\\x00\\xf1\\xed0k\\x00\\x00\\x00\\x00\\xa2\\x96Be\\x00\\x00\\x00\\x00\\xa9Vk\\xdc', b'\\x00\\x00\\x00\\x007)\\xc6\\x8d\\x00\\x00\\x00\\x00=\\x15\\x05l\\x00\\x00\\x00\\x00\\xb3Pq6\\x00\\x00\\x00\\x00\\xa0\\x90\\xab\\x80\\x00\\x00\\x00\\x00\\xd3\\x06\\x0e\\xf7', b\"\\x00\\x00\\x00\\x00\\xee\\x9c\\xde!\\x00\\x00\\x00\\x00\\xdc\\x89\\xc1\\x9d\\x00\\x00\\x00\\x00\\xd2\\xa9\\xae\\x08\\x00\\x00\\x00\\x00'3\\xe6\\x90\\x00\\x00\\x00\\x00\\xb3zKM\", b'\\x00\\x00\\x00\\x00\\x03qs\\xaf\\x00\\x00\\x00\\x00\\xd7\\x1f\\xda\\xd6\\x00\\x00\\x00\\x00\\xff#\\x88\\xc2\\x00\\x00\\x00\\x00\\x86Kz\\x98\\x00\\x00\\x00\\x00O\\xf3!\\x93', b'\\x00\\x00\\x00\\x00\\xb2\\xc2\\x82*\\x00\\x00\\x00\\x00yP;\\x99\\x00\\x00\\x00\\x00\\x1a\\x01\\x117\\x00\\x00\\x00\\x00[\\xc2|\\xe8\\x00\\x00\\x00\\x00\\x8cM\\x98\\xf8', b'\\x00\\x00\\x00\\x00\\xdd\\x08\\x83\\xcb\\x00\\x00\\x00\\x00\\x0c\\x94\\x1a\\xce\\x00\\x00\\x00\\x00\\x92\\xc6e\\xf2\\x00\\x00\\x00\\x00\\x95\\x99\\xd0\\xaa\\x00\\x00\\x00\\x00C\\x83\\xf7\\xa6', b'\\x00\\x00\\x00\\x00\\x88\\xdf7\\xa6\\x00\\x00\\x00\\x00\\x19\\x9a`\\xd7\\x00\\x00\\x00\\x00\\x0b\\xd4\\x1bY\\x00\\x00\\x00\\x00|\\x0fU\\xe7\\x00\\x00\\x00\\x00\\x15\\xcb\\x107', b'\\x00\\x00\\x00\\x00$\\xb6\\xb2\\x12\\x00\\x00\\x00\\x00\\xc2\\x83\\xa7\\xa3\\x00\\x00\\x00\\x00\\xcdM\\x1c<\\x00\\x00\\x00\\x00 p%/\\x00\\x00\\x00\\x00t}\\x12\\x90', b'\\x00\\x00\\x00\\x00\\xd4\\x89\\x11M\\x00\\x00\\x00\\x00\\x01\\xe1\\xa0\\x08\\x00\\x00\\x00\\x00m\\xe1\\xeaB\\x00\\x00\\x00\\x00i3\\xb7\\xfc\\x00\\x00\\x00\\x00\\xf0\\x89\\x92\\x94', b'\\x00\\x00\\x00\\x00\\x14\\xa4\\x14f\\x00\\x00\\x00\\x00\\x9c\\xdc\\xe6|\\x00\\x00\\x00\\x00\\x06Q!\\xb3\\x00\\x00\\x00\\x00\\xaf?p\\x0f\\x00\\x00\\x00\\x00\\x8f\\xfds)', b\"\\x00\\x00\\x00\\x00v'b*\\x00\\x00\\x00\\x00\\xec=\\xcb\\x9c\\x00\\x00\\x00\\x00\\xaf\\x879=\\x00\\x00\\x00\\x00\\xef\\xfd\\xbc\\xe8\\x00\\x00\\x00\\x00[9\\xa8\\xfc\", b'\\x00\\x00\\x00\\x00$\\xa8\\xc2\\x8e\\x00\\x00\\x00\\x00F\\t\\x87k\\x00\\x00\\x00\\x00\\xe9\\xeb~5\\x00\\x00\\x00\\x00\\x85|S~\\x00\\x00\\x00\\x00\\xabj\\xe0\\xf9', b'\\x00\\x00\\x00\\x00G\\xe5#Z\\x00\\x00\\x00\\x00\\xa2\\xbe\\xc7\\x02\\x00\\x00\\x00\\x00\\x1bQ\\xb0\\x90\\x00\\x00\\x00\\x00W\\xe6=]\\x00\\x00\\x00\\x00(}\\xe0S', b\"\\x00\\x00\\x00\\x00\\xae\\xb8A\\xef\\x00\\x00\\x00\\x00<m\\xe7\\xb6\\x00\\x00\\x00\\x00\\xa1FV=\\x00\\x00\\x00\\x00\\xb9]\\x95\\xbf\\x00\\x00\\x00\\x00'\\x17\\xad\\xc7\", b\"\\x00\\x00\\x00\\x00m\\xfaU'\\x00\\x00\\x00\\x00gp\\x06\\x1e\\x00\\x00\\x00\\x00\\xb0\\xc3[F\\x00\\x00\\x00\\x00h`\\xa0\\x8f\\x00\\x00\\x00\\x00\\x82\\xe2C\\xcd\", b'\\x00\\x00\\x00\\x00\\xc4\\xad\\x15\\xc9\\x00\\x00\\x00\\x008\\xc5\\x1d\\xc6\\x00\\x00\\x00\\x00\\xe3\\x14#\\xa4\\x00\\x00\\x00\\x00\\x93Y\\xda\\xfd\\x00\\x00\\x00\\x00\\xb9u6V', b'\\x00\\x00\\x00\\x00\\xbf.\\x1a\\x80\\x00\\x00\\x00\\x00@F\\xf7r\\x00\\x00\\x00\\x00\\x9f\\xa17\\x99\\x00\\x00\\x00\\x00\\xf2Xht\\x00\\x00\\x00\\x00 (\\x85\\xef', b'\\x00\\x00\\x00\\x00\\xf4\\x0f\\xd4d\\x00\\x00\\x00\\x00\\xdcg\\x06~\\x00\\x00\\x00\\x00\\x97n\\xf1\\xba\\x00\\x00\\x00\\x00d\\xa1\\xf0\\x0f\\x00\\x00\\x00\\x00\\x0c\\xdc\\x93/', b'\\x00\\x00\\x00\\x00\\x93#\\xab\\r\\x00\\x00\\x00\\x00tZ\\xdf&\\x00\\x00\\x00\\x00\\xe1\\xe9\\n\\xcb\\x00\\x00\\x00\\x003\\xcc\\x8c\\xd6\\x00\\x00\\x00\\x00\\xcf82e', b\"\\x00\\x00\\x00\\x00\\x84@\\x19\\xb8\\x00\\x00\\x00\\x004\\x92k\\xd3\\x00\\x00\\x00\\x00\\x9e \\xb5\\xd8\\x00\\x00\\x00\\x00vh9\\xa2\\x00\\x00\\x00\\x00'\\x83\\xa5\\x9d\", b'\\x00\\x00\\x00\\x00\\xd8J\\xf4`\\x00\\x00\\x00\\x00\\xf5\\xa9vz\\x00\\x00\\x00\\x00\\x9b \\xc9\\xb3\\x00\\x00\\x00\\x00h&\\xb0\\x0e\\x00\\x00\\x00\\x00Q\\xa0\\x83/', b'\\x00\\x00\\x00\\x00J\\x01\\t\\x9e\\x00\\x00\\x00\\x00x\\xc4\\xdf\\xdc\\x00\\x00\\x00\\x00G\\xe0`q\\x00\\x00\\x00\\x00\\xf9\\x05e4\\x00\\x00\\x00\\x00\\xab\\xff\\xdf\\xe1', b'\\x00\\x00\\x00\\x00*\\x82n\\xcb\\x00\\x00\\x00\\x00\\xe6\\x08%N\\x00\\x00\\x00\\x00\\xadb\\xda/\\x00\\x00\\x00\\x00\\xa1~\\x82\\xa9\\x00\\x00\\x00\\x00\\xca\\xd4\\xa6&', b'\\x00\\x00\\x00\\x00\\xf4\\xc9\\x138\\x00\\x00\\x00\\x00O\\x05#\\x14\\x00\\x00\\x00\\x00\\x9d\\x90\\xaa\\xc5\\x00\\x00\\x00\\x00\\x9e\\xbclE\\x00\\x00\\x00\\x00\\x13\\xde\\xbb.', b'\\x00\\x00\\x00\\x00a\\xa0\\xb0F\\x00\\x00\\x00\\x00\\x9b\\x888\\x8e\\x00\\x00\\x00\\x00}2%\\x1f\\x00\\x00\\x00\\x00\\xc1\\x02\\xe5L\\x00\\x00\\x00\\x00\\xf9\\x1bw\\xb9', b'\\x00\\x00\\x00\\x00\\x938\\xa7\\xc8\\x00\\x00\\x00\\x00\\xd9(\\x08\\xcb\\x00\\x00\\x00\\x00\\xc0\\xe40\\xf5\\x00\\x00\\x00\\x00\\xee*\\xe8\\xa8\\x00\\x00\\x00\\x00\\x0b\\x19\\x15\\xa8', b'\\x00\\x00\\x00\\x00\\x02J9+\\x00\\x00\\x00\\x00M\\x8e\\xac\\x1a\\x00\\x00\\x00\\x00\\xfb\\xf4\\xe6\\xab\\x00\\x00\\x00\\x00g\\x155A\\x00\\x00\\x00\\x00\\xdc\\xbaa*', b'\\x00\\x00\\x00\\x00\\xad\\xe6\\x1cb\\x00\\x00\\x00\\x00\\xd2&\\x96|\\x00\\x00\\x00\\x00\\xa1\\x0b\\x8f\\x83\\x00\\x00\\x00\\x00OC\\xa1\\xb8\\x00\\x00\\x00\\x00\\xaa\\xac\\xdfz', b'\\x00\\x00\\x00\\x00\\x83\\x7f\\xfeI\\x00\\x00\\x00\\x00I\\x8f\\xdd\\x8b\\x00\\x00\\x00\\x00\\xa6\\xf4\\xbf\\xd2\\x00\\x00\\x00\\x00\\x15\\xf1\\x17\\xa6\\x00\\x00\\x00\\x00Ch\\xa8h', b'\\x00\\x00\\x00\\x00\\xc3\\xed\\x9bA\\x00\\x00\\x00\\x00\\x94\\xe5w\\x0c\\x00\\x00\\x00\\x00Y\\x11a+\\x00\\x00\\x00\\x00\\x19\\xe5\\x18\\xf9\\x00\\x00\\x00\\x00\\xe4\\x1f\\xb6\\x91', b'\\x00\\x00\\x00\\x00\\xaf\\x1f\\xc4\\xbe\\x00\\x00\\x00\\x00\\x9b@\\xe2L\\x00\\x00\\x00\\x00>M\\xf2N\\x00\\x00\\x00\\x00\\xc1\\xcf\\xe9\\xf7\\x00\\x00\\x00\\x00\\xd2\\x95c\\xcf', b'\\x00\\x00\\x00\\x00\\n\\xd3?\\xa6\\x00\\x00\\x00\\x00O8\\\\\\xd9\\x00\\x00\\x00\\x00\\x1b\\xab\\x81X\\x00\\x00\\x00\\x00v\\x04\\x05\\xea\\x00\\x00\\x00\\x00\\xab\\xa0l8', b'\\x00\\x00\\x00\\x00\\x80\\x8e;$\\x00\\x00\\x00\\x00\\xb2e_\\x1e\\x00\\x00\\x00\\x00[T\\x87\\xfa\\x00\\x00\\x00\\x00\\xfd\\x87\\xe2\\xe5\\x00\\x00\\x00\\x00\\xfeYHy', b'\\x00\\x00\\x00\\x00\\x17\\xe3G2\\x00\\x00\\x00\\x00z\\xf9q\\x19\\x00\\x00\\x00\\x00]\\xb7\\xd1c\\x00\\x00\\x00\\x00\\xc9\\x19\\xe7\\x97\\x00\\x00\\x00\\x00K\\xa7\\xb1\\xd7', b'\\x00\\x00\\x00\\x00kn\\xdf\\x9b\\x00\\x00\\x00\\x00y\\x15\\\\\\xdf\\x00\\x00\\x00\\x007-\\xd8\\x8b\\x00\\x00\\x00\\x00\\xbb\\x01\\xcc\\x86\\x00\\x00\\x00\\x00C\\x0e]\\x83', b'\\x00\\x00\\x00\\x00bm\\xb4\\xf4\\x00\\x00\\x00\\x00\\x856\\xc61\\x00\\x00\\x00\\x00\\xef\\xc8\\xc0\\xdf\\x00\\x00\\x00\\x00\\x90\\xe4\\xf4m\\x00\\x00\\x00\\x00IQ\\xd7\\xa1', b'\\x00\\x00\\x00\\x00<\\x8a\\xa3\\xb2\\x00\\x00\\x00\\x003\\xd0\\x8e\\xd3\\x00\\x00\\x00\\x00A\\x04$\\xf1\\x00\\x00\\x00\\x00+\\x82\\x18\\xef\\x00\\x00\\x00\\x00\\xd2\\x15\\xb9@', b'\\x00\\x00\\x00\\x00\\xc7\\x87\\x9bV\\x00\\x00\\x00\\x00\\xf9(?\\x05\\x00\\x00\\x00\\x00 y\\xb2^\\x00\\x00\\x00\\x00\\x91\\xfc\\x0f\\n\\x00\\x00\\x00\\x00\\x12\\xb4T\\xa2', b'\\x00\\x00\\x00\\x00V\\xbe\\x95m\\x00\\x00\\x00\\x00z\\xaa\\x89\\xf9\\x00\\x00\\x00\\x00b\\xbfw\\x0e\\x00\\x00\\x00\\x00dS\\x81\\x14\\x00\\x00\\x00\\x00\\xc4\\xce\\xed\\xb6', b'\\x00\\x00\\x00\\x00=\\x90_n\\x00\\x00\\x00\\x00;\\x12X\\xfc\\x00\\x00\\x00\\x00\\xa2\\x9e\\xce_\\x00\\x00\\x00\\x00q\\x11^\\xbc\\x00\\x00\\x00\\x00-\\xf3Q\\x0b', b'\\x00\\x00\\x00\\x00\\xef\\xb1\\x9f0\\x00\\x00\\x00\\x00=\\x9aE\\x1a\\x00\\x00\\x00\\x00\\xf5\\x8e\\xb3]\\x00\\x00\\x00\\x00P\\xa9w\\x95\\x00\\x00\\x00\\x00\\xa4A\\xa5\\xd7', b'\\x00\\x00\\x00\\x00@\\xae\\xee`\\x00\\x00\\x00\\x00j\\xd8-{\\x00\\x00\\x00\\x00$\\xa8\\x05\\x02\\x00\\x00\\x00\\x00\\xc4\\\\\\xad\\xb6\\x00\\x00\\x00\\x00\\xe5\\xd0\\x0e}', b'\\x00\\x00\\x00\\x00\\x1d8\\xc2:\\x00\\x00\\x00\\x00\\xd5\\x8aK\\x90\\x00\\x00\\x00\\x00{\\xe2\\xa2\\x05\\x00\\x00\\x00\\x00\\x1d]\\xf6F\\x00\\x00\\x00\\x002q7\\xb0', b'\\x00\\x00\\x00\\x00\\x92|\\xaf\\x10\\x00\\x00\\x00\\x00\\xbb\\xa7\\xa9&\\x00\\x00\\x00\\x00\\xc9Ou\\xfd\\x00\\x00\\x00\\x00\\xb1\\x15c2\\x00\\x00\\x00\\x00\\x04\\xeeP\\x11', b'\\x00\\x00\\x00\\x00m\\xef\\xb6P\\x00\\x00\\x00\\x00\\xb1\\x07\\xe5\\x81\\x00\\x00\\x00\\x00\\xc4S\\x92m\\x00\\x00\\x00\\x00\\xcd\\x9cb\\xb2\\x00\\x00\\x00\\x000\\xcb;v', b'\\x00\\x00\\x00\\x00\\xfc}3O\\x00\\x00\\x00\\x00\\t\\x9a\\xdb\\x08\\x00\\x00\\x00\\x00a\\x06\\x13\\xf7\\x00\\x00\\x00\\x00\\xc8\\x02\"U\\x00\\x00\\x00\\x00\\xbd\\xdb\\xc9D', b'\\x00\\x00\\x00\\x00\\xaa\\xd0\\x04\\xff\\x00\\x00\\x00\\x00\\xaeP62\\x00\\x00\\x00\\x00@\\x8d-I\\x00\\x00\\x00\\x00\\x99x\\xd1!\\x00\\x00\\x00\\x00\\xcb\\x00N\\xff', b'\\x00\\x00\\x00\\x00L{\\xad\\x9e\\x00\\x00\\x00\\x00F\\xb3\\x8d\\xdb\\x00\\x00\\x00\\x00\\x1d\\xb4\\x0bp\\x00\\x00\\x00\\x00\\x8a\\xbd}7\\x00\\x00\\x00\\x00\\r\\x9d\\xbd\\xdf', b'\\x00\\x00\\x00\\x00\\xb1(\\xb3\\xd0\\x00\\x00\\x00\\x00\\xde\\x1b\\xe6\\xc8\\x00\\x00\\x00\\x00\\xa3\\xbf2\\x8d\\x00\\x00\\x00\\x00\\xd13k\\xb3\\x00\\x00\\x00\\x00Jd\\xee\\xb2', b'\\x00\\x00\\x00\\x00\\x1d\\x0c\\x13\\x0b\\x00\\x00\\x00\\x00Bq_,\\x00\\x00\\x00\\x00\\xe0,\\xc0\\x91\\x00\\x00\\x00\\x00Z\\xec\\xfe\\x80\\x00\\x00\\x00\\x003\\x14\\xee\\xb9', b'\\x00\\x00\\x00\\x00\\r,R\\xa3\\x00\\x00\\x00\\x00\\xa1\\x87\\x87]\\x00\\x00\\x00\\x00\\xd2\\xd5\\xbbc\\x00\\x00\\x00\\x00v\\xdd\\xa9\\x8c\\x00\\x00\\x00\\x00\\x9b\\x0bw\\t', b'\\x00\\x00\\x00\\x00}\\x82\\x95\\xd1\\x00\\x00\\x00\\x00\\x124\\xf5\\xc6\\x00\\x00\\x00\\x00\\xc154\\n\\x00\\x00\\x00\\x00\";\\xd7\\xac\\x00\\x00\\x00\\x00\\x01*U\\xb0', b'\\x00\\x00\\x00\\x00\\xcd\\tC\\xaa\\x00\\x00\\x00\\x00\\\\\\x16\\xa6\\xd9\\x00\\x00\\x00\\x008|u\\xb6\\x00\\x00\\x00\\x00Y__;\\x00\\x00\\x00\\x00\\x04\\xd2h`', b'\\x00\\x00\\x00\\x00&\\x89{\\xc9\\x00\\x00\\x00\\x00\\x9e\\xe8\\xea\\xc9\\x00\\x00\\x00\\x00]B8\"\\x00\\x00\\x00\\x00p\\xd7\\x9e\\xfd\\x00\\x00\\x00\\x0047\\x0bV', b'\\x00\\x00\\x00\\x00~u1\\xa5\\x00\\x00\\x00\\x00<\\xddc\\xdc\\x00\\x00\\x00\\x00{\\xd8N\\xd6\\x00\\x00\\x00\\x00\\x155\\xd1\\xea\\x00\\x00\\x00\\x00x\\xe0\\x8b:', b'\\x00\\x00\\x00\\x00#_\\x1a<\\x00\\x00\\x00\\x00G\\xack\\x8e\\x00\\x00\\x00\\x00\\xf4\\xda\\xfc7\\x00\\x00\\x00\\x00\\xe8\"\\x04\\x9c\\x00\\x00\\x00\\x00Zf\\x1ba', b'\\x00\\x00\\x00\\x00pv\\x11\\xbf\\x00\\x00\\x00\\x00\\xa4\\x8c\\xbb\\xcb\\x00\\x00\\x00\\x00\\xb9 H\\t\\x00\\x00\\x00\\x00\\x92\\xb4\\x07\\xfb\\x00\\x00\\x00\\x00|\\xb89N', b'\\x00\\x00\\x00\\x00\\x1f\\xb9\\xdbq\\x00\\x00\\x00\\x00O\\xde\\xe6\\xf6\\x00\\x00\\x00\\x00e\\xf73\\x93\\x00\\x00\\x00\\x00K\\x08\\x85\\x18\\x00\\x00\\x00\\x00\\x8a\\x17\\xd2\\xb5', b'\\x00\\x00\\x00\\x00V\\xfc\\xe2G\\x00\\x00\\x00\\x00\\xa9\\xbdk\\x88\\x00\\x00\\x00\\x00\\xd9%\\x1a\\xd0\\x00\\x00\\x00\\x00\\xa4\\xba\\xaf\\xa7\\x00\\x00\\x00\\x00OXfh', b'\\x00\\x00\\x00\\x00\\xef)\\xa2$\\x00\\x00\\x00\\x00\\xaa|\\xab\\x98\\x00\\x00\\x00\\x00\\xa9\\xe3\\xe9;\\x00\\x00\\x00\\x00]\\x0f<\\xea\\x00\\x00\\x00\\x00\\x11\\x8b\\x88\\xfd', b'\\x00\\x00\\x00\\x00i\\x8c\\xbc\\x12\\x00\\x00\\x00\\x00t\\xa9V\\xa7\\x00\\x00\\x00\\x00+b\\xa3\\x8b\\x00\\x00\\x00\\x00\\x07k\\x82\\xd7\\x00\\x00\\x00\\x00\\xb5JU\\xe6', b'\\x00\\x00\\x00\\x00w\\xe3c\\xa4\\x00\\x00\\x00\\x00\\xe0\\\\J\\xda\\x00\\x00\\x00\\x00\\xe5qL]\\x00\\x00\\x00\\x00\\x15\\xd5\\x1d\\xe6\\x00\\x00\\x00\\x00\\xceE\\x8a7', b'\\x00\\x00\\x00\\x004b\\x84q\\x00\\x00\\x00\\x00\\x16\\x02\\xdex\\x00\\x00\\x00\\x00\\xd9+\\x16\\x7f\\x00\\x00\\x00\\x00\\x16\\xf7\\tp\\x00\\x00\\x00\\x00e\\x199\\xe1', b'\\x00\\x00\\x00\\x00V\\x05m\\xbf\\x00\\x00\\x00\\x00\\xe1\\xeb\\xc1\\xd2\\x00\\x00\\x00\\x00\\x9b\\x8c\\xa4\\xd9\\x00\\x00\\x00\\x00\\xb93q\\xa0\\x00\\x00\\x00\\x00x\\xe6k\\x9c', b'\\x00\\x00\\x00\\x00,\\xcct\\x17\\x00\\x00\\x00\\x00\\xe2^\\xc6\\xa5\\x00\\x00\\x00\\x000\\x9e\\x85\\xbd\\x00\\x00\\x00\\x00\\x11\\xad\\xd1.\\x00\\x00\\x00\\x00\\xbb7\\t\\x94', b'\\x00\\x00\\x00\\x00\\xb3E\\x82\\xb6\\x00\\x00\\x00\\x00\\x83\\xc0\\x1fU\\x00\\x00\\x00\\x00I4\\xc05\\x00\\x00\\x00\\x00U\\x01\\xc2\\xed\\x00\\x00\\x00\\x00\\x12\\xe2\\xdd\\xc5', b'\\x00\\x00\\x00\\x00\\xce\\xfd\\x9d\\x02\\x00\\x00\\x00\\x00\\xe9\\xdc\\x02*\\x00\\x00\\x00\\x00\\xc4!o\\xab\\x00\\x00\\x00\\x00\\x90\\xe0\\xdd\\xd3\\x00\\x00\\x00\\x00\\x83\\xc7\\x82^', b'\\x00\\x00\\x00\\x00m\\x08\\x9f;\\x00\\x00\\x00\\x00\\xef\\xf6\\xa9\\x10\\x00\\x00\\x00\\x00\\xecb[\\xf7\\x00\\x00\\x00\\x00\\xa5\\x90\\xf2\\x9e\\x00\\x00\\x00\\x00.\\xfe\\xf4\\xe1', b'\\x00\\x00\\x00\\x00\\x98i\\xc2W\\x00\\x00\\x00\\x00\\xb1\\xae\\xdf\\x87\\x00\\x00\\x00\\x00\\xacO\\xabm\\x00\\x00\\x00\\x00d\\x93j\\xb3\\x00\\x00\\x00\\x00\\x16\\xd5Ev', b'\\x00\\x00\\x00\\x002G\\xa0K\\x00\\x00\\x00\\x00\\xe1\\xb2\\x0c\\x8b\\x00\\x00\\x00\\x00\\xf7\\xe2\\x11N\\x00\\x00\\x00\\x00\\x1d\\x88\\x03\\xa8\\x00\\x00\\x00\\x001d/i', b'\\x00\\x00\\x00\\x00M%\\x8f\\x7f\\x00\\x00\\x00\\x00[:<\\xec\\x00\\x00\\x00\\x00\\xa4*K^\\x00\\x00\\x00\\x00\\x95\\x81\\xf6y\\x00\\x00\\x00\\x00(\\xc3\\xa7q', b'\\x00\\x00\\x00\\x00\\x82:=l\\x00\\x00\\x00\\x004d\\xb5\\xf4\\x00\\x00\\x00\\x00\\xe0\\xd8\\x15\\r\\x00\\x00\\x00\\x00\\xc0\\x1f\\xf1\\x16\\x00\\x00\\x00\\x00\\x00\\xc7\\xf9\\xb5', b'\\x00\\x00\\x00\\x00\\xb8\\xae\\xa2\\x8b\\x00\\x00\\x00\\x00\\xc4\\xf9Kj\\x00\\x00\\x00\\x00\\xff6\\xed\\xfe\\x00\\x00\\x00\\x00ci\\x15)\\x00\\x00\\x00\\x00\\x9c\\x0b\\x81L', b'\\x00\\x00\\x00\\x00\\x17\\x9a\\xe8\\x95\\x00\\x00\\x00\\x00\\xec\\xeaX_\\x00\\x00\\x00\\x00A-KL\\x00\\x00\\x00\\x00\"\\xe6\\x12\\x8a\\x00\\x00\\x00\\x00q#\\xa5\\x01', b'\\x00\\x00\\x00\\x007?y\\xd0\\x00\\x00\\x00\\x00\\xbfB\\x83\\xc4\\x00\\x00\\x00\\x00\\xeb\\x15\\x8f\\n\\x00\\x00\\x00\\x00Z\\x85o\\xb0\\x00\\x00\\x00\\x00\\x9c\\xfa\\x13\\xb6', b\"\\x00\\x00\\x00\\x00a\\xc1@\\x99\\x00\\x00\\x00\\x00=\\x0cxa\\x00\\x00\\x00\\x00\\x9d%\\xa5\\x80\\x00\\x00\\x00\\x00\\xc5\\xaa \\xde\\x00\\x00\\x00\\x00'\\x18\\x88\\xb2\", b'\\x00\\x00\\x00\\x00\\xa9f(\\x90\\x00\\x00\\x00\\x00\\x0b\\x17lh\\x00\\x00\\x00\\x00\\xc3MC\\x18\\x00\\x00\\x00\\x00\\xf9\\x19\\x142\\x00\\x00\\x00\\x00a\\xf6\\x15P', b'\\x00\\x00\\x00\\x00\\xb5\\x8e8\\x1a\\x00\\x00\\x00\\x00Y\\xe4|\\xa1\\x00\\x00\\x00\\x00H\\xbb\\xf9\\x1d\\x00\\x00\\x00\\x00\\xf5;\\xa5\\xdd\\x00\\x00\\x00\\x00\\x82p\\xb6\\xee', b'\\x00\\x00\\x00\\x00\\xfej\\xe0\\x8f\\x00\\x00\\x00\\x00R\\xe2xg\\x00\\x00\\x00\\x00\\x1aZ|\\xb2\\x00\\x00\\x00\\x00\\xec\\xdb\\xe7|\\x00\\x00\\x00\\x00\\xb7gy\\xf8', b'\\x00\\x00\\x00\\x00\\xad}\\x88-\\x00\\x00\\x00\\x00_\\x92\\x04\\x96\\x00\\x00\\x00\\x00\\xa2E\\x15\\xef\\x00\\x00\\x00\\x00\\xd4\\xb6\\x7f<\\x00\\x00\\x00\\x00L\"\\x8d\\xaa', b'\\x00\\x00\\x00\\x00@\\xba\\xa5\\xdc\\x00\\x00\\x00\\x00\\x8b#\\x85\\xbe\\x00\\x00\\x00\\x00L\\x9e\\xf0o\\x00\\x00\\x00\\x00\\xc6N4]\\x00\\x00\\x00\\x00e\\xba\\xed\\r', b'\\x00\\x00\\x00\\x00:\\xa6\\xf6`\\x00\\x00\\x00\\x00\\xef!u\\x80\\x00\\x00\\x00\\x00\\xe8\\xf1\\xe37\\x00\\x00\\x00\\x00\\x00M\\xdc\\x13\\x00\\x00\\x00\\x00\\xb4\\xbaZ-', b'\\x00\\x00\\x00\\x00#\\x1a\\xdaw\\x00\\x00\\x00\\x00\\xd4\\x88\\xb3s\\x00\\x00\\x00\\x00!m^\\xff\\x00\\x00\\x00\\x00\\x8fcmn\\x00\\x00\\x00\\x00\\x8c~V\\xe3', b'\\x00\\x00\\x00\\x00|^1\\x8e\\x00\\x00\\x00\\x00\\x12+\\xcf\\xea\\x00\\x00\\x00\\x00\\x1fv\\xc5x\\x00\\x00\\x00\\x00\\xe9<]~\\x00\\x00\\x00\\x00y\\xe7}x', b'\\x00\\x00\\x00\\x00\\xef\\xfc\\x85e\\x00\\x00\\x00\\x00\\x95\\x80\\xf9\\xfc\\x00\\x00\\x00\\x00\\x066:\\xa9\\x00\\x00\\x00\\x007e$d\\x00\\x00\\x00\\x00 \\xcbVW', b'\\x00\\x00\\x00\\x00\\x0c\\x97\\x1f\\xf2\\x00\\x00\\x00\\x00\\xd8%\\xc4\\xb6\\x00\\x00\\x00\\x00\\xd6\\xe3\\\\\\xf1\\x00\\x00\\x00\\x008z(\\x17\\x00\\x00\\x00\\x00a-\\xd6r', b'\\x00\\x00\\x00\\x00\\x0b1\\xd9\\xd7\\x00\\x00\\x00\\x00I\\x16\\x9f\\xc6\\x00\\x00\\x00\\x00\\x8a\\xe7OA\\x00\\x00\\x00\\x00\\xb7\\xce.\\x05\\x00\\x00\\x00\\x00\\xe7\\xf8Se', b'\\x00\\x00\\x00\\x00\\x00\\x02\\xa8b\\x00\\x00\\x00\\x00-)\\x9c\\x7f\\x00\\x00\\x00\\x00/\\x9f\\x00\\xb4\\x00\\x00\\x00\\x00\\xc0\\x96(\\x13\\x00\\x00\\x00\\x00\\x1f\\x9a\\x99-', b'\\x00\\x00\\x00\\x00H\\xe6:\\x0f\\x00\\x00\\x00\\x00\\xf4)K\\xa6\\x00\\x00\\x00\\x00\\x86\\x1c1\\xd1\\x00\\x00\\x00\\x00\\xf6x\\xd8|\\x00\\x00\\x00\\x00s\\xc0\\xcf9', b'\\x00\\x00\\x00\\x00\\xed\\t|b\\x00\\x00\\x00\\x00J\\xb4\\xe6\\x7f\\x00\\x00\\x00\\x00\\x93N\\x97\\x85\\x00\\x00\\x00\\x00\\xf6\\x9d\\xe1\\xbb\\x00\\x00\\x00\\x00\\xf6\\xd7\\xaf\\x80', b'\\x00\\x00\\x00\\x00H\\r\\xaa\\x10\\x00\\x00\\x00\\x00\\x0b@+\\xa8\\x00\\x00\\x00\\x00B\\xf1\\xf6>\\x00\\x00\\x00\\x00\\x15mu.\\x00\\x00\\x00\\x006&6\\x91', b'\\x00\\x00\\x00\\x00\\x07\\x85\\xdfc\\x00\\x00\\x00\\x00\\xf1=\\x00\\xfe\\x00\\x00\\x00\\x00R\\x19\\xfd\\xf9\\x00\\x00\\x00\\x00\\x1a!b\\r\\x00\\x00\\x00\\x00\\x80\\xfc\\xb1\\xa8', b'\\x00\\x00\\x00\\x00\\xa6+\\xc0\\n\\x00\\x00\\x00\\x00\\xd1\\xf8\\x88\\xaa\\x00\\x00\\x00\\x00\\xcf\\x86\\x9eT\\x00\\x00\\x00\\x00\\xfeo\\\\|\\x00\\x00\\x00\\x00\\xa0\\x17\\x948', b'\\x00\\x00\\x00\\x00\\xbcT V\\x00\\x00\\x00\\x00$\\xe0\\xfc\\x85\\x00\\x00\\x00\\x00\\xb7\\xffR!\\x00\\x00\\x00\\x00k\\x81\\xf9)\\x00\\x00\\x00\\x00f\\xff\\xae#', b'\\x00\\x00\\x00\\x00\\xf9pa\\xa5\\x00\\x00\\x00\\x00AB\\x7f\\xda\\x00\\x00\\x00\\x00\\xfd;z\\xa4\\x00\\x00\\x00\\x00\\xcb\\x8fs\\x8c\\x00\\x00\\x00\\x00\\xe1\\x9cC\\x8c', b'\\x00\\x00\\x00\\x00\\xfd\\x19\\xd7\\x10\\x00\\x00\\x00\\x00s\\xa3\\xc9)\\x00\\x00\\x00\\x00\\xb7\\x13\\xbb\\xcb\\x00\\x00\\x00\\x00%^T\\xd8\\x00\\x00\\x00\\x00gQ\\xacf', b'\\x00\\x00\\x00\\x00\\xb2\\xc7b\\x05\\x00\\x00\\x00\\x00\\xf9\\xd6\\x1f\\xae\\x00\\x00\\x00\\x00\\xe0C\\xffp\\x00\\x00\\x00\\x00\\xc4\\xf5K\\xd2\\x00\\x00\\x00\\x00o\\xcb;\\xd9', b'\\x00\\x00\\x00\\x00LCn\\xba\\x00\\x00\\x00\\x00\\xedruS\\x00\\x00\\x00\\x00\\xf0\\xc1\\xb9g\\x00\\x00\\x00\\x00\\xf9\\x02\\x89E\\x00\\x00\\x00\\x00\\xbdDgq', b\"\\x00\\x00\\x00\\x00\\xd1r'\\x88\\x00\\x00\\x00\\x00s\\xb6\\x88\\xec\\x00\\x00\\x00\\x00\\xd3I\\xcd\\xc1\\x00\\x00\\x00\\x00\\xa0\\x14\\x03*\\x00\\x00\\x00\\x00\\xf3\\x0fZ\\xc7\", b'\\x00\\x00\\x00\\x00\\x0ci\\xbb\\\\\\x00\\x00\\x00\\x00\\x04q\\xc7\\x00\\x00\\x00\\x00\\x00\\x8a\\xfb\\xba\\xc1\\x00\\x00\\x00\\x00W\\xa3\\xcb\\xba\\x00\\x00\\x00\\x00\\x88\\xe6\\xa4\\x00', b'\\x00\\x00\\x00\\x00\\xd2ob\\xa2\\x00\\x00\\x00\\x00nh\\xb3[\\x00\\x00\\x00\\x00{\\x8dO7\\x00\\x00\\x00\\x00Gt\\x8b5\\x00\\x00\\x00\\x00\\xb9\\x85\\xbf]', b'\\x00\\x00\\x00\\x00\\xd71r\\xec\\x00\\x00\\x00\\x00l\\xc1\\x9b8\\x00\\x00\\x00\\x00\\xdf\\x0c\\xff.\\x00\\x00\\x00\\x00)\\xf3\\xca\\x16\\x00\\x00\\x00\\x00\\xd7\\xc60\\xf6', b'\\x00\\x00\\x00\\x00\\xa6{\\x1e\\xbf\\x00\\x00\\x00\\x00\\xdb\\xc15M\\x00\\x00\\x00\\x00\\x0e&\\xad\\xca\\x00\\x00\\x00\\x00\\xab<\\xa5\\xf7\\x00\\x00\\x00\\x00c\\xdc\\xae\\xd1', b'\\x00\\x00\\x00\\x00Q\\x1b\\x10\\xf9\\x00\\x00\\x00\\x00\\xb4\\x0e\\xb0-\\x00\\x00\\x00\\x00Q2\\x06L\\x00\\x00\\x00\\x00\\x0b\\xe5\\xd9 \\x00\\x00\\x00\\x00\\xc2\\xcd\\xd8\\xff', b'\\x00\\x00\\x00\\x00\\x1b\\xa0\\xc6\\x90\\x00\\x00\\x00\\x00\\x1e\\x86\\xd1h\\x00\\x00\\x00\\x00\\xc8})i\\x00\\x00\\x00\\x00Z\\xef)\\xd9\\x00\\x00\\x00\\x00P\\xe5~\\xa3', b'\\x00\\x00\\x00\\x00[\\\\\\x10\\xfe\\x00\\x00\\x00\\x00\\xc1\\xee00\\x00\\x00\\x00\\x001\\xee\\xc6F\\x00\\x00\\x00\\x00\\xec\\xfb\\xd9!\\x00\\x00\\x00\\x00\\xac\\x99Y\\x01', b'\\x00\\x00\\x00\\x00\\xf7P9Q\\x00\\x00\\x00\\x00y#X\\n\\x00\\x00\\x00\\x00\\xf8<\\xa0v\\x00\\x00\\x00\\x00\\xc3a\\xa6V\\x00\\x00\\x00\\x006]\\xceE', b'\\x00\\x00\\x00\\x00\\xad\\xaay\\x82\\x00\\x00\\x00\\x00\\xb3`\\x94\\x9e\\x00\\x00\\x00\\x00\\xad\\xf4k\\x12\\x00\\x00\\x00\\x00\\x0c\\xc1\\x149\\x00\\x00\\x00\\x00:\\xdeR\\x9f', b'\\x00\\x00\\x00\\x00\\xae\\xc8Y\\xa2\\x00\\x00\\x00\\x00\\x93\\xfe\\x83\\xdd\\x00\\x00\\x00\\x00\\x96m\\x14\\xa9\\x00\\x00\\x00\\x00l\"\\xc3\\x92\\x00\\x00\\x00\\x00\\xae0\\xe7\\x88', b\"\\x00\\x00\\x00\\x00\\x87\\xe9+\\xa2\\x00\\x00\\x00\\x00\\x11\\x84\\x1a\\xdf\\x00\\x00\\x00\\x00*\\xeb\\x8a'\\x00\\x00\\x00\\x00\\xc0\\xcb\\xcf\\x93\\x00\\x00\\x00\\x00gH\\x16\\x8f\", b'\\x00\\x00\\x00\\x00\\x1f\\xfa\\xcdA\\x00\\x00\\x00\\x00\\xd2\\xc2*\\x0f\\x00\\x00\\x00\\x00\\xd0U\\x16\\xe2\\x00\\x00\\x00\\x00\\x98R\\xe3R\\x00\\x00\\x00\\x00\\xfd0%=', b'\\x00\\x00\\x00\\x00\\x06\\x89\\xf3\\xf7\\x00\\x00\\x00\\x00\\r\\xaa\\xf8\\xfc\\x00\\x00\\x00\\x00N\\x12\\\\S\\x00\\x00\\x00\\x00\\xcb\\xf13\\xb9\\x00\\x00\\x00\\x00(\\xeb\\xa5\\xfe', b'\\x00\\x00\\x00\\x00\\xae\\x90I\\x83\\x00\\x00\\x00\\x00\\xc1\\x80+\\xec\\x00\\x00\\x00\\x00\\xf3\\xc6\\x87\\x0e\\x00\\x00\\x00\\x00T5p\\xce\\x00\\x00\\x00\\x00\\xcb\\xb6\\xb2\\x1b', b'\\x00\\x00\\x00\\x00pU&\\x80\\x00\\x00\\x00\\x00\\x14\\x97qn\\x00\\x00\\x00\\x00\\xc2\\xbb\\x10\\x98\\x00\\x00\\x00\\x00e\\xadp{\\x00\\x00\\x00\\x00IX\\x0f\\xee', b'\\x00\\x00\\x00\\x00\\x9f2\\x17G\\x00\\x00\\x00\\x00,\\xd1\\xd1\\x08\\x00\\x00\\x00\\x00\\xb0\\xc1~\\x91\\x00\\x00\\x00\\x00\\xa2R\\xbd\\xa7\\x00\\x00\\x00\\x00\\x07\\x01\\xa7\\xeb', b'\\x00\\x00\\x00\\x00\\x13\\x0b\\xb9u\\x00\\x00\\x00\\x00i\\xddC\\xf3\\x00\\x00\\x00\\x00\\x07\\x0ezC\\x00\\x00\\x00\\x00H\\x87\\x17o\\x00\\x00\\x00\\x00\\xc0x{f', b'\\x00\\x00\\x00\\x00q\\xf6:\\xe7\\x00\\x00\\x00\\x00\\x06\\xdc\\x9f7\\x00\\x00\\x00\\x00mK\\x04\\xc6\\x00\\x00\\x00\\x00\\xce/\\xfdi\\x00\\x00\\x00\\x00\\xb3\\x16M\\x99', b'\\x00\\x00\\x00\\x00\\xf0\\xd6\\x95$\\x00\\x00\\x00\\x00\\xce\\xc1\\xe6\\x1f\\x00\\x00\\x00\\x00\\xb4\\xbb\\x8bF\\x00\\x00\\x00\\x00\\x01. \\x8f\\x00\\x00\\x00\\x00\\x87?#\\xcf', b'\\x00\\x00\\x00\\x00\\xa5N\\x92\\x02\\x00\\x00\\x00\\x00\\xe5\"\\x87\\xaa\\x00\\x00\\x00\\x00@\\x1f\\xa3n\\x00\\x00\\x00\\x00\\xee\\xfbk\\xd3\\x00\\x00\\x00\\x00{7\\xe3\\xda', b'\\x00\\x00\\x00\\x00\\xc1\\\\\\xc4\\xe2\\x00\\x00\\x00\\x00N\\x8c\\xc2B\\x00\\x00\\x00\\x00\\x9e\\xd3s\\xe3\\x00\\x00\\x00\\x00q\\xb1\\xdc\\xbb\\x00\\x00\\x00\\x00S\\xeaa:', b'\\x00\\x00\\x00\\x00\\x83\\x14Av\\x00\\x00\\x00\\x00\\xcd\\xf0\\xff\\xf2\\x00\\x00\\x00\\x00yk@D\\x00\\x00\\x00\\x00\\xbd\\xfe\\xc7p\\x00\\x00\\x00\\x00S\\xa9\\x97e', b'\\x00\\x00\\x00\\x00$)\\x1e\\xf3\\x00\\x00\\x00\\x005\\xb7\\x118\\x00\\x00\\x00\\x00\\x91\\xcaHb\\x00\\x00\\x00\\x00@\\x8b\\x10l\\x00\\x00\\x00\\x00\\xc1\\xa7\\xda\\xa1', b'\\x00\\x00\\x00\\x00\\x9f&\\x13*\\x00\\x00\\x00\\x00\\xa6!s\\x17\\x00\\x00\\x00\\x00v\\xb4\\x89\\xf7\\x00\\x00\\x00\\x00\\xe5\\xa8r\\xe4\\x00\\x00\\x00\\x00\\xa5\\xd0|z', b'\\x00\\x00\\x00\\x00q\\xd67p\\x00\\x00\\x00\\x00\\x8bR\\x04\\xf6\\x00\\x00\\x00\\x00z\\xe8@\\xc1\\x00\\x00\\x00\\x00\\x06n\\xebq\\x00\\x00\\x00\\x00+\\xc9dg', b'\\x00\\x00\\x00\\x00k\\x87\\x10\\xbb\\x00\\x00\\x00\\x00\\x01V\\xa4Q\\x00\\x00\\x00\\x00#\\xdc\\n\\xe4\\x00\\x00\\x00\\x00\\xedAuI\\x00\\x00\\x00\\x009Q\\xeer', b'\\x00\\x00\\x00\\x00\\x9f~K\\xe6\\x00\\x00\\x00\\x00\\xa9\\xeeJ\\xbd\\x00\\x00\\x00\\x00\\xadPeZ\\x00\\x00\\x00\\x00\\xfbTu\\r\\x00\\x00\\x00\\x00}\\xc6\\x01n', b'\\x00\\x00\\x00\\x00\\xefu? \\x00\\x00\\x00\\x00\\xce\\x90\\x91 \\x00\\x00\\x00\\x000\\x8e\\x82\\xc9\\x00\\x00\\x00\\x00\"\\xbb\\xbc\\x93\\x00\\x00\\x00\\x00Bb\\x86\\xcd', b'\\x00\\x00\\x00\\x00\\xc4\\x95\\xdb\\xce\\x00\\x00\\x00\\x001\\xb0\\x06\\xc5\\x00\\x00\\x00\\x00\\x19\\xdfxV\\x00\\x00\\x00\\x00_\\\\]Z\\x00\\x00\\x00\\x00h K\\x05', b'\\x00\\x00\\x00\\x00\\xc80)K\\x00\\x00\\x00\\x00\\xfe(\\xc8\\x0b\\x00\\x00\\x00\\x00\\xdd\\x04\\xe4\\x15\\x00\\x00\\x00\\x00\\xcd_I\\xa4\\x00\\x00\\x00\\x00\\x15\\xe16\\xe6', b'\\x00\\x00\\x00\\x00h#\\xe4\\xa4\\x00\\x00\\x00\\x00}\\x0f\\n^\\x00\\x00\\x00\\x00[\\x85\\xb9\\x1d\\x00\\x00\\x00\\x00\\x14?\\xb3\\xe5\\x00\\x00\\x00\\x00\\xc8\\xd75\\xb8', b'\\x00\\x00\\x00\\x00\\xc2W\\x1b{\\x00\\x00\\x00\\x00vX*\\xee\\x00\\x00\\x00\\x00c\\x8a\\x8c+\\x00\\x00\\x00\\x008\\xd9\\x80\\x1e\\x00\\x00\\x00\\x00\\xef\\xb5\\x01\\xbd', b'\\x00\\x00\\x00\\x00\\xe2\\xf5\\xa8Z\\x00\\x00\\x00\\x00\\x07U\\x84\\x80\\x00\\x00\\x00\\x002\\xbaPN\\x00\\x00\\x00\\x00@\\xaf+_\\x00\\x00\\x00\\x00\\x9cW9\\xcf', b'\\x00\\x00\\x00\\x00\\xb4\\x7f\\x1a\\xfe\\x00\\x00\\x00\\x00\\x9f\\x9a\\xab/\\x00\\x00\\x00\\x00\\x9b\\x19\\x85\\xc7\\x00\\x00\\x00\\x00\\x7f\\xb9\\xb5!\\x00\\x00\\x00\\x00\\xbe\\xa3\\x0b\\xff', b'\\x00\\x00\\x00\\x00e^\\xc9\\xab\\x00\\x00\\x00\\x00\\xcc]\\xe3\\xd7\\x00\\x00\\x00\\x00x\\n\\x19\\t\\x00\\x00\\x00\\x00w!`C\\x00\\x00\\x00\\x00\\xc42\\xce\\xe7', b'\\x00\\x00\\x00\\x00\\x01\\x88\\x86\\x99\\x00\\x00\\x00\\x00\\x0c-\\x89c\\x00\\x00\\x00\\x008\\xc6\\xe9\\xcd\\x00\\x00\\x00\\x00\\xc8B\\xa6\\x88\\x00\\x00\\x00\\x00#\\xa4}\\xff', b'\\x00\\x00\\x00\\x00r4\\x19\\xf3\\x00\\x00\\x00\\x00\\x88eG\\xb7\\x00\\x00\\x00\\x00-@\\xd0s\\x00\\x00\\x00\\x00N\\xba\\xa4\\x1a\\x00\\x00\\x00\\x00o\\xb3\\xd1x', b'\\x00\\x00\\x00\\x00\\x917\\xb2\\xcb\\x00\\x00\\x00\\x00\\xe3\\xb9\\x83K\\x00\\x00\\x00\\x00w\\xe1\\xfd5\\x00\\x00\\x00\\x00\\xa6\\xf0Z\\xa6\\x00\\x00\\x00\\x00S@\\xb4+', b\"\\x00\\x00\\x00\\x00zDcB\\x00\\x00\\x00\\x00t\\x92\\x13\\x11\\x00\\x00\\x00\\x00'S\\xd7)\\x00\\x00\\x00\\x00z\\xf6H\\xf5\\x00\\x00\\x00\\x00\\r\\x0c\\xb2\\x8b\", b\"\\x00\\x00\\x00\\x00\\xd2\\xc0\\xe7K\\x00\\x00\\x00\\x00\\x0f'\\xb5\\x06\\x00\\x00\\x00\\x00\\xcc\\xbd\\xd2\\xc1\\x00\\x00\\x00\\x00\\xe6\\xd5\\x1b\\xfe\\x00\\x00\\x00\\x00|8\\xef\\x97\", b'\\x00\\x00\\x00\\x00\\\\\\xd5\\x93\\xa9\\x00\\x00\\x00\\x00\\x03s2\\xdb\\x00\\x00\\x00\\x00\"!0]\\x00\\x00\\x00\\x00?\\x8d=\\xea\\x00\\x00\\x00\\x00\\x04 \\xb29', b'\\x00\\x00\\x00\\x00\\x1d0H\\xd3\\x00\\x00\\x00\\x00$g\\x1cE\\x00\\x00\\x00\\x00\\x93U\\xdeI\\x00\\x00\\x00\\x00\\xa5\\xaf\\xb9\\xae\\x00\\x00\\x00\\x00\\x825\\x804', b'\\x00\\x00\\x00\\x00\\xae\\x0fM1\\x00\\x00\\x00\\x00w\\xd5n\\x17\\x00\\x00\\x00\\x00\\xdf\\x9d\\x1d\\xdf\\x00\\x00\\x00\\x00\\x91\\x9fk\\x95\\x00\\x00\\x00\\x00\\xaf\\x896\\xd8', b'\\x00\\x00\\x00\\x00$\\x89It\\x00\\x00\\x00\\x00\\x85{\\xc7\\xf2\\x00\\x00\\x00\\x00{.\\xdew\\x00\\x00\\x00\\x00@-\\xf5\\xcb\\x00\\x00\\x00\\x00\\x85\\x11c\\x15', b'\\x00\\x00\\x00\\x00\\xe2\\x19+\\x19\\x00\\x00\\x00\\x00\\xa1h\\x03\\x1d\\x00\\x00\\x00\\x00<a\\x93]\\x00\\x00\\x00\\x00\\r\\x13\\x07\\xe0\\x00\\x00\\x00\\x00v\\xc4Aq', b'\\x00\\x00\\x00\\x00\\xaa\\x03\\xb1\\xb9\\x00\\x00\\x00\\x00\\x93\\xf8\\x9f\\xd3\\x00\\x00\\x00\\x00En\\x87\\xdb\\x00\\x00\\x00\\x00\\x9ekI\\xa3\\x00\\x00\\x00\\x00\\x1c\\xf9\\xf9\\x9c', b'\\x00\\x00\\x00\\x00\\xae5\\x13\\xbf\\x00\\x00\\x00\\x00\\xc9S:\\xce\\x00\\x00\\x00\\x00\\x8e\\x1f\\xa1\\x8a\\x00\\x00\\x00\\x00\\xb3\\xdd3\\xfa\\x00\\x00\\x00\\x00\\x82d\\x90K', b'\\x00\\x00\\x00\\x00\\x86\\xdc\\xd8\\xf8\\x00\\x00\\x00\\x00\\xc6X\\x800\\x00\\x00\\x00\\x00\\x7f\\xc9D\\x18\\x00\\x00\\x00\\x00\\x97\\x04\\x8a\\xca\\x00\\x00\\x00\\x00fBeU', b'\\x00\\x00\\x00\\x00;\\x9az\\xda\\x00\\x00\\x00\\x00(\\x15OB\\x00\\x00\\x00\\x00\\xde\\xbbS\\xfd\\x00\\x00\\x00\\x00I\\x9b\\x84\\t\\x00\\x00\\x00\\x00V\\xd3n\\xe2', b'\\x00\\x00\\x00\\x00@\\x11D\\x80\\x00\\x00\\x00\\x00s \\xaem\\x00\\x00\\x00\\x00\\x01\\x9d\\x07L\\x00\\x00\\x00\\x00\\xa7-\\x82\\xcd\\x00\\x00\\x00\\x00\\xa06\\x98\\x9b', b'\\x00\\x00\\x00\\x00\\xf7\\xef\\x83\\xc2\\x00\\x00\\x00\\x00f\\xc6\\x02\\xd1\\x00\\x00\\x00\\x00\\xb7H\\xb5\\x88\\x00\\x00\\x00\\x00j\\xaa\\xd3\\xf6\\x00\\x00\\x00\\x00\\xf56\\x98O', b'\\x00\\x00\\x00\\x00\\xdf\\xa3E\\xa6\\x00\\x00\\x00\\x00\\x9a\\x15\\r\\xdf\\x00\\x00\\x00\\x00\\xf1\\xfcU\\xa6\\x00\\x00\\x00\\x00Z\\xfd\\x0b\\x8d\\x00\\x00\\x00\\x00\\x15\\xf9\\x01\\x89', b'\\x00\\x00\\x00\\x00\\xae3\\xe3\\xcc\\x00\\x00\\x00\\x00\\xd1y\\x02\\xc4\\x00\\x00\\x00\\x00\\x7fn^X\\x00\\x00\\x00\\x00\\xac\\xed\\rY\\x00\\x00\\x00\\x00\\x08\\xd8\\xa7\\t', b'\\x00\\x00\\x00\\x00\\x8a\\x8c\\xad\\x99\\x00\\x00\\x00\\x00k\\xfd\\xc1\\xe2\\x00\\x00\\x00\\x00\\xb0\\xcdSB\\x00\\x00\\x00\\x00\\x84\\x0e\\xfe\\xdf\\x00\\x00\\x00\\x00\\xab\\xdaN2', b'\\x00\\x00\\x00\\x00h$\\xeb\\x03\\x00\\x00\\x00\\x00u\\x92[+\\x00\\x00\\x00\\x00\\x0cz\\x921\\x00\\x00\\x00\\x00\\x0eZ\\x91\\xd2\\x00\\x00\\x00\\x00;i\\xc3X', b'\\x00\\x00\\x00\\x00\\xd5\\xb56\\x0c\\x00\\x00\\x00\\x00\\xdc#\\x19\\xa7\\x00\\x00\\x00\\x00\\xce2\\xb7\\x06\\x00\\x00\\x00\\x00W\\xe8\\xfe\\xd8\\x00\\x00\\x00\\x00/\\xa4\\x90\\xe7', b\"\\x00\\x00\\x00\\x00\\x91\\x00\\x11\\x8f\\x00\\x00\\x00\\x00\\xe2(+\\xea\\x00\\x00\\x00\\x00)\\x06%\\xa9\\x00\\x00\\x00\\x00\\xed\\xda\\x1b\\xd7\\x00\\x00\\x00\\x00\\xf8\\xd7\\xfd'\", b'\\x00\\x00\\x00\\x00\\xe9\\xcf\\xa3\\xdb\\x00\\x00\\x00\\x00\\xae\\xf3\\x06\\xc4\\x00\\x00\\x00\\x00N\\xae\\x96\\xf0\\x00\\x00\\x00\\x00\\x91]\\x08_\\x00\\x00\\x00\\x00\\x94\\x14\\x96\\x0e', b'\\x00\\x00\\x00\\x00\\xc2z:\\xf1\\x00\\x00\\x00\\x00f\\xa2\\x833\\x00\\x00\\x00\\x00.\\x9cmf\\x00\\x00\\x00\\x00Ruxm\\x00\\x00\\x00\\x00\\xe0\\xb9\\x1c\\xa6', b'\\x00\\x00\\x00\\x003\\x99\\xe5+\\x00\\x00\\x00\\x00.\\xfd\\x8a\\x1e\\x00\\x00\\x00\\x00\\x19\\x95?y\\x00\\x00\\x00\\x00\\t\\xf3~\\xe4\\x00\\x00\\x00\\x00\\xd2\\xc2+|', b'\\x00\\x00\\x00\\x00K^<\\x94\\x00\\x00\\x00\\x00\\xc3D\\xaef\\x00\\x00\\x00\\x00\\xe3\\xff\\xbaP\\x00\\x00\\x00\\x00\\x92\\x85J\\x86\\x00\\x00\\x00\\x00q\\xafk\\x04', b'\\x00\\x00\\x00\\x00\\x80\\xe6\\xb3\\x89\\x00\\x00\\x00\\x00i`B\\xe9\\x00\\x00\\x00\\x00U\\xbf\\xc6\\xc5\\x00\\x00\\x00\\x00\\xf7R\\x0b%\\x00\\x00\\x00\\x00)\\n$\\xcb', b'\\x00\\x00\\x00\\x00\\\\\\xee\\x9c\\x1c\\x00\\x00\\x00\\x00\\xd1M\\x96\\x9b\\x00\\x00\\x00\\x00\\x93\\xc0lU\\x00\\x00\\x00\\x00+v\\xbc7\\x00\\x00\\x00\\x00\\x0e\\x0f\\xa4\\xa1', b'\\x00\\x00\\x00\\x00-\\x1d\\x93E\\x00\\x00\\x00\\x00\\x93\\x10\\x13\\n\\x00\\x00\\x00\\x00{\\xc3\\xeb\\x8e\\x00\\x00\\x00\\x00*Qe\\xa4\\x00\\x00\\x00\\x004\\xb69\\xe8', b'\\x00\\x00\\x00\\x00\\x18M\\xba\\xae\\x00\\x00\\x00\\x00$\\xb6\\xb7X\\x00\\x00\\x00\\x00\\xf7\\xae\\x11\\xfe\\x00\\x00\\x00\\x00\\n\\xf6\\x14\\x9b\\x00\\x00\\x00\\x00\\x97sr\\x15', b'\\x00\\x00\\x00\\x00}c^\\x14\\x00\\x00\\x00\\x00\\xb4\\x9e\\x9d\\xa4\\x00\\x00\\x00\\x00\\xcbN%j\\x00\\x00\\x00\\x00\\xfe\\x15k\\x87\\x00\\x00\\x00\\x00\\xda`<C', b'\\x00\\x00\\x00\\x00\\x1c\\r\\ni\\x00\\x00\\x00\\x00\\xb1\\x97\\xb7y\\x00\\x00\\x00\\x00V^\\xdal\\x00\\x00\\x00\\x00\\x16.\\x12e\\x00\\x00\\x00\\x00\\xf8$\\xaf\\xda', b\"\\x00\\x00\\x00\\x00]K\\xd3\\x00\\x00\\x00\\x00\\x00\\xd1\\x89\\x9b/\\x00\\x00\\x00\\x00\\x15\\x1b'\\xfb\\x00\\x00\\x00\\x00\\x1d\\x9a\\x03{\\x00\\x00\\x00\\x00n\\xc5?\\xae\", b'\\x00\\x00\\x00\\x00\\x89\\x8d\\xeeK\\x00\\x00\\x00\\x00\\x9bX\\xe5\\x8d\\x00\\x00\\x00\\x00\\xdaFs\\xd1\\x00\\x00\\x00\\x00\\xc2+\\xb7\\xa4\\x00\\x00\\x00\\x00\\xf3\\x8a\\xf0g', b'\\x00\\x00\\x00\\x00\\x01\\x1eY\\xb0\\x00\\x00\\x00\\x00\\x88\\xdbg\\xd6\\x00\\x00\\x00\\x00\\xca\\xf3\\xfdC\\x00\\x00\\x00\\x00ot>\\x96\\x00\\x00\\x00\\x00n\\x82\\xb6\\x94', b'\\x00\\x00\\x00\\x00G C\\x83\\x00\\x00\\x00\\x00b\\x98\\xe2\\xf0\\x00\\x00\\x00\\x00\\x8b~\\xc2[\\x00\\x00\\x00\\x00>3nu\\x00\\x00\\x00\\x00\\xd4`=n', b'\\x00\\x00\\x00\\x00\\x04\\xb7\\x1c\\x95\\x00\\x00\\x00\\x00W8>e\\x00\\x00\\x00\\x00\\x11l\\xe2L\\x00\\x00\\x00\\x00\\xcf\\xb8\\x8a\\x87\\x00\\x00\\x00\\x00>\\x91{\\x03', b'\\x00\\x00\\x00\\x00D\\xf3\\xe5\\xdd\\x00\\x00\\x00\\x00\\x97t1\\xbe\\x00\\x00\\x00\\x00\\xea8X\\xa4\\x00\\x00\\x00\\x00\\xe2>2\\xba\\x00\\x00\\x00\\x00\\xbf\\x8c<\\xbf', b'\\x00\\x00\\x00\\x00\\x06C5\\xd5\\x00\\x00\\x00\\x00\\xe0a\\xf1\\xbf\\x00\\x00\\x00\\x00\\xfd\\xcc\\xa4A\\x00\\x00\\x00\\x00\\xaa\\x1e\\x16\\x07\\x00\\x00\\x00\\x00\\x88\\xa4u^', b'\\x00\\x00\\x00\\x00\\x0c\\x86a\\x90\\x00\\x00\\x00\\x00\\xa0U\\x03\\xe6\\x00\\x00\\x00\\x00yV\\xa1\\xa8\\x00\\x00\\x00\\x00b<\\xfb\\xda\\x00\\x00\\x00\\x00\\x87V\\x95\"', b'\\x00\\x00\\x00\\x00g@\\xd8\\xf8\\x00\\x00\\x00\\x00\\xc2&\\x801\\x00\\x00\\x00\\x00d\\xc4D\\x19\\x00\\x00\\x00\\x00-\\x9c\\x8a\\xc8\\x00\\x00\\x00\\x00\\xde@eN', b'\\x00\\x00\\x00\\x00\\xd6\\x0b\\x99\\x83\\x00\\x00\\x00\\x00\\xda\\x057\\xee\\x00\\x00\\x00\\x00HKJ\\xdd\\x00\\x00\\x00\\x00\\xc1\\x81\\xd2u\\x00\\x00\\x00\\x00\\x1b\\xaf\\xdal', b'\\x00\\x00\\x00\\x00<\\xd8\\n\\xde\\x00\\x00\\x00\\x00J\\x81\\x1f=\\x00\\x00\\x00\\x00\\x85\\xeb0a\\x00\\x00\\x00\\x00of\\xe0\\xbb\\x00\\x00\\x00\\x00\\xcd\\xf3F?', b'\\x00\\x00\\x00\\x00\\xdc6\\xb2h\\x00\\x00\\x00\\x00\\n\\xfa\\xe3~\\x00\\x00\\x00\\x00`!\\xf8l\\x00\\x00\\x00\\x00_\\x15\\xd1!\\x00\\x00\\x00\\x00\\x94.\\xbb\\xdc', b\"\\x00\\x00\\x00\\x00\\x8f\\xb2'\\xec\\x00\\x00\\x00\\x00\\xb20@\\xb7\\x00\\x00\\x00\\x00\\xc7l\\x02\\xf3\\x00\\x00\\x00\\x00\\x98H\\xd8\\x1b\\x00\\x00\\x00\\x00\\x83c\\xb2v\", b'\\x00\\x00\\x00\\x00o\\xfe1{\\x00\\x00\\x00\\x00\\xfd\\xa6\\x9f\\xf0\\x00\\x00\\x00\\x008\\xb0\\xe4\\xab\\x00\\x00\\x00\\x00:jd\\x1e\\x00\\x00\\x00\\x00a\\xfb\\xbe\\xc0', b'\\x00\\x00\\x00\\x00C}\\x84R\\x00\\x00\\x00\\x00\\x9b]\\xb2\\x85\\x00\\x00\\x00\\x00\\xaf\\x88\\x1c\\xb5\\x00\\x00\\x00\\x00%\\x00\\x98W\\x00\\x00\\x00\\x00\\xf2\\xd1L\\xc4', b'\\x00\\x00\\x00\\x00M\\xd8k\\x8f\\x00\\x00\\x00\\x00\\xc6\\xe9\\xfe\\xe8\\x00\\x00\\x00\\x00\\xf4\\xd8\\xa1*\\x00\\x00\\x00\\x00\\xb1\\x84\\xd7\\xd5\\x00\\x00\\x00\\x00\\x05\\x9c\\xc8$', b'\\x00\\x00\\x00\\x00\\x99\\xbcCL\\x00\\x00\\x00\\x00\\x9e~\\x07\\x05\\x00\\x00\\x00\\x00\\x93\\x8a\\xa7\\xc7\\x00\\x00\\x00\\x00\\xaaA\\x04\\x03\\x00\\x00\\x00\\x00 \\xa8\\x11\\x94', b'\\x00\\x00\\x00\\x00DA\\xd6\\x84\\x00\\x00\\x00\\x00u\\x0b\\xb1h\\x00\\x00\\x00\\x00e\\xe3\\xc5\\x03\\x00\\x00\\x00\\x00R\\xf5\\x8d+\\x00\\x00\\x00\\x00\\x1c\\xf1\\xd7L', b'\\x00\\x00\\x00\\x00\\x82We\\xf4\\x00\\x00\\x00\\x00\\xb3R9\\xb4\\x00\\x00\\x00\\x00\\xcfi\\xc9\\xd7\\x00\\x00\\x00\\x00\\x1c\\xe6(\\xc7\\x00\\x00\\x00\\x00\\xc7~\\x1a\\xd4', b'\\x00\\x00\\x00\\x00\\x0f\\xa2\\xa0\\xa5\\x00\\x00\\x00\\x00\\x15\\x96`Y\\x00\\x00\\x00\\x00\\x9b\\xde\\x1d\\xe5\\x00\\x00\\x00\\x009\\xa1]\\x91\\x00\\x00\\x00\\x00g\\xda8\\x08', b'\\x00\\x00\\x00\\x00\\x16\\xf5\\x06\\xe9\\x00\\x00\\x00\\x00\\x14\\x8199\\x00\\x00\\x00\\x00M\\xe3\\xad\\xc9\\x00\\x00\\x00\\x00\\x02/\\x85j\\x00\\x00\\x00\\x00\\x06~\\xf7\\x98', b'\\x00\\x00\\x00\\x00q\\x98\\xb9\\x80\\x00\\x00\\x00\\x00\\xecK\\xf3\\xef\\x00\\x00\\x00\\x00\\x0b\\x92\\x1b\\x12\\x00\\x00\\x00\\x00\\x90\\xb7\\x10\\xcd\\x00\\x00\\x00\\x00O\\xc9\\xba\\x19', b'\\x00\\x00\\x00\\x00U\\x845*\\x00\\x00\\x00\\x00\\xc4\\xa5\\xae\\x1c\\x00\\x00\\x00\\x00m\\xa03\\xa9\\x00\\x00\\x00\\x00\\x8c\\x92\\xdd?\\x00\\x00\\x00\\x00\\xe3\\xa5\\xb3)', b'\\x00\\x00\\x00\\x00\\xda\\xee\\x05\\x06\\x00\\x00\\x00\\x00\\x0cI\\x1a-\\x00\\x00\\x00\\x00p\\xca\\x15\\xe0\\x00\\x00\\x00\\x00\\xc7\\xfaL$\\x00\\x00\\x00\\x00\\xa8\\xce\\x1e\\x07', b'\\x00\\x00\\x00\\x00\\x13\\xc2\\xeb\\xa0\\x00\\x00\\x00\\x00\\xe6)\\xee\\xdc\\x00\\x00\\x00\\x004Da\\xf3\\x00\\x00\\x00\\x00\\\\\\xfd\\xd15\\x00\\x00\\x00\\x00w\\xf1F\\xe0', b'\\x00\\x00\\x00\\x00\\x129\\x7f\\xa4\\x00\\x00\\x00\\x002E<\\xd7\\x00\\x00\\x00\\x00Mj\\x96\\xe9\\x00\\x00\\x00\\x00m\\xad\\x85\\xea\\x00\\x00\\x00\\x00b\\xe5\\xdd\\xa5', b'\\x00\\x00\\x00\\x00W\\xc8Z\\x9c\\x00\\x00\\x00\\x00,$7]\\x00\\x00\\x00\\x00\\x0e\\xcb\\xa91\\x00\\x00\\x00\\x00\\xe7\\x9d\\xdb;\\x00\\x00\\x00\\x00\\x1a\\x05\\xe3Z', b'\\x00\\x00\\x00\\x00VW\\x88L\\x00\\x00\\x00\\x00\\xed<\\xb0\\x86\\x00\\x00\\x00\\x00k[\\xcf\\xba\\x00\\x00\\x00\\x00;:\\xf0V\\x00\\x00\\x00\\x00\\xefK\\xfa\\xc5', b'\\x00\\x00\\x00\\x00\\x8e\\xf9\\x89q\\x00\\x00\\x00\\x00\\xb6V[\\xf2\\x00\\x00\\x00\\x00]\\x86\\x96D\\x00\\x00\\x00\\x00\\x02\\x0e\\xf7o\\x00\\x00\\x00\\x00H\\xadSc', b'\\x00\\x00\\x00\\x00\\xd9\\xb0\\x99;\\x00\\x00\\x00\\x00\\xad\\xb0\\xac\\x0f\\x00\\x00\\x00\\x00f\\x8c\\x0fu\\x00\\x00\\x00\\x001Cn\\x9c\\x00\\x00\\x00\\x00A#o\\xe0', b'\\x00\\x00\\x00\\x00\\x8fU\\x93G\\x00\\x00\\x00\\x00KF\\xc7\\n\\x00\\x00\\x00\\x00\\xad\\xcesa\\x00\\x00\\x00\\x00\\x0b|\\xe7M\\x00\\x00\\x00\\x00\\x91\\xd3J;', b'\\x00\\x00\\x00\\x00\\xcc3h\\x8a\\x00\\x00\\x00\\x00\\x89h\\xe8g\\x00\\x00\\x00\\x00\\xf5\\xc7\\xca\\x85\\x00\\x00\\x00\\x00\\x1d/\\x19+\\x00\\x00\\x00\\x00\\xe3Q\\xa6G', b'\\x00\\x00\\x00\\x00\\x05\\xd7>x\\x00\\x00\\x00\\x00-e\\xdaG\\x00\\x00\\x00\\x00\\x16\\xb0\\x1e\\xee\\x00\\x00\\x00\\x00\\x08y\\xb1\\xb9\\x00\\x00\\x00\\x00\\t\\x0c\\xa3-', b'\\x00\\x00\\x00\\x00\\t\\xe6\\xce7\\x00\\x00\\x00\\x00\\x14.J7\\x00\\x00\\x00\\x00\\x05\\x96?q\\x00\\x00\\x00\\x00\\x0eM\\xd2\\x17\\x00\\x00\\x00\\x00\\x13\\x8c\\xea\\x19', b'\\x00\\x00\\x00\\x00\\xc6\\xe9\"\\xfb\\x00\\x00\\x00\\x00\\x10P[0\\x00\\x00\\x00\\x00.\\x91\\xf3\\x92\\x00\\x00\\x00\\x00\\xf5-\\xe6\\xc7\\x00\\x00\\x00\\x00\\x05\\x9exQ', b'\\x00\\x00\\x00\\x00v\\x80\\xf9/\\x00\\x00\\x00\\x00\\xd2`\\x98\\x18\\x00\\x00\\x00\\x00\\x82nn\\xdc\\x00\\x00\\x00\\x00T\\x0e3\\x94\\x00\\x00\\x00\\x00\\xe8\\xbe\\xf0\\xd9', b'\\x00\\x00\\x00\\x00\\xb3\\xefsS\\x00\\x00\\x00\\x00x\\xa1\\xbb\\x05\\x00\\x00\\x00\\x00Wv\\xc3\\xf9\\x00\\x00\\x00\\x00Z\\xb3\\xa2V\\x00\\x00\\x00\\x0045\\xa9H', b'\\x00\\x00\\x00\\x00\\xff\\x13\\xc5=\\x00\\x00\\x00\\x00d\\xf0b\\x12\\x00\\x00\\x00\\x00\\x99\\xa3\\xf8\\xaf\\x00\\x00\\x00\\x00\\x9bW\\xb4\\xf8\\x00\\x00\\x00\\x00HiY\\x8a', b'\\x00\\x00\\x00\\x00\\xd9E\\xe8\\xf9\\x00\\x00\\x00\\x00]S\\xf80\\x00\\x00\\x00\\x00&d\\xd0\\x19\\x00\\x00\\x00\\x00)\\x83\\xea\\xc5\\x00\\x00\\x00\\x00\\x84\\x98\\x9dO', b'\\x00\\x00\\x00\\x00#\\xba\\xea)\\x00\\x00\\x00\\x00\\x819S\\x9a\\x00\\x00\\x00\\x00~\\xcf\\xb7n\\x00\\x00\\x00\\x00\\xbd\\x8b\\xebC\\x00\\x00\\x00\\x00\\xfa04\\xa8', b'\\x00\\x00\\x00\\x00\\xb6i\\x1f&\\x00\\x00\\x00\\x00[c\\xed\\x1e\\x00\\x00\\x00\\x00\\xf7\\xb3b\\xfa\\x00\\x00\\x00\\x00\\x91ez\\xe6\\x00\\x00\\x00\\x001\\xc2\\x06x', b'\\x00\\x00\\x00\\x00\\xf7|\\x95\\x82\\x00\\x00\\x00\\x00}\\xae\\x05\\xef\\x00\\x00\\x00\\x003sP\\x0b\\x00\\x00\\x00\\x00\\xd7\\xdd\\xf8\\xcf\\x00\\x00\\x00\\x00h\\x9a\\x9c\\x1d', b'\\x00\\x00\\x00\\x00\\xacN\\xbc~\\x00\\x00\\x00\\x00U\\x8fZt\\x00\\x00\\x00\\x00\\xf7=\\xd0\\xe9\\x00\\x00\\x00\\x00\\xd5p\\xd6\\x1e\\x00\\x00\\x00\\x00\\x86\\x9c\\x9d<', b'\\x00\\x00\\x00\\x00\\x0c\\xe6\\x00\\x8c\\x00\\x00\\x00\\x00\\x0c\\x19\\xca[\\x00\\x00\\x00\\x00\\x00\\xe9\\x96\\xb5\\x00\\x00\\x00\\x00\\x026$\\xae\\x00\\x00\\x00\\x00\\x01@\\xbd\\xf4', b'\\x00\\x00\\x00\\x00\\x0b=\\xfe$\\x00\\x00\\x00\\x00\\r\\xb4y:\\x00\\x00\\x00\\x00\\x01Y\\xcb\\xb3\\x00\\x00\\x00\\x00\\x0e\\xbaEn\\x00\\x00\\x00\\x00\\x02a\"\\x84'])"
      ]
     },
     "execution_count": 76,
     "metadata": {},
     "output_type": "execute_result"
    }
   ],
   "source": []
  },
  {
   "cell_type": "code",
   "execution_count": null,
   "metadata": {},
   "outputs": [
    {
     "ename": "TypeError",
     "evalue": "'MinHash' object is not iterable",
     "output_type": "error",
     "traceback": [
      "\u001b[1;31m---------------------------------------------------------------------------\u001b[0m",
      "\u001b[1;31mTypeError\u001b[0m                                 Traceback (most recent call last)",
      "Cell \u001b[1;32mIn[31], line 1\u001b[0m\n\u001b[1;32m----> 1\u001b[0m full_map \u001b[38;5;241m=\u001b[39m \u001b[38;5;28;43mdict\u001b[39;49m\u001b[43m(\u001b[49m\u001b[43mfull\u001b[49m\u001b[43m)\u001b[49m\n\u001b[0;32m      2\u001b[0m slice_map \u001b[38;5;241m=\u001b[39m \u001b[38;5;28mdict\u001b[39m(\u001b[38;5;28mslice\u001b[39m)\n\u001b[0;32m      3\u001b[0m st \u001b[38;5;241m=\u001b[39m \u001b[38;5;28mset\u001b[39m(full_map\u001b[38;5;241m.\u001b[39mkeys())\u001b[38;5;241m.\u001b[39mintersection(\u001b[38;5;28mset\u001b[39m(slice_map\u001b[38;5;241m.\u001b[39mkeys()))\n",
      "\u001b[1;31mTypeError\u001b[0m: 'MinHash' object is not iterable"
     ]
    }
   ],
   "source": [
    "full_map = dict(full)\n",
    "slice_map = dict(slice)\n",
    "st = set(full_map.keys()).intersection(set(slice_map.keys()))"
   ]
  },
  {
   "cell_type": "code",
   "execution_count": null,
   "metadata": {},
   "outputs": [
    {
     "data": {
      "image/png": "[encoded data removed]",
      "text/plain": [
       "<Figure size 640x480 with 1 Axes>"
      ]
     },
     "metadata": {},
     "output_type": "display_data"
    }
   ],
   "source": [
    "array_full = []\n",
    "array_slice = []\n",
    "for key in st:\n",
    "  array_full.append(full_map[key])\n",
    "  array_slice.append(slice_map[key])\n",
    "plt.scatter(array_full, array_slice,s=1, color='red')\n",
    "plt.show()"
   ]
  },
  {
   "cell_type": "code",
   "execution_count": null,
   "metadata": {},
   "outputs": [],
   "source": []
  }
 ],
 "metadata": {
  "kernelspec": {
   "display_name": "Python 3",
   "language": "python",
   "name": "python3"
  },
  "language_info": {
   "codemirror_mode": {
    "name": "ipython",
    "version": 3
   },
   "file_extension": ".py",
   "mimetype": "text/x-python",
   "name": "python",
   "nbconvert_exporter": "python",
   "pygments_lexer": "ipython3",
   "version": "3.10.11"
  }
 },
 "nbformat": 4,
 "nbformat_minor": 2
}
