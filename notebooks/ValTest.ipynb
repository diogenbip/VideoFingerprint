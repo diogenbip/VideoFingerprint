{
 "cells": [
  {
   "cell_type": "code",
   "execution_count": 14,
   "metadata": {},
   "outputs": [],
   "source": [
    "import sys\n",
    "sys.path.append(\"../\")"
   ]
  },
  {
   "cell_type": "code",
   "execution_count": 15,
   "metadata": {},
   "outputs": [],
   "source": [
    "from libs.ContentDataSet import ContentDataset"
   ]
  },
  {
   "cell_type": "code",
   "execution_count": 32,
   "metadata": {},
   "outputs": [],
   "source": [
    "valDataset = ContentDataset(\"../data/compressed_val/\")\n",
    "licDataset = ContentDataset(\"../data/test/\")"
   ]
  },
  {
   "cell_type": "code",
   "execution_count": 34,
   "metadata": {},
   "outputs": [],
   "source": [
    "audioVal = valDataset.content_list[0][1]\n",
    "audioLic = licDataset.content_list[0][1]"
   ]
  },
  {
   "cell_type": "code",
   "execution_count": 43,
   "metadata": {},
   "outputs": [
    {
     "name": "stdout",
     "output_type": "stream",
     "text": [
      "[[7.967333333333333, 13.764000000000001, '1hnanoy0dcrb4bz50flv2q5rb3izwtgm.mp4', 0.660062267783156], [3.2066666666666666, 26.09733333333333, '1hnanoy0dcrb4bz50flv2q5rb3izwtgm.mp4', 0.6602341355345817], [10.384666666666668, 20.793999999999997, '1hnanoy0dcrb4bz50flv2q5rb3izwtgm.mp4', 0.6605746051094126], [7.794666666666667, 4.958, '1hnanoy0dcrb4bz50flv2q5rb3izwtgm.mp4', 0.6605801807693916], [2.6146666666666665, 16.798, '1hnanoy0dcrb4bz50flv2q5rb3izwtgm.mp4', 0.6608091954381032], [11.716666666666667, 3.9219999999999997, '1hnanoy0dcrb4bz50flv2q5rb3izwtgm.mp4', 0.6613655236667815], [6.783333333333333, 14.208, '1hnanoy0dcrb4bz50flv2q5rb3izwtgm.mp4', 0.6614441501085564], [7.8933333333333335, 11.297333333333334, '1hnanoy0dcrb4bz50flv2q5rb3izwtgm.mp4', 0.6615763354304247], [10.409333333333333, 8.756666666666666, '1hnanoy0dcrb4bz50flv2q5rb3izwtgm.mp4', 0.6618484308323881], [10.680666666666667, 12.555333333333332, '1hnanoy0dcrb4bz50flv2q5rb3izwtgm.mp4', 0.6624944720111331], [11.050666666666666, 14.454666666666666, '1hnanoy0dcrb4bz50flv2q5rb3izwtgm.mp4', 0.6646705886936534], [4.094666666666667, 7.350666666666667, '1hnanoy0dcrb4bz50flv2q5rb3izwtgm.mp4', 0.6653521687226422], [10.877999999999998, 10.236666666666668, '1hnanoy0dcrb4bz50flv2q5rb3izwtgm.mp4', 0.6659014070250026], [8.115333333333334, 8.682666666666668, '1hnanoy0dcrb4bz50flv2q5rb3izwtgm.mp4', 0.6662537746917736], [12.259333333333332, 21.386000000000003, '1hnanoy0dcrb4bz50flv2q5rb3izwtgm.mp4', 0.6685546219798566], [11.174, 2.442, '1hnanoy0dcrb4bz50flv2q5rb3izwtgm.mp4', 0.6686937113321325], [10.088666666666665, 19.092, '1hnanoy0dcrb4bz50flv2q5rb3izwtgm.mp4', 0.668797261734235], [8.51, 27.676, '1hnanoy0dcrb4bz50flv2q5rb3izwtgm.mp4', 0.6693213337151869], [1.628, 21.682000000000002, '1hnanoy0dcrb4bz50flv2q5rb3izwtgm.mp4', 0.6693797172636875], [10.187333333333333, 5.9446666666666665, '1hnanoy0dcrb4bz50flv2q5rb3izwtgm.mp4', 0.6695316578417481], [2.442, 22.94, '1hnanoy0dcrb4bz50flv2q5rb3izwtgm.mp4', 0.6695329201151279], [2.7873333333333337, 17.242, '1hnanoy0dcrb4bz50flv2q5rb3izwtgm.mp4', 0.6704698914758953], [2.2199999999999998, 28.194, '1hnanoy0dcrb4bz50flv2q5rb3izwtgm.mp4', 0.6710181131898165], [7.868666666666667, 3.6753333333333336, '1hnanoy0dcrb4bz50flv2q5rb3izwtgm.mp4', 0.6717624443944471], [6.487333333333334, 28.884666666666664, '1hnanoy0dcrb4bz50flv2q5rb3izwtgm.mp4', 0.6734800759585242], [0.222, 27.330666666666666, '1hnanoy0dcrb4bz50flv2q5rb3izwtgm.mp4', 0.6735067745844665], [4.489333333333334, 26.516666666666666, '1hnanoy0dcrb4bz50flv2q5rb3izwtgm.mp4', 0.6754637737562431], [10.483333333333333, 11.692, '1hnanoy0dcrb4bz50flv2q5rb3izwtgm.mp4', 0.6756348455843347], [1.2826666666666666, 3.009333333333333, '1hnanoy0dcrb4bz50flv2q5rb3izwtgm.mp4', 0.675881836448677], [9.200666666666667, 18.47533333333333, '1hnanoy0dcrb4bz50flv2q5rb3izwtgm.mp4', 0.6763248074745611], [10.360000000000001, 8.756666666666666, '1hnanoy0dcrb4bz50flv2q5rb3izwtgm.mp4', 0.6764889189973871], [0.74, 10.804, '1hnanoy0dcrb4bz50flv2q5rb3izwtgm.mp4', 0.6795425346798718], [12.037333333333333, 8.312666666666667, '1hnanoy0dcrb4bz50flv2q5rb3izwtgm.mp4', 0.6796559520372544], [4.415333333333334, 18.721999999999998, '1hnanoy0dcrb4bz50flv2q5rb3izwtgm.mp4', 0.6806017653708321], [0.8386666666666667, 6.339333333333333, '1hnanoy0dcrb4bz50flv2q5rb3izwtgm.mp4', 0.6816117148953194], [13.098, 26.516666666666666, '1hnanoy0dcrb4bz50flv2q5rb3izwtgm.mp4', 0.6817644600966991], [3.7, 22.29866666666667, '1hnanoy0dcrb4bz50flv2q5rb3izwtgm.mp4', 0.6823562198947754], [1.776, 21.410666666666664, '1hnanoy0dcrb4bz50flv2q5rb3izwtgm.mp4', 0.6847376926293267], [9.693999999999999, 4.094666666666667, '1hnanoy0dcrb4bz50flv2q5rb3izwtgm.mp4', 0.6870081803860535], [3.7246666666666663, 5.9446666666666665, '1hnanoy0dcrb4bz50flv2q5rb3izwtgm.mp4', 0.6873476463046894]]\n"
     ]
    }
   ],
   "source": [
    "search = []\n",
    "for t,f in enumerate(audioVal[:-1]):\n",
    "  res = audioLSH.search(f,valDataset.content_list[0][0],t,  add_to_bucket = False)\n",
    "  if(res != None):\n",
    "    search.append([t*1.48/60,res[2]*1.48/60,res[1],res[3]])\n",
    "\n",
    "search.sort(key=lambda x: x[3])\n",
    "print(search)\n",
    "    "
   ]
  },
  {
   "cell_type": "code",
   "execution_count": null,
   "metadata": {},
   "outputs": [],
   "source": []
  }
 ],
 "metadata": {
  "kernelspec": {
   "display_name": "Python 3",
   "language": "python",
   "name": "python3"
  },
  "language_info": {
   "codemirror_mode": {
    "name": "ipython",
    "version": 3
   },
   "file_extension": ".py",
   "mimetype": "text/x-python",
   "name": "python",
   "nbconvert_exporter": "python",
   "pygments_lexer": "ipython3",
   "version": "3.10.11"
  }
 },
 "nbformat": 4,
 "nbformat_minor": 2
}
